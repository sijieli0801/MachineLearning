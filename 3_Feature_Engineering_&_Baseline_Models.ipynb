{
  "cells": [
    {
      "cell_type": "markdown",
      "metadata": {
        "id": "view-in-github",
        "colab_type": "text"
      },
      "source": [
        "<a href=\"https://colab.research.google.com/github/sijieli0801/MachineLearning/blob/main/3_Feature_Engineering_%26_Baseline_Models.ipynb\" target=\"_parent\"><img src=\"https://colab.research.google.com/assets/colab-badge.svg\" alt=\"Open In Colab\"/></a>"
      ]
    },
    {
      "cell_type": "markdown",
      "metadata": {
        "id": "qRAxgwfrCFkI"
      },
      "source": [
        "# Load Libraries and Data Sets"
      ]
    },
    {
      "cell_type": "code",
      "execution_count": null,
      "metadata": {
        "colab": {
          "base_uri": "https://localhost:8080/"
        },
        "id": "pwV5x_xYCGoC",
        "outputId": "759951af-7ac4-4ff4-805f-48e0ea02aed1"
      },
      "outputs": [
        {
          "output_type": "stream",
          "name": "stdout",
          "text": [
            "Drive already mounted at /drive; to attempt to forcibly remount, call drive.mount(\"/drive\", force_remount=True).\n"
          ]
        }
      ],
      "source": [
        "from google.colab import drive\n",
        "drive.mount('/drive')\n",
        "import numpy as np\n",
        "import pandas as pd\n",
        "from sklearn.preprocessing import OneHotEncoder\n",
        "from sklearn.svm import SVC\n",
        "from sklearn.linear_model import LogisticRegression\n",
        "from sklearn.ensemble import RandomForestClassifier\n",
        "from sklearn.metrics import confusion_matrix"
      ]
    },
    {
      "cell_type": "code",
      "execution_count": null,
      "metadata": {
        "id": "vCmXurjCCUBy"
      },
      "outputs": [],
      "source": [
        "dta = pd.read_csv('/drive/MyDrive/MSCA_Capstone_Project/Data/Patient_Data/CleanedClusteredDta.csv')\n",
        "plan = pd.read_csv('/drive/MyDrive/MSCA_Capstone_Project/Data/Patient_Data/df_PLAN.csv')\n",
        "med = pd.read_csv('/drive/MyDrive/MSCA_Capstone_Project/Data/Patient_Data/df_MED.csv')\n",
        "exam = pd.read_csv('/drive/MyDrive/MSCA_Capstone_Project/Data/Patient_Data/df_EXAM.csv')\n",
        "ros = pd.read_csv('/drive/MyDrive/MSCA_Capstone_Project/Data/Patient_Data/df_ROS.csv')\n",
        "immune = pd.read_csv('/drive/MyDrive/MSCA_Capstone_Project/Data/Patient_Data/df_immune.csv')"
      ]
    },
    {
      "cell_type": "code",
      "execution_count": null,
      "metadata": {
        "colab": {
          "base_uri": "https://localhost:8080/"
        },
        "id": "Pt4Uio86Ce_3",
        "outputId": "74d06528-eed8-4044-850a-d9125fe44025"
      },
      "outputs": [
        {
          "output_type": "execute_result",
          "data": {
            "text/plain": [
              "      code  index  PATIENT_NUM  ADMIT_DATE  DISCH_DATE  GENDER  VISIT_TYPE  \\\n",
              "0  1166192      0      1166159  1996-03-18  1996-03-18       1         6.0   \n",
              "1  1166525      1      1166159  1996-03-19  1996-03-19       1        98.0   \n",
              "2  1166543      2      1166159  1996-03-25  1996-03-25       1         6.0   \n",
              "3  1167065      3      1166159  1996-03-18  1996-03-18       1        96.0   \n",
              "4  1167480      4      1166159  1996-03-25  1996-03-25       1        96.0   \n",
              "\n",
              "    AGE  FAMILY_HYPERTENSION_NUM  HYPERTENSION_VISIT  ...  \\\n",
              "0  75.0                        1                   0  ...   \n",
              "1  75.0                        1                   0  ...   \n",
              "2  75.0                        1                   0  ...   \n",
              "3  75.0                        1                   1  ...   \n",
              "4  75.0                        1                   0  ...   \n",
              "\n",
              "   RESPIRATION_DESCRIPTION  PULSEOXYGEN  PULSEOXYGEN_DESCRIPTION  BMI  \\\n",
              "0                      NaN          NaN                      NaN  NaN   \n",
              "1                      NaN          NaN                      NaN  NaN   \n",
              "2                      NaN          NaN                      NaN  NaN   \n",
              "3                      NaN          NaN                      NaN  NaN   \n",
              "4                      NaN          NaN                      NaN  NaN   \n",
              "\n",
              "   NON_SMOKER  NON_DRINKER  REGULAR_EXERCISER  NON_ALLERGY HOS_PERIOD cluster  \n",
              "0           1            1                  0            0          0       1  \n",
              "1           1            1                  0            0          0       1  \n",
              "2           1            1                  0            0          0       1  \n",
              "3           1            1                  0            0          0       1  \n",
              "4           1            1                  0            0          0       1  \n",
              "\n",
              "[5 rows x 31 columns]"
            ],
            "text/html": [
              "\n",
              "  <div id=\"df-88637ebc-51ae-4bc6-ac6e-de7b09d60b99\">\n",
              "    <div class=\"colab-df-container\">\n",
              "      <div>\n",
              "<style scoped>\n",
              "    .dataframe tbody tr th:only-of-type {\n",
              "        vertical-align: middle;\n",
              "    }\n",
              "\n",
              "    .dataframe tbody tr th {\n",
              "        vertical-align: top;\n",
              "    }\n",
              "\n",
              "    .dataframe thead th {\n",
              "        text-align: right;\n",
              "    }\n",
              "</style>\n",
              "<table border=\"1\" class=\"dataframe\">\n",
              "  <thead>\n",
              "    <tr style=\"text-align: right;\">\n",
              "      <th></th>\n",
              "      <th>code</th>\n",
              "      <th>index</th>\n",
              "      <th>PATIENT_NUM</th>\n",
              "      <th>ADMIT_DATE</th>\n",
              "      <th>DISCH_DATE</th>\n",
              "      <th>GENDER</th>\n",
              "      <th>VISIT_TYPE</th>\n",
              "      <th>AGE</th>\n",
              "      <th>FAMILY_HYPERTENSION_NUM</th>\n",
              "      <th>HYPERTENSION_VISIT</th>\n",
              "      <th>...</th>\n",
              "      <th>RESPIRATION_DESCRIPTION</th>\n",
              "      <th>PULSEOXYGEN</th>\n",
              "      <th>PULSEOXYGEN_DESCRIPTION</th>\n",
              "      <th>BMI</th>\n",
              "      <th>NON_SMOKER</th>\n",
              "      <th>NON_DRINKER</th>\n",
              "      <th>REGULAR_EXERCISER</th>\n",
              "      <th>NON_ALLERGY</th>\n",
              "      <th>HOS_PERIOD</th>\n",
              "      <th>cluster</th>\n",
              "    </tr>\n",
              "  </thead>\n",
              "  <tbody>\n",
              "    <tr>\n",
              "      <th>0</th>\n",
              "      <td>1166192</td>\n",
              "      <td>0</td>\n",
              "      <td>1166159</td>\n",
              "      <td>1996-03-18</td>\n",
              "      <td>1996-03-18</td>\n",
              "      <td>1</td>\n",
              "      <td>6.0</td>\n",
              "      <td>75.0</td>\n",
              "      <td>1</td>\n",
              "      <td>0</td>\n",
              "      <td>...</td>\n",
              "      <td>NaN</td>\n",
              "      <td>NaN</td>\n",
              "      <td>NaN</td>\n",
              "      <td>NaN</td>\n",
              "      <td>1</td>\n",
              "      <td>1</td>\n",
              "      <td>0</td>\n",
              "      <td>0</td>\n",
              "      <td>0</td>\n",
              "      <td>1</td>\n",
              "    </tr>\n",
              "    <tr>\n",
              "      <th>1</th>\n",
              "      <td>1166525</td>\n",
              "      <td>1</td>\n",
              "      <td>1166159</td>\n",
              "      <td>1996-03-19</td>\n",
              "      <td>1996-03-19</td>\n",
              "      <td>1</td>\n",
              "      <td>98.0</td>\n",
              "      <td>75.0</td>\n",
              "      <td>1</td>\n",
              "      <td>0</td>\n",
              "      <td>...</td>\n",
              "      <td>NaN</td>\n",
              "      <td>NaN</td>\n",
              "      <td>NaN</td>\n",
              "      <td>NaN</td>\n",
              "      <td>1</td>\n",
              "      <td>1</td>\n",
              "      <td>0</td>\n",
              "      <td>0</td>\n",
              "      <td>0</td>\n",
              "      <td>1</td>\n",
              "    </tr>\n",
              "    <tr>\n",
              "      <th>2</th>\n",
              "      <td>1166543</td>\n",
              "      <td>2</td>\n",
              "      <td>1166159</td>\n",
              "      <td>1996-03-25</td>\n",
              "      <td>1996-03-25</td>\n",
              "      <td>1</td>\n",
              "      <td>6.0</td>\n",
              "      <td>75.0</td>\n",
              "      <td>1</td>\n",
              "      <td>0</td>\n",
              "      <td>...</td>\n",
              "      <td>NaN</td>\n",
              "      <td>NaN</td>\n",
              "      <td>NaN</td>\n",
              "      <td>NaN</td>\n",
              "      <td>1</td>\n",
              "      <td>1</td>\n",
              "      <td>0</td>\n",
              "      <td>0</td>\n",
              "      <td>0</td>\n",
              "      <td>1</td>\n",
              "    </tr>\n",
              "    <tr>\n",
              "      <th>3</th>\n",
              "      <td>1167065</td>\n",
              "      <td>3</td>\n",
              "      <td>1166159</td>\n",
              "      <td>1996-03-18</td>\n",
              "      <td>1996-03-18</td>\n",
              "      <td>1</td>\n",
              "      <td>96.0</td>\n",
              "      <td>75.0</td>\n",
              "      <td>1</td>\n",
              "      <td>1</td>\n",
              "      <td>...</td>\n",
              "      <td>NaN</td>\n",
              "      <td>NaN</td>\n",
              "      <td>NaN</td>\n",
              "      <td>NaN</td>\n",
              "      <td>1</td>\n",
              "      <td>1</td>\n",
              "      <td>0</td>\n",
              "      <td>0</td>\n",
              "      <td>0</td>\n",
              "      <td>1</td>\n",
              "    </tr>\n",
              "    <tr>\n",
              "      <th>4</th>\n",
              "      <td>1167480</td>\n",
              "      <td>4</td>\n",
              "      <td>1166159</td>\n",
              "      <td>1996-03-25</td>\n",
              "      <td>1996-03-25</td>\n",
              "      <td>1</td>\n",
              "      <td>96.0</td>\n",
              "      <td>75.0</td>\n",
              "      <td>1</td>\n",
              "      <td>0</td>\n",
              "      <td>...</td>\n",
              "      <td>NaN</td>\n",
              "      <td>NaN</td>\n",
              "      <td>NaN</td>\n",
              "      <td>NaN</td>\n",
              "      <td>1</td>\n",
              "      <td>1</td>\n",
              "      <td>0</td>\n",
              "      <td>0</td>\n",
              "      <td>0</td>\n",
              "      <td>1</td>\n",
              "    </tr>\n",
              "  </tbody>\n",
              "</table>\n",
              "<p>5 rows × 31 columns</p>\n",
              "</div>\n",
              "      <button class=\"colab-df-convert\" onclick=\"convertToInteractive('df-88637ebc-51ae-4bc6-ac6e-de7b09d60b99')\"\n",
              "              title=\"Convert this dataframe to an interactive table.\"\n",
              "              style=\"display:none;\">\n",
              "        \n",
              "  <svg xmlns=\"http://www.w3.org/2000/svg\" height=\"24px\"viewBox=\"0 0 24 24\"\n",
              "       width=\"24px\">\n",
              "    <path d=\"M0 0h24v24H0V0z\" fill=\"none\"/>\n",
              "    <path d=\"M18.56 5.44l.94 2.06.94-2.06 2.06-.94-2.06-.94-.94-2.06-.94 2.06-2.06.94zm-11 1L8.5 8.5l.94-2.06 2.06-.94-2.06-.94L8.5 2.5l-.94 2.06-2.06.94zm10 10l.94 2.06.94-2.06 2.06-.94-2.06-.94-.94-2.06-.94 2.06-2.06.94z\"/><path d=\"M17.41 7.96l-1.37-1.37c-.4-.4-.92-.59-1.43-.59-.52 0-1.04.2-1.43.59L10.3 9.45l-7.72 7.72c-.78.78-.78 2.05 0 2.83L4 21.41c.39.39.9.59 1.41.59.51 0 1.02-.2 1.41-.59l7.78-7.78 2.81-2.81c.8-.78.8-2.07 0-2.86zM5.41 20L4 18.59l7.72-7.72 1.47 1.35L5.41 20z\"/>\n",
              "  </svg>\n",
              "      </button>\n",
              "      \n",
              "  <style>\n",
              "    .colab-df-container {\n",
              "      display:flex;\n",
              "      flex-wrap:wrap;\n",
              "      gap: 12px;\n",
              "    }\n",
              "\n",
              "    .colab-df-convert {\n",
              "      background-color: #E8F0FE;\n",
              "      border: none;\n",
              "      border-radius: 50%;\n",
              "      cursor: pointer;\n",
              "      display: none;\n",
              "      fill: #1967D2;\n",
              "      height: 32px;\n",
              "      padding: 0 0 0 0;\n",
              "      width: 32px;\n",
              "    }\n",
              "\n",
              "    .colab-df-convert:hover {\n",
              "      background-color: #E2EBFA;\n",
              "      box-shadow: 0px 1px 2px rgba(60, 64, 67, 0.3), 0px 1px 3px 1px rgba(60, 64, 67, 0.15);\n",
              "      fill: #174EA6;\n",
              "    }\n",
              "\n",
              "    [theme=dark] .colab-df-convert {\n",
              "      background-color: #3B4455;\n",
              "      fill: #D2E3FC;\n",
              "    }\n",
              "\n",
              "    [theme=dark] .colab-df-convert:hover {\n",
              "      background-color: #434B5C;\n",
              "      box-shadow: 0px 1px 3px 1px rgba(0, 0, 0, 0.15);\n",
              "      filter: drop-shadow(0px 1px 2px rgba(0, 0, 0, 0.3));\n",
              "      fill: #FFFFFF;\n",
              "    }\n",
              "  </style>\n",
              "\n",
              "      <script>\n",
              "        const buttonEl =\n",
              "          document.querySelector('#df-88637ebc-51ae-4bc6-ac6e-de7b09d60b99 button.colab-df-convert');\n",
              "        buttonEl.style.display =\n",
              "          google.colab.kernel.accessAllowed ? 'block' : 'none';\n",
              "\n",
              "        async function convertToInteractive(key) {\n",
              "          const element = document.querySelector('#df-88637ebc-51ae-4bc6-ac6e-de7b09d60b99');\n",
              "          const dataTable =\n",
              "            await google.colab.kernel.invokeFunction('convertToInteractive',\n",
              "                                                     [key], {});\n",
              "          if (!dataTable) return;\n",
              "\n",
              "          const docLinkHtml = 'Like what you see? Visit the ' +\n",
              "            '<a target=\"_blank\" href=https://colab.research.google.com/notebooks/data_table.ipynb>data table notebook</a>'\n",
              "            + ' to learn more about interactive tables.';\n",
              "          element.innerHTML = '';\n",
              "          dataTable['output_type'] = 'display_data';\n",
              "          await google.colab.output.renderOutput(dataTable, element);\n",
              "          const docLink = document.createElement('div');\n",
              "          docLink.innerHTML = docLinkHtml;\n",
              "          element.appendChild(docLink);\n",
              "        }\n",
              "      </script>\n",
              "    </div>\n",
              "  </div>\n",
              "  "
            ]
          },
          "metadata": {},
          "execution_count": 161
        }
      ],
      "source": [
        "dta.head()"
      ]
    },
    {
      "cell_type": "code",
      "execution_count": null,
      "metadata": {
        "colab": {
          "base_uri": "https://localhost:8080/"
        },
        "id": "8f2u4y-FClLr",
        "outputId": "ede89ac7-fa3b-46ed-ed1b-a39eae287ea8"
      },
      "outputs": [
        {
          "output_type": "execute_result",
          "data": {
            "text/plain": [
              "(57717, 31)"
            ]
          },
          "metadata": {},
          "execution_count": 162
        }
      ],
      "source": [
        "dta.shape"
      ]
    },
    {
      "cell_type": "code",
      "execution_count": null,
      "metadata": {
        "colab": {
          "base_uri": "https://localhost:8080/"
        },
        "id": "0ZIByP7gCo1S",
        "outputId": "e13d3a82-9b73-4e4b-9a38-95e3b0db76f7"
      },
      "outputs": [
        {
          "output_type": "execute_result",
          "data": {
            "text/plain": [
              "Index(['code', 'index', 'PATIENT_NUM', 'ADMIT_DATE', 'DISCH_DATE', 'GENDER',\n",
              "       'VISIT_TYPE', 'AGE', 'FAMILY_HYPERTENSION_NUM', 'HYPERTENSION_VISIT',\n",
              "       'HYPERTENSION_SEVERITY', 'HYPERTENSION_STATUS', 'DIASTOLIC_BP',\n",
              "       'SYSTOLIC_BP', 'WEIGHT', 'HEIGHT', 'TEMPERATURE', 'PULSE',\n",
              "       'PULSE_DESCRIPTION', 'BP_CUFF_SIZE', 'RESPIRATION',\n",
              "       'RESPIRATION_DESCRIPTION', 'PULSEOXYGEN', 'PULSEOXYGEN_DESCRIPTION',\n",
              "       'BMI', 'NON_SMOKER', 'NON_DRINKER', 'REGULAR_EXERCISER', 'NON_ALLERGY',\n",
              "       'HOS_PERIOD', 'cluster'],\n",
              "      dtype='object')"
            ]
          },
          "metadata": {},
          "execution_count": 163
        }
      ],
      "source": [
        "dta.columns"
      ]
    },
    {
      "cell_type": "markdown",
      "metadata": {
        "id": "fxyLRc0hHZjC"
      },
      "source": [
        "# Feature Engineering"
      ]
    },
    {
      "cell_type": "markdown",
      "metadata": {
        "id": "E8WRJxi1HfQy"
      },
      "source": [
        "## Code"
      ]
    },
    {
      "cell_type": "code",
      "execution_count": null,
      "metadata": {
        "colab": {
          "base_uri": "https://localhost:8080/"
        },
        "id": "FXFRQLfuIEKt",
        "outputId": "ae06acc8-d978-432b-fad4-0575639dce45"
      },
      "outputs": [
        {
          "output_type": "execute_result",
          "data": {
            "text/plain": [
              "count    5.771700e+04\n",
              "mean     2.140169e+07\n",
              "std      1.020444e+07\n",
              "min      8.340200e+04\n",
              "25%      1.349252e+07\n",
              "50%      2.618283e+07\n",
              "75%      2.948106e+07\n",
              "max      3.292484e+07\n",
              "Name: code, dtype: float64"
            ]
          },
          "metadata": {},
          "execution_count": 164
        }
      ],
      "source": [
        "dta['code'].describe()"
      ]
    },
    {
      "cell_type": "code",
      "execution_count": null,
      "metadata": {
        "colab": {
          "base_uri": "https://localhost:8080/"
        },
        "id": "Nu6buFTSCp72",
        "outputId": "378f4479-26ae-4258-fce3-347c8cfbb68e"
      },
      "outputs": [
        {
          "output_type": "execute_result",
          "data": {
            "text/plain": [
              "0"
            ]
          },
          "metadata": {},
          "execution_count": 165
        }
      ],
      "source": [
        "len(dta[dta['code'].isnull()])"
      ]
    },
    {
      "cell_type": "code",
      "execution_count": null,
      "metadata": {
        "id": "cxMV1DsHI_4B"
      },
      "outputs": [],
      "source": [
        "dta['code'] = dta['code'].astype('int')"
      ]
    },
    {
      "cell_type": "markdown",
      "metadata": {
        "id": "m5bjxBfpIH2a"
      },
      "source": [
        "## VISIT (Index)"
      ]
    },
    {
      "cell_type": "code",
      "execution_count": null,
      "metadata": {
        "colab": {
          "base_uri": "https://localhost:8080/"
        },
        "id": "7ia-URDlHt96",
        "outputId": "52b1e817-5284-4e33-a296-a3cf8b105acd"
      },
      "outputs": [
        {
          "output_type": "execute_result",
          "data": {
            "text/plain": [
              "count    57717.000000\n",
              "mean       133.651247\n",
              "std        110.485456\n",
              "min          0.000000\n",
              "25%         52.000000\n",
              "50%        108.000000\n",
              "75%        187.000000\n",
              "max        784.000000\n",
              "Name: index, dtype: float64"
            ]
          },
          "metadata": {},
          "execution_count": 167
        }
      ],
      "source": [
        "dta['index'].describe()"
      ]
    },
    {
      "cell_type": "code",
      "execution_count": null,
      "metadata": {
        "colab": {
          "base_uri": "https://localhost:8080/"
        },
        "id": "cpAknyNPIL09",
        "outputId": "493b8c60-ca39-47d7-8b13-44d561d81711"
      },
      "outputs": [
        {
          "output_type": "execute_result",
          "data": {
            "text/plain": [
              "0"
            ]
          },
          "metadata": {},
          "execution_count": 168
        }
      ],
      "source": [
        "len(dta[dta['index'].isnull()])"
      ]
    },
    {
      "cell_type": "code",
      "execution_count": null,
      "metadata": {
        "id": "X3Ebr9HXIawt"
      },
      "outputs": [],
      "source": [
        "dta['VISIT'] = dta['index']\n",
        "dta.drop('index', axis = 1, inplace = True)"
      ]
    },
    {
      "cell_type": "code",
      "execution_count": null,
      "metadata": {
        "id": "eTjDJt4YIxMu"
      },
      "outputs": [],
      "source": [
        "dta['VISIT'] = dta['VISIT'].astype('int')"
      ]
    },
    {
      "cell_type": "markdown",
      "metadata": {
        "id": "CooVEX97JGTH"
      },
      "source": [
        "## PATIENT_NUM"
      ]
    },
    {
      "cell_type": "code",
      "execution_count": null,
      "metadata": {
        "colab": {
          "base_uri": "https://localhost:8080/"
        },
        "id": "PQ-OBmtWI9fS",
        "outputId": "60eb8905-3f80-4d89-c250-f0717bb6d328"
      },
      "outputs": [
        {
          "output_type": "execute_result",
          "data": {
            "text/plain": [
              "count    5.771700e+04\n",
              "mean     5.027434e+06\n",
              "std      5.396296e+06\n",
              "min      1.091000e+03\n",
              "25%      1.991881e+06\n",
              "50%      4.184366e+06\n",
              "75%      5.596852e+06\n",
              "max      3.210924e+07\n",
              "Name: PATIENT_NUM, dtype: float64"
            ]
          },
          "metadata": {},
          "execution_count": 171
        }
      ],
      "source": [
        "dta['PATIENT_NUM'].describe()"
      ]
    },
    {
      "cell_type": "code",
      "execution_count": null,
      "metadata": {
        "colab": {
          "base_uri": "https://localhost:8080/"
        },
        "id": "1dp6p7WVJ7JQ",
        "outputId": "a7377363-e09f-460f-89bc-9aaa0b18879f"
      },
      "outputs": [
        {
          "output_type": "execute_result",
          "data": {
            "text/plain": [
              "0"
            ]
          },
          "metadata": {},
          "execution_count": 172
        }
      ],
      "source": [
        "len(dta[dta['PATIENT_NUM'].isnull()])"
      ]
    },
    {
      "cell_type": "code",
      "execution_count": null,
      "metadata": {
        "id": "M31PuKUGJ_2X"
      },
      "outputs": [],
      "source": [
        "dta['PATIENT_NUM'] = dta['PATIENT_NUM'].astype('int')"
      ]
    },
    {
      "cell_type": "markdown",
      "metadata": {
        "id": "HM--JG4vLtHF"
      },
      "source": [
        "## DAYS (AMIT_DATE)"
      ]
    },
    {
      "cell_type": "code",
      "execution_count": null,
      "metadata": {
        "colab": {
          "base_uri": "https://localhost:8080/"
        },
        "id": "-V5ZkBmoLwEp",
        "outputId": "8fe7ef9c-24a5-4ef1-ce15-dcebdb29da38"
      },
      "outputs": [
        {
          "output_type": "execute_result",
          "data": {
            "text/plain": [
              "count          57717\n",
              "unique          5953\n",
              "top       2006-04-13\n",
              "freq             237\n",
              "Name: ADMIT_DATE, dtype: object"
            ]
          },
          "metadata": {},
          "execution_count": 174
        }
      ],
      "source": [
        "dta['ADMIT_DATE'].describe()"
      ]
    },
    {
      "cell_type": "code",
      "execution_count": null,
      "metadata": {
        "colab": {
          "base_uri": "https://localhost:8080/"
        },
        "id": "zZTMGRZXL1YR",
        "outputId": "46489ebe-ee1c-4384-99f4-44950f9d85fd"
      },
      "outputs": [
        {
          "output_type": "execute_result",
          "data": {
            "text/plain": [
              "0"
            ]
          },
          "metadata": {},
          "execution_count": 175
        }
      ],
      "source": [
        "len(dta[dta['ADMIT_DATE'].isnull()])"
      ]
    },
    {
      "cell_type": "code",
      "execution_count": null,
      "metadata": {
        "id": "cbcQfgEZL7yi"
      },
      "outputs": [],
      "source": [
        "dta['ADMIT_DATE'] = pd.to_datetime(dta['ADMIT_DATE'])"
      ]
    },
    {
      "cell_type": "code",
      "execution_count": null,
      "metadata": {
        "id": "LIa3B9UIOH93"
      },
      "outputs": [],
      "source": [
        "dta['DAYS'] = dta['ADMIT_DATE'] - dta.merge(dta.groupby('PATIENT_NUM')['ADMIT_DATE'].min(), on = 'PATIENT_NUM', how = 'left')['ADMIT_DATE_y']"
      ]
    },
    {
      "cell_type": "code",
      "execution_count": null,
      "metadata": {
        "id": "IsZhORvLO13c"
      },
      "outputs": [],
      "source": [
        "dta['DAYS'] = dta['DAYS'].dt.days"
      ]
    },
    {
      "cell_type": "markdown",
      "metadata": {
        "id": "A7u8Rk8gR7Tg"
      },
      "source": [
        "## STAY (DISCH_DATE)"
      ]
    },
    {
      "cell_type": "code",
      "execution_count": null,
      "metadata": {
        "colab": {
          "base_uri": "https://localhost:8080/"
        },
        "id": "JrzjhKRMR6tK",
        "outputId": "21ae2b68-e990-4a8c-fb47-8631c4ea0643"
      },
      "outputs": [
        {
          "output_type": "execute_result",
          "data": {
            "text/plain": [
              "count          57717\n",
              "unique          5947\n",
              "top       2006-04-13\n",
              "freq             237\n",
              "Name: DISCH_DATE, dtype: object"
            ]
          },
          "metadata": {},
          "execution_count": 179
        }
      ],
      "source": [
        "dta['DISCH_DATE'].describe()"
      ]
    },
    {
      "cell_type": "code",
      "execution_count": null,
      "metadata": {
        "colab": {
          "base_uri": "https://localhost:8080/"
        },
        "id": "De-L21z8Qjsz",
        "outputId": "c5146ba7-d552-4ad9-a64b-f08fa9ee6380"
      },
      "outputs": [
        {
          "output_type": "execute_result",
          "data": {
            "text/plain": [
              "0"
            ]
          },
          "metadata": {},
          "execution_count": 180
        }
      ],
      "source": [
        "len(dta[dta['DISCH_DATE'].isnull()])"
      ]
    },
    {
      "cell_type": "code",
      "execution_count": null,
      "metadata": {
        "id": "t3IEJ2RGSZi6"
      },
      "outputs": [],
      "source": [
        "dta.drop(['ADMIT_DATE', 'DISCH_DATE'], axis =1, inplace = True)"
      ]
    },
    {
      "cell_type": "markdown",
      "metadata": {
        "id": "JnLp9qD6Vtss"
      },
      "source": [
        "## GENDER"
      ]
    },
    {
      "cell_type": "code",
      "execution_count": null,
      "metadata": {
        "colab": {
          "base_uri": "https://localhost:8080/"
        },
        "id": "RPisd7hCVtNN",
        "outputId": "d5190d37-8542-4df4-9d4f-eeda622cff7f"
      },
      "outputs": [
        {
          "output_type": "execute_result",
          "data": {
            "text/plain": [
              "count    57717.000000\n",
              "mean         1.439420\n",
              "std          0.496321\n",
              "min          1.000000\n",
              "25%          1.000000\n",
              "50%          1.000000\n",
              "75%          2.000000\n",
              "max          2.000000\n",
              "Name: GENDER, dtype: float64"
            ]
          },
          "metadata": {},
          "execution_count": 182
        }
      ],
      "source": [
        "dta['GENDER'].describe()"
      ]
    },
    {
      "cell_type": "code",
      "execution_count": null,
      "metadata": {
        "colab": {
          "base_uri": "https://localhost:8080/"
        },
        "id": "Y_fh7yitVDwj",
        "outputId": "01f73a67-edbe-42d6-fd62-fe6b462a4273"
      },
      "outputs": [
        {
          "output_type": "execute_result",
          "data": {
            "text/plain": [
              "0"
            ]
          },
          "metadata": {},
          "execution_count": 183
        }
      ],
      "source": [
        "len(dta[dta['GENDER'].isnull()])"
      ]
    },
    {
      "cell_type": "code",
      "execution_count": null,
      "metadata": {
        "id": "Uw2nWh68V7Nm"
      },
      "outputs": [],
      "source": [
        "dta['GENDER'] = dta['GENDER'].astype('int')"
      ]
    },
    {
      "cell_type": "markdown",
      "metadata": {
        "id": "B6J-FKxsW389"
      },
      "source": [
        "## VISIT_TYPE (Replace Null with 0)"
      ]
    },
    {
      "cell_type": "code",
      "execution_count": null,
      "metadata": {
        "colab": {
          "base_uri": "https://localhost:8080/"
        },
        "id": "tiswb42bWt4m",
        "outputId": "3de84b57-2d70-47be-80db-1058aa5fc385"
      },
      "outputs": [
        {
          "output_type": "execute_result",
          "data": {
            "text/plain": [
              "count    57710.000000\n",
              "mean        34.515890\n",
              "std         54.708401\n",
              "min          1.000000\n",
              "25%          6.000000\n",
              "50%          8.000000\n",
              "75%         22.000000\n",
              "max        201.000000\n",
              "Name: VISIT_TYPE, dtype: float64"
            ]
          },
          "metadata": {},
          "execution_count": 185
        }
      ],
      "source": [
        "dta['VISIT_TYPE'].describe()"
      ]
    },
    {
      "cell_type": "code",
      "execution_count": null,
      "metadata": {
        "colab": {
          "base_uri": "https://localhost:8080/"
        },
        "id": "tMJQkLMXW8vn",
        "outputId": "a460c4d4-adb2-44d2-fe52-5ec80e656e7a"
      },
      "outputs": [
        {
          "output_type": "execute_result",
          "data": {
            "text/plain": [
              "7"
            ]
          },
          "metadata": {},
          "execution_count": 186
        }
      ],
      "source": [
        "len(dta[dta['VISIT_TYPE'].isnull()])"
      ]
    },
    {
      "cell_type": "code",
      "execution_count": null,
      "metadata": {
        "id": "ml6_Y212XCRx"
      },
      "outputs": [],
      "source": [
        "dta['VISIT_TYPE'] = dta['VISIT_TYPE'].fillna(0)"
      ]
    },
    {
      "cell_type": "code",
      "execution_count": null,
      "metadata": {
        "id": "3OUiQ3e5X3Vc"
      },
      "outputs": [],
      "source": [
        "dta['VISIT_TYPE'] = dta['VISIT_TYPE'].astype('int')"
      ]
    },
    {
      "cell_type": "markdown",
      "metadata": {
        "id": "Yd3OPltoYfwJ"
      },
      "source": [
        "## AGE"
      ]
    },
    {
      "cell_type": "code",
      "execution_count": null,
      "metadata": {
        "colab": {
          "base_uri": "https://localhost:8080/"
        },
        "id": "V7OxpuwbYOsi",
        "outputId": "525e3cf3-59fb-42ec-ce90-58109102a0fe"
      },
      "outputs": [
        {
          "output_type": "execute_result",
          "data": {
            "text/plain": [
              "count    57717.000000\n",
              "mean        72.534435\n",
              "std         13.557357\n",
              "min         20.000000\n",
              "25%         60.000000\n",
              "50%         75.000000\n",
              "75%         80.000000\n",
              "max        100.000000\n",
              "Name: AGE, dtype: float64"
            ]
          },
          "metadata": {},
          "execution_count": 189
        }
      ],
      "source": [
        "dta['AGE'].describe() "
      ]
    },
    {
      "cell_type": "code",
      "execution_count": null,
      "metadata": {
        "colab": {
          "base_uri": "https://localhost:8080/"
        },
        "id": "z2xKGvHsYizC",
        "outputId": "5160b52d-3e79-49aa-956f-0f9faca2d6d1"
      },
      "outputs": [
        {
          "output_type": "execute_result",
          "data": {
            "text/plain": [
              "0"
            ]
          },
          "metadata": {},
          "execution_count": 190
        }
      ],
      "source": [
        "len(dta[dta['AGE'].isnull()])"
      ]
    },
    {
      "cell_type": "code",
      "execution_count": null,
      "metadata": {
        "id": "spTZsK3cYnBq"
      },
      "outputs": [],
      "source": [
        "dta['AGE'] = dta['AGE'].astype('int')"
      ]
    },
    {
      "cell_type": "markdown",
      "metadata": {
        "id": "bh-5xmD6YreB"
      },
      "source": [
        "## FAMILY_HYPERTENSION_NUM"
      ]
    },
    {
      "cell_type": "code",
      "execution_count": null,
      "metadata": {
        "colab": {
          "base_uri": "https://localhost:8080/"
        },
        "id": "wM777EcTYqki",
        "outputId": "655a80cb-266c-490c-fe7d-e928083fb84c"
      },
      "outputs": [
        {
          "output_type": "execute_result",
          "data": {
            "text/plain": [
              "count    57717.000000\n",
              "mean         0.434257\n",
              "std          1.086269\n",
              "min          0.000000\n",
              "25%          0.000000\n",
              "50%          0.000000\n",
              "75%          0.000000\n",
              "max          8.000000\n",
              "Name: FAMILY_HYPERTENSION_NUM, dtype: float64"
            ]
          },
          "metadata": {},
          "execution_count": 192
        }
      ],
      "source": [
        "dta['FAMILY_HYPERTENSION_NUM'].describe()"
      ]
    },
    {
      "cell_type": "code",
      "execution_count": null,
      "metadata": {
        "colab": {
          "base_uri": "https://localhost:8080/"
        },
        "id": "Z5j_EZw4Yyu-",
        "outputId": "55e2eb41-66d8-4b19-a985-208c0ec0400e"
      },
      "outputs": [
        {
          "output_type": "execute_result",
          "data": {
            "text/plain": [
              "0"
            ]
          },
          "metadata": {},
          "execution_count": 193
        }
      ],
      "source": [
        "len(dta[dta['FAMILY_HYPERTENSION_NUM'].isnull()])"
      ]
    },
    {
      "cell_type": "code",
      "execution_count": null,
      "metadata": {
        "id": "A-5LCd0xY3-D"
      },
      "outputs": [],
      "source": [
        "dta['FAMILY_HYPERTENSION_NUM'] = dta['FAMILY_HYPERTENSION_NUM'].astype('int')"
      ]
    },
    {
      "cell_type": "markdown",
      "metadata": {
        "id": "4GTZ2Ei4Y8c2"
      },
      "source": [
        "## HYPERTENSION_VISIT"
      ]
    },
    {
      "cell_type": "code",
      "execution_count": null,
      "metadata": {
        "colab": {
          "base_uri": "https://localhost:8080/"
        },
        "id": "vBtZKYMeY7q2",
        "outputId": "c02736a6-3929-46cb-817d-2e497958d431"
      },
      "outputs": [
        {
          "output_type": "execute_result",
          "data": {
            "text/plain": [
              "count    57717.000000\n",
              "mean         0.149904\n",
              "std          0.356980\n",
              "min          0.000000\n",
              "25%          0.000000\n",
              "50%          0.000000\n",
              "75%          0.000000\n",
              "max          1.000000\n",
              "Name: HYPERTENSION_VISIT, dtype: float64"
            ]
          },
          "metadata": {},
          "execution_count": 195
        }
      ],
      "source": [
        "dta['HYPERTENSION_VISIT'].describe()"
      ]
    },
    {
      "cell_type": "code",
      "execution_count": null,
      "metadata": {
        "colab": {
          "base_uri": "https://localhost:8080/"
        },
        "id": "dnRh0L0BZ80h",
        "outputId": "6b9a5cbb-a3be-4f1c-a838-319d7e37d9f9"
      },
      "outputs": [
        {
          "output_type": "execute_result",
          "data": {
            "text/plain": [
              "49065"
            ]
          },
          "metadata": {},
          "execution_count": 196
        }
      ],
      "source": [
        "len(dta[dta['HYPERTENSION_VISIT'] == 0])"
      ]
    },
    {
      "cell_type": "code",
      "execution_count": null,
      "metadata": {
        "colab": {
          "base_uri": "https://localhost:8080/"
        },
        "id": "7MfxQtKGZkWz",
        "outputId": "c0ce9b00-bb27-48c4-a1dc-1aada77a1ff0"
      },
      "outputs": [
        {
          "output_type": "execute_result",
          "data": {
            "text/plain": [
              "8652"
            ]
          },
          "metadata": {},
          "execution_count": 197
        }
      ],
      "source": [
        "len(dta[dta['HYPERTENSION_VISIT'] == 1])"
      ]
    },
    {
      "cell_type": "code",
      "execution_count": null,
      "metadata": {
        "colab": {
          "base_uri": "https://localhost:8080/"
        },
        "id": "uNJHMRpmZRgO",
        "outputId": "a1c45bdc-2e76-4273-aa23-c69f58ef63b5"
      },
      "outputs": [
        {
          "output_type": "execute_result",
          "data": {
            "text/plain": [
              "0"
            ]
          },
          "metadata": {},
          "execution_count": 198
        }
      ],
      "source": [
        "len(dta[dta['HYPERTENSION_VISIT'].isnull()])"
      ]
    },
    {
      "cell_type": "code",
      "execution_count": null,
      "metadata": {
        "id": "9cmVCXSqZYIs"
      },
      "outputs": [],
      "source": [
        "dta['HYPERTENSION_VISIT'] = dta['HYPERTENSION_VISIT'].astype('int')"
      ]
    },
    {
      "cell_type": "markdown",
      "metadata": {
        "id": "dqxmRAx_Z_Zj"
      },
      "source": [
        "## HYPERTENSION_SEVERITY"
      ]
    },
    {
      "cell_type": "code",
      "execution_count": null,
      "metadata": {
        "colab": {
          "base_uri": "https://localhost:8080/"
        },
        "id": "z30cnVbSZdTR",
        "outputId": "889662f9-a0a6-4a59-9188-704ee0b21e07"
      },
      "outputs": [
        {
          "output_type": "execute_result",
          "data": {
            "text/plain": [
              "count    57717.000000\n",
              "mean         1.365733\n",
              "std          0.892779\n",
              "min          0.000000\n",
              "25%          0.000000\n",
              "50%          2.000000\n",
              "75%          2.000000\n",
              "max          3.000000\n",
              "Name: HYPERTENSION_SEVERITY, dtype: float64"
            ]
          },
          "metadata": {},
          "execution_count": 200
        }
      ],
      "source": [
        "dta['HYPERTENSION_SEVERITY'].describe()"
      ]
    },
    {
      "cell_type": "code",
      "execution_count": null,
      "metadata": {
        "colab": {
          "base_uri": "https://localhost:8080/"
        },
        "id": "Ob-I1pkMaUNl",
        "outputId": "86a91560-495b-480d-e766-f0603f8a6c2d"
      },
      "outputs": [
        {
          "output_type": "execute_result",
          "data": {
            "text/plain": [
              "15056"
            ]
          },
          "metadata": {},
          "execution_count": 201
        }
      ],
      "source": [
        "len(dta[dta['HYPERTENSION_SEVERITY'] == 0])"
      ]
    },
    {
      "cell_type": "code",
      "execution_count": null,
      "metadata": {
        "colab": {
          "base_uri": "https://localhost:8080/"
        },
        "id": "O_PuCbzPaZLv",
        "outputId": "dcbd028e-9231-4cee-d5f2-cdde942cce34"
      },
      "outputs": [
        {
          "output_type": "execute_result",
          "data": {
            "text/plain": [
              "7747"
            ]
          },
          "metadata": {},
          "execution_count": 202
        }
      ],
      "source": [
        "len(dta[dta['HYPERTENSION_SEVERITY'] == 1])"
      ]
    },
    {
      "cell_type": "code",
      "execution_count": null,
      "metadata": {
        "colab": {
          "base_uri": "https://localhost:8080/"
        },
        "id": "J5YExiaPacOM",
        "outputId": "3cbf7366-8ec5-4a44-bbb6-f3d44fd7f35e"
      },
      "outputs": [
        {
          "output_type": "execute_result",
          "data": {
            "text/plain": [
              "33663"
            ]
          },
          "metadata": {},
          "execution_count": 203
        }
      ],
      "source": [
        "len(dta[dta['HYPERTENSION_SEVERITY'] == 2])"
      ]
    },
    {
      "cell_type": "code",
      "execution_count": null,
      "metadata": {
        "colab": {
          "base_uri": "https://localhost:8080/"
        },
        "id": "dHdPd-gHad3L",
        "outputId": "fe2c71db-105a-404f-d3e0-e30d516d5fae"
      },
      "outputs": [
        {
          "output_type": "execute_result",
          "data": {
            "text/plain": [
              "1251"
            ]
          },
          "metadata": {},
          "execution_count": 204
        }
      ],
      "source": [
        "len(dta[dta['HYPERTENSION_SEVERITY'] == 3])"
      ]
    },
    {
      "cell_type": "code",
      "execution_count": null,
      "metadata": {
        "colab": {
          "base_uri": "https://localhost:8080/"
        },
        "id": "FCKW3eO1afc_",
        "outputId": "9a933c2a-ab0e-4d92-aa92-852415976cfa"
      },
      "outputs": [
        {
          "output_type": "execute_result",
          "data": {
            "text/plain": [
              "0"
            ]
          },
          "metadata": {},
          "execution_count": 205
        }
      ],
      "source": [
        "len(dta[dta['HYPERTENSION_SEVERITY'].isnull()])"
      ]
    },
    {
      "cell_type": "code",
      "execution_count": null,
      "metadata": {
        "id": "p5gvqurzbQ_M"
      },
      "outputs": [],
      "source": [
        "dta['HYPERTENSION_SEVERITY'] = dta['HYPERTENSION_SEVERITY'].astype('int')"
      ]
    },
    {
      "cell_type": "code",
      "execution_count": null,
      "metadata": {
        "id": "urWhEjVD0gKF"
      },
      "outputs": [],
      "source": [
        "dta['LABELED'] = dta['HYPERTENSION_SEVERITY']"
      ]
    },
    {
      "cell_type": "code",
      "execution_count": null,
      "metadata": {
        "id": "A6d6CKiX0vtO"
      },
      "outputs": [],
      "source": [
        "dta.loc[dta['LABELED'] != 0, 'LABELED'] = 1"
      ]
    },
    {
      "cell_type": "code",
      "execution_count": null,
      "metadata": {
        "id": "ZYv9BZi50-Hl"
      },
      "outputs": [],
      "source": [
        "dta.loc[dta['LABELED'] == 0, 'LABELED'] = 0"
      ]
    },
    {
      "cell_type": "markdown",
      "metadata": {
        "id": "aQq_JK4dbXwG"
      },
      "source": [
        "## HYPERTENSION_STATUS"
      ]
    },
    {
      "cell_type": "code",
      "execution_count": null,
      "metadata": {
        "colab": {
          "base_uri": "https://localhost:8080/"
        },
        "id": "DAnMYyB2bW_d",
        "outputId": "ef70549e-8a1b-4b98-e76b-6998d4db3c64"
      },
      "outputs": [
        {
          "output_type": "execute_result",
          "data": {
            "text/plain": [
              "count    57717.000000\n",
              "mean         1.792990\n",
              "std          1.201541\n",
              "min          0.000000\n",
              "25%          0.000000\n",
              "50%          2.000000\n",
              "75%          3.000000\n",
              "max          3.000000\n",
              "Name: HYPERTENSION_STATUS, dtype: float64"
            ]
          },
          "metadata": {},
          "execution_count": 210
        }
      ],
      "source": [
        "dta['HYPERTENSION_STATUS'].describe()"
      ]
    },
    {
      "cell_type": "code",
      "execution_count": null,
      "metadata": {
        "colab": {
          "base_uri": "https://localhost:8080/"
        },
        "id": "Su02dzeTbgV3",
        "outputId": "792328c1-bb45-4b3b-a25e-d22680b48d0b"
      },
      "outputs": [
        {
          "output_type": "execute_result",
          "data": {
            "text/plain": [
              "14705"
            ]
          },
          "metadata": {},
          "execution_count": 211
        }
      ],
      "source": [
        "len(dta[dta['HYPERTENSION_STATUS'] == 0])"
      ]
    },
    {
      "cell_type": "code",
      "execution_count": null,
      "metadata": {
        "colab": {
          "base_uri": "https://localhost:8080/"
        },
        "id": "4fyIY_qnbj5k",
        "outputId": "796be7eb-10c1-4830-a9b6-564884ffeffb"
      },
      "outputs": [
        {
          "output_type": "execute_result",
          "data": {
            "text/plain": [
              "4758"
            ]
          },
          "metadata": {},
          "execution_count": 212
        }
      ],
      "source": [
        "len(dta[dta['HYPERTENSION_STATUS'] == 1])"
      ]
    },
    {
      "cell_type": "code",
      "execution_count": null,
      "metadata": {
        "colab": {
          "base_uri": "https://localhost:8080/"
        },
        "id": "G07MiXyCblpB",
        "outputId": "7cee7bcc-48a3-422c-da3f-4384da7d3414"
      },
      "outputs": [
        {
          "output_type": "execute_result",
          "data": {
            "text/plain": [
              "16034"
            ]
          },
          "metadata": {},
          "execution_count": 213
        }
      ],
      "source": [
        "len(dta[dta['HYPERTENSION_STATUS'] == 2])"
      ]
    },
    {
      "cell_type": "code",
      "execution_count": null,
      "metadata": {
        "colab": {
          "base_uri": "https://localhost:8080/"
        },
        "id": "LXNKV9JAbmfk",
        "outputId": "751b7102-15fd-49b2-e830-83aaa2080f1c"
      },
      "outputs": [
        {
          "output_type": "execute_result",
          "data": {
            "text/plain": [
              "22220"
            ]
          },
          "metadata": {},
          "execution_count": 214
        }
      ],
      "source": [
        "len(dta[dta['HYPERTENSION_STATUS'] == 3])"
      ]
    },
    {
      "cell_type": "code",
      "execution_count": null,
      "metadata": {
        "colab": {
          "base_uri": "https://localhost:8080/"
        },
        "id": "FIQx1bHGbope",
        "outputId": "d725e766-b312-4781-8ace-adf8814904f8"
      },
      "outputs": [
        {
          "output_type": "execute_result",
          "data": {
            "text/plain": [
              "0"
            ]
          },
          "metadata": {},
          "execution_count": 215
        }
      ],
      "source": [
        "len(dta[dta['HYPERTENSION_STATUS'].isnull()])"
      ]
    },
    {
      "cell_type": "code",
      "execution_count": null,
      "metadata": {
        "id": "1MvcuP_6brMU"
      },
      "outputs": [],
      "source": [
        "dta['HYPERTENSION_STATUS'] = dta['HYPERTENSION_STATUS'].astype('int')"
      ]
    },
    {
      "cell_type": "markdown",
      "metadata": {
        "id": "O8UBMYWPbxvJ"
      },
      "source": [
        "## PULSEOXYGEN_DESCRIPTION"
      ]
    },
    {
      "cell_type": "code",
      "execution_count": null,
      "metadata": {
        "colab": {
          "base_uri": "https://localhost:8080/"
        },
        "id": "6sNQZ2BQbws_",
        "outputId": "e01c7012-7c42-4c13-8ee0-e9c7c6762f93"
      },
      "outputs": [
        {
          "output_type": "execute_result",
          "data": {
            "text/plain": [
              "count        2093\n",
              "unique          6\n",
              "top       Right 1\n",
              "freq          622\n",
              "Name: PULSEOXYGEN_DESCRIPTION, dtype: object"
            ]
          },
          "metadata": {},
          "execution_count": 217
        }
      ],
      "source": [
        "dta['PULSEOXYGEN_DESCRIPTION'].describe()"
      ]
    },
    {
      "cell_type": "code",
      "execution_count": null,
      "metadata": {
        "colab": {
          "base_uri": "https://localhost:8080/"
        },
        "id": "3IXoE_LMdCT9",
        "outputId": "29968a8f-ca57-461a-dce4-7c3a3a955e4c"
      },
      "outputs": [
        {
          "output_type": "execute_result",
          "data": {
            "text/plain": [
              "55624"
            ]
          },
          "metadata": {},
          "execution_count": 218
        }
      ],
      "source": [
        "len(dta[dta['PULSEOXYGEN_DESCRIPTION'].isnull()])"
      ]
    },
    {
      "cell_type": "code",
      "execution_count": null,
      "metadata": {
        "colab": {
          "base_uri": "https://localhost:8080/"
        },
        "id": "I_3nbQZRcYqY",
        "outputId": "eb90e4a7-4d29-4a2a-d712-e0594566e65f"
      },
      "outputs": [
        {
          "output_type": "execute_result",
          "data": {
            "text/plain": [
              "Right 1    622\n",
              "Right 2    480\n",
              "Left 2     459\n",
              "Left 1     452\n",
              "Right 3     61\n",
              "Left 3      19\n",
              "Name: PULSEOXYGEN_DESCRIPTION, dtype: int64"
            ]
          },
          "metadata": {},
          "execution_count": 219
        }
      ],
      "source": [
        "dta[dta['PULSEOXYGEN_DESCRIPTION'].notnull()]['PULSEOXYGEN_DESCRIPTION'].value_counts()"
      ]
    },
    {
      "cell_type": "code",
      "execution_count": null,
      "metadata": {
        "id": "8glu64iFcmRY"
      },
      "outputs": [],
      "source": [
        "dta.drop('PULSEOXYGEN_DESCRIPTION', axis = 1, inplace = True)"
      ]
    },
    {
      "cell_type": "markdown",
      "metadata": {
        "id": "jtM1c3A1dQ8N"
      },
      "source": [
        "## PULSE_DESCRIPTION"
      ]
    },
    {
      "cell_type": "code",
      "execution_count": null,
      "metadata": {
        "colab": {
          "base_uri": "https://localhost:8080/"
        },
        "id": "VxQcVQ8XdOp8",
        "outputId": "aba29684-cb57-4dad-de12-18529f5252d7"
      },
      "outputs": [
        {
          "output_type": "execute_result",
          "data": {
            "text/plain": [
              "count       10452\n",
              "unique          6\n",
              "top       Regular\n",
              "freq         8983\n",
              "Name: PULSE_DESCRIPTION, dtype: object"
            ]
          },
          "metadata": {},
          "execution_count": 221
        }
      ],
      "source": [
        "dta['PULSE_DESCRIPTION'].describe()"
      ]
    },
    {
      "cell_type": "code",
      "execution_count": null,
      "metadata": {
        "colab": {
          "base_uri": "https://localhost:8080/"
        },
        "id": "9MYaRsu9dyEb",
        "outputId": "6435bed0-f5f0-42cd-fba9-a218ff95dfd3"
      },
      "outputs": [
        {
          "output_type": "execute_result",
          "data": {
            "text/plain": [
              "47265"
            ]
          },
          "metadata": {},
          "execution_count": 222
        }
      ],
      "source": [
        "len(dta[dta['PULSE_DESCRIPTION'].isnull()])"
      ]
    },
    {
      "cell_type": "code",
      "execution_count": null,
      "metadata": {
        "colab": {
          "base_uri": "https://localhost:8080/"
        },
        "id": "pjg2j21Gd0Yr",
        "outputId": "281c8f9b-9b16-4dc1-88ce-799021f565fd"
      },
      "outputs": [
        {
          "output_type": "execute_result",
          "data": {
            "text/plain": [
              "Regular                8983\n",
              "Irregular              1001\n",
              "Irregular Irregular     323\n",
              "Regular Irregular       101\n",
              "Unknown                  32\n",
              "Thready                  12\n",
              "Name: PULSE_DESCRIPTION, dtype: int64"
            ]
          },
          "metadata": {},
          "execution_count": 223
        }
      ],
      "source": [
        "dta[dta['PULSE_DESCRIPTION'].notnull()]['PULSE_DESCRIPTION'].value_counts()"
      ]
    },
    {
      "cell_type": "code",
      "execution_count": null,
      "metadata": {
        "id": "r6tOqyIRd3Xe"
      },
      "outputs": [],
      "source": [
        "dta.drop('PULSE_DESCRIPTION', axis = 1, inplace = True)"
      ]
    },
    {
      "cell_type": "markdown",
      "metadata": {
        "id": "3BfNLLkod_mX"
      },
      "source": [
        "## RESPIRATION_DESCRIPTION"
      ]
    },
    {
      "cell_type": "code",
      "execution_count": null,
      "metadata": {
        "colab": {
          "base_uri": "https://localhost:8080/"
        },
        "id": "9L86I2ZYd-6Z",
        "outputId": "7e113301-237c-4dfb-e4ba-3f662aeec1dc"
      },
      "outputs": [
        {
          "output_type": "execute_result",
          "data": {
            "text/plain": [
              "count           804\n",
              "unique            2\n",
              "top       Unlabored\n",
              "freq            787\n",
              "Name: RESPIRATION_DESCRIPTION, dtype: object"
            ]
          },
          "metadata": {},
          "execution_count": 225
        }
      ],
      "source": [
        "dta['RESPIRATION_DESCRIPTION'].describe()"
      ]
    },
    {
      "cell_type": "code",
      "execution_count": null,
      "metadata": {
        "colab": {
          "base_uri": "https://localhost:8080/"
        },
        "id": "NEV6i969eGNA",
        "outputId": "5515d332-f524-4180-df29-99668d331ade"
      },
      "outputs": [
        {
          "output_type": "execute_result",
          "data": {
            "text/plain": [
              "56913"
            ]
          },
          "metadata": {},
          "execution_count": 226
        }
      ],
      "source": [
        "len(dta[dta['RESPIRATION_DESCRIPTION'].isnull()])"
      ]
    },
    {
      "cell_type": "code",
      "execution_count": null,
      "metadata": {
        "colab": {
          "base_uri": "https://localhost:8080/"
        },
        "id": "tjfMelkdeI4Y",
        "outputId": "38c755b0-ccd8-40e5-f898-5dcacac36240"
      },
      "outputs": [
        {
          "output_type": "execute_result",
          "data": {
            "text/plain": [
              "Unlabored    787\n",
              "Labored       17\n",
              "Name: RESPIRATION_DESCRIPTION, dtype: int64"
            ]
          },
          "metadata": {},
          "execution_count": 227
        }
      ],
      "source": [
        "dta[dta['RESPIRATION_DESCRIPTION'].notnull()]['RESPIRATION_DESCRIPTION'].value_counts()"
      ]
    },
    {
      "cell_type": "code",
      "execution_count": null,
      "metadata": {
        "id": "ZIDRBnZdeMth"
      },
      "outputs": [],
      "source": [
        "dta.drop('RESPIRATION_DESCRIPTION', axis = 1, inplace = True)"
      ]
    },
    {
      "cell_type": "markdown",
      "metadata": {
        "id": "rp5p_7TqeQOO"
      },
      "source": [
        "## NON_SMOKER"
      ]
    },
    {
      "cell_type": "code",
      "execution_count": null,
      "metadata": {
        "colab": {
          "base_uri": "https://localhost:8080/"
        },
        "id": "Y2wnvCDXePj3",
        "outputId": "f78012fa-1da5-4f3c-f406-666564f85b5f"
      },
      "outputs": [
        {
          "output_type": "execute_result",
          "data": {
            "text/plain": [
              "count    57717.000000\n",
              "mean         0.563941\n",
              "std          0.495899\n",
              "min          0.000000\n",
              "25%          0.000000\n",
              "50%          1.000000\n",
              "75%          1.000000\n",
              "max          1.000000\n",
              "Name: NON_SMOKER, dtype: float64"
            ]
          },
          "metadata": {},
          "execution_count": 229
        }
      ],
      "source": [
        "dta['NON_SMOKER'].describe()"
      ]
    },
    {
      "cell_type": "code",
      "execution_count": null,
      "metadata": {
        "colab": {
          "base_uri": "https://localhost:8080/"
        },
        "id": "3XiGVED0exMi",
        "outputId": "dfd09351-a62e-4e5f-b238-7e43bc5c73b8"
      },
      "outputs": [
        {
          "output_type": "execute_result",
          "data": {
            "text/plain": [
              "0"
            ]
          },
          "metadata": {},
          "execution_count": 230
        }
      ],
      "source": [
        "len(dta[dta['NON_SMOKER'].isnull()])"
      ]
    },
    {
      "cell_type": "code",
      "execution_count": null,
      "metadata": {
        "id": "4Efmy5BagiJt"
      },
      "outputs": [],
      "source": [
        "dta['NON_SMOKER'] = dta['NON_SMOKER'].astype('int')"
      ]
    },
    {
      "cell_type": "markdown",
      "metadata": {
        "id": "WBTnEGEZgDig"
      },
      "source": [
        "## NON_DRINKER"
      ]
    },
    {
      "cell_type": "code",
      "execution_count": null,
      "metadata": {
        "colab": {
          "base_uri": "https://localhost:8080/"
        },
        "id": "MuQFxW2NgCqh",
        "outputId": "e8ead7cf-72a6-4e02-d11b-d447a3b15152"
      },
      "outputs": [
        {
          "output_type": "execute_result",
          "data": {
            "text/plain": [
              "count    57717.000000\n",
              "mean         0.260357\n",
              "std          0.438833\n",
              "min          0.000000\n",
              "25%          0.000000\n",
              "50%          0.000000\n",
              "75%          1.000000\n",
              "max          1.000000\n",
              "Name: NON_DRINKER, dtype: float64"
            ]
          },
          "metadata": {},
          "execution_count": 232
        }
      ],
      "source": [
        "dta['NON_DRINKER'].describe()"
      ]
    },
    {
      "cell_type": "code",
      "execution_count": null,
      "metadata": {
        "colab": {
          "base_uri": "https://localhost:8080/"
        },
        "id": "H_fhAbmngKHG",
        "outputId": "d9419859-156a-40d2-ad15-d9e4ac49fc2b"
      },
      "outputs": [
        {
          "output_type": "execute_result",
          "data": {
            "text/plain": [
              "0"
            ]
          },
          "metadata": {},
          "execution_count": 233
        }
      ],
      "source": [
        "len(dta[dta['NON_DRINKER'].isnull()])"
      ]
    },
    {
      "cell_type": "code",
      "execution_count": null,
      "metadata": {
        "id": "Iq8Ui53Sgnnk"
      },
      "outputs": [],
      "source": [
        "dta['NON_DRINKER'] = dta['NON_DRINKER'].astype('int')"
      ]
    },
    {
      "cell_type": "markdown",
      "metadata": {
        "id": "m0kfPxbhgNaH"
      },
      "source": [
        "## REGULAR_EXERCISER"
      ]
    },
    {
      "cell_type": "code",
      "execution_count": null,
      "metadata": {
        "colab": {
          "base_uri": "https://localhost:8080/"
        },
        "id": "RE7hpNRsgM0r",
        "outputId": "65208dac-6e6b-4421-c58b-6120c75d5d6f"
      },
      "outputs": [
        {
          "output_type": "execute_result",
          "data": {
            "text/plain": [
              "count    57717.000000\n",
              "mean         0.197897\n",
              "std          0.398417\n",
              "min          0.000000\n",
              "25%          0.000000\n",
              "50%          0.000000\n",
              "75%          0.000000\n",
              "max          1.000000\n",
              "Name: REGULAR_EXERCISER, dtype: float64"
            ]
          },
          "metadata": {},
          "execution_count": 235
        }
      ],
      "source": [
        "dta['REGULAR_EXERCISER'].describe()"
      ]
    },
    {
      "cell_type": "code",
      "execution_count": null,
      "metadata": {
        "colab": {
          "base_uri": "https://localhost:8080/"
        },
        "id": "GYJlT5nzgXj-",
        "outputId": "56f8637c-2ceb-4a34-c76d-f0230d97acd9"
      },
      "outputs": [
        {
          "output_type": "execute_result",
          "data": {
            "text/plain": [
              "0"
            ]
          },
          "metadata": {},
          "execution_count": 236
        }
      ],
      "source": [
        "len(dta[dta['REGULAR_EXERCISER'].isnull()])"
      ]
    },
    {
      "cell_type": "code",
      "execution_count": null,
      "metadata": {
        "id": "GuC8jt80gr5h"
      },
      "outputs": [],
      "source": [
        "dta['REGULAR_EXERCISER'] = dta['REGULAR_EXERCISER'].astype('int')"
      ]
    },
    {
      "cell_type": "markdown",
      "metadata": {
        "id": "9Zh_C2EmgbIH"
      },
      "source": [
        "## NON_ALLERGY"
      ]
    },
    {
      "cell_type": "code",
      "execution_count": null,
      "metadata": {
        "colab": {
          "base_uri": "https://localhost:8080/"
        },
        "id": "Vmx2WM5xgady",
        "outputId": "5bf28818-930e-4714-954b-44abcfffe32e"
      },
      "outputs": [
        {
          "output_type": "execute_result",
          "data": {
            "text/plain": [
              "count    57717.000000\n",
              "mean         0.099243\n",
              "std          0.298990\n",
              "min          0.000000\n",
              "25%          0.000000\n",
              "50%          0.000000\n",
              "75%          0.000000\n",
              "max          1.000000\n",
              "Name: NON_ALLERGY, dtype: float64"
            ]
          },
          "metadata": {},
          "execution_count": 238
        }
      ],
      "source": [
        "dta['NON_ALLERGY'].describe()"
      ]
    },
    {
      "cell_type": "code",
      "execution_count": null,
      "metadata": {
        "colab": {
          "base_uri": "https://localhost:8080/"
        },
        "id": "IpUvrDqggxjt",
        "outputId": "1024f4b9-b74c-4af7-d3dc-6b31e7f6372b"
      },
      "outputs": [
        {
          "output_type": "execute_result",
          "data": {
            "text/plain": [
              "0"
            ]
          },
          "metadata": {},
          "execution_count": 239
        }
      ],
      "source": [
        "len(dta[dta['NON_ALLERGY'].isnull()])"
      ]
    },
    {
      "cell_type": "code",
      "execution_count": null,
      "metadata": {
        "id": "-Mh02IqNg0TB"
      },
      "outputs": [],
      "source": [
        "dta['NON_ALLERGY'] = dta['NON_ALLERGY'].astype('int')"
      ]
    },
    {
      "cell_type": "markdown",
      "metadata": {
        "id": "SfznSWbzg49U"
      },
      "source": [
        "## HOS_PERIOD"
      ]
    },
    {
      "cell_type": "code",
      "execution_count": null,
      "metadata": {
        "colab": {
          "base_uri": "https://localhost:8080/"
        },
        "id": "HuSLlggUg3q0",
        "outputId": "4c657792-dcfa-4ff1-bbc9-de506e3e0883"
      },
      "outputs": [
        {
          "output_type": "execute_result",
          "data": {
            "text/plain": [
              "count    57717.000000\n",
              "mean         0.038983\n",
              "std          1.786757\n",
              "min        -91.000000\n",
              "25%          0.000000\n",
              "50%          0.000000\n",
              "75%          0.000000\n",
              "max        339.000000\n",
              "Name: HOS_PERIOD, dtype: float64"
            ]
          },
          "metadata": {},
          "execution_count": 241
        }
      ],
      "source": [
        "dta['HOS_PERIOD'].describe()"
      ]
    },
    {
      "cell_type": "code",
      "execution_count": null,
      "metadata": {
        "colab": {
          "base_uri": "https://localhost:8080/"
        },
        "id": "cB3dzwjChDYr",
        "outputId": "8576e239-1f9a-485d-d5e2-bdbb71c62d6d"
      },
      "outputs": [
        {
          "output_type": "execute_result",
          "data": {
            "text/plain": [
              "0"
            ]
          },
          "metadata": {},
          "execution_count": 242
        }
      ],
      "source": [
        "len(dta[dta['HOS_PERIOD'].isnull()])"
      ]
    },
    {
      "cell_type": "markdown",
      "metadata": {
        "id": "VIF0ZsyNhrfX"
      },
      "source": [
        "## cluster"
      ]
    },
    {
      "cell_type": "code",
      "execution_count": null,
      "metadata": {
        "colab": {
          "base_uri": "https://localhost:8080/"
        },
        "id": "C95C-TK3hqym",
        "outputId": "195605c0-977c-4018-d567-d1b786786ff7"
      },
      "outputs": [
        {
          "output_type": "execute_result",
          "data": {
            "text/plain": [
              "count    57717.000000\n",
              "mean         1.097129\n",
              "std          1.018723\n",
              "min          0.000000\n",
              "25%          0.000000\n",
              "50%          1.000000\n",
              "75%          2.000000\n",
              "max          3.000000\n",
              "Name: cluster, dtype: float64"
            ]
          },
          "metadata": {},
          "execution_count": 243
        }
      ],
      "source": [
        "dta['cluster'].describe()"
      ]
    },
    {
      "cell_type": "code",
      "execution_count": null,
      "metadata": {
        "colab": {
          "base_uri": "https://localhost:8080/"
        },
        "id": "1YcHYn7Rhvxe",
        "outputId": "44a196af-71f6-4459-8613-7539633dc225"
      },
      "outputs": [
        {
          "output_type": "execute_result",
          "data": {
            "text/plain": [
              "21491"
            ]
          },
          "metadata": {},
          "execution_count": 244
        }
      ],
      "source": [
        "len(dta[dta['cluster'] == 0])"
      ]
    },
    {
      "cell_type": "code",
      "execution_count": null,
      "metadata": {
        "colab": {
          "base_uri": "https://localhost:8080/"
        },
        "id": "JqwAoxWZh06j",
        "outputId": "062c4a5e-e465-4438-a416-8710549ddd40"
      },
      "outputs": [
        {
          "output_type": "execute_result",
          "data": {
            "text/plain": [
              "15056"
            ]
          },
          "metadata": {},
          "execution_count": 245
        }
      ],
      "source": [
        "len(dta[dta['cluster'] == 1])"
      ]
    },
    {
      "cell_type": "code",
      "execution_count": null,
      "metadata": {
        "colab": {
          "base_uri": "https://localhost:8080/"
        },
        "id": "UFi6SGoih4bQ",
        "outputId": "2cc3b8b7-8946-4166-ce64-7c5c7111c6fe"
      },
      "outputs": [
        {
          "output_type": "execute_result",
          "data": {
            "text/plain": [
              "15243"
            ]
          },
          "metadata": {},
          "execution_count": 246
        }
      ],
      "source": [
        "len(dta[dta['cluster'] == 2])"
      ]
    },
    {
      "cell_type": "code",
      "execution_count": null,
      "metadata": {
        "colab": {
          "base_uri": "https://localhost:8080/"
        },
        "id": "WpELNTiCh5Qa",
        "outputId": "594cde6b-9618-4f85-b917-eb4708de1bba"
      },
      "outputs": [
        {
          "output_type": "execute_result",
          "data": {
            "text/plain": [
              "5927"
            ]
          },
          "metadata": {},
          "execution_count": 247
        }
      ],
      "source": [
        "len(dta[dta['cluster'] == 3])"
      ]
    },
    {
      "cell_type": "markdown",
      "metadata": {
        "id": "TGyAQiZnv5BL"
      },
      "source": [
        "## DIASTOLIC_BP"
      ]
    },
    {
      "cell_type": "code",
      "execution_count": null,
      "metadata": {
        "colab": {
          "base_uri": "https://localhost:8080/"
        },
        "id": "YKw7OHT-wQjZ",
        "outputId": "d9c063cc-7f64-4240-f72d-1fbf627c792d"
      },
      "outputs": [
        {
          "output_type": "execute_result",
          "data": {
            "text/plain": [
              "count    13478.000000\n",
              "mean        75.176064\n",
              "std         11.848623\n",
              "min          0.000000\n",
              "25%         69.000000\n",
              "50%         75.000000\n",
              "75%         81.000000\n",
              "max        787.000000\n",
              "Name: DIASTOLIC_BP, dtype: float64"
            ]
          },
          "metadata": {},
          "execution_count": 248
        }
      ],
      "source": [
        "dta['DIASTOLIC_BP'].describe()"
      ]
    },
    {
      "cell_type": "code",
      "execution_count": null,
      "metadata": {
        "colab": {
          "base_uri": "https://localhost:8080/"
        },
        "id": "AAzUxAJVh9I6",
        "outputId": "7037943c-cf4b-4780-8679-6834d1d60159"
      },
      "outputs": [
        {
          "output_type": "execute_result",
          "data": {
            "text/plain": [
              "44239"
            ]
          },
          "metadata": {},
          "execution_count": 249
        }
      ],
      "source": [
        "len(dta[dta['DIASTOLIC_BP'].isnull()])"
      ]
    },
    {
      "cell_type": "code",
      "execution_count": null,
      "metadata": {
        "colab": {
          "base_uri": "https://localhost:8080/"
        },
        "id": "AH2rbR2C_xWz",
        "outputId": "f499dca7-bf35-4c81-f722-96279189306f"
      },
      "outputs": [
        {
          "output_type": "execute_result",
          "data": {
            "text/plain": [
              "           code  PATIENT_NUM  GENDER  VISIT_TYPE  AGE  \\\n",
              "0       1166192      1166159       1           6   75   \n",
              "1       1166525      1166159       1          98   75   \n",
              "2       1166543      1166159       1           6   75   \n",
              "4       1167480      1166159       1          96   75   \n",
              "5       1167540      1166159       1          96   75   \n",
              "...         ...          ...     ...         ...  ...   \n",
              "57712  31790336      5009829       1           8  100   \n",
              "57713  31846984      5009829       1         120  100   \n",
              "57714  31954761      5009829       1          13  100   \n",
              "57715  32302928      5009829       1          13  100   \n",
              "57716  32407695      5009829       1         141  100   \n",
              "\n",
              "       FAMILY_HYPERTENSION_NUM  HYPERTENSION_VISIT  HYPERTENSION_SEVERITY  \\\n",
              "0                            1                   0                      0   \n",
              "1                            1                   0                      0   \n",
              "2                            1                   0                      0   \n",
              "4                            1                   0                      0   \n",
              "5                            1                   0                      0   \n",
              "...                        ...                 ...                    ...   \n",
              "57712                        0                   0                      2   \n",
              "57713                        0                   0                      2   \n",
              "57714                        0                   0                      2   \n",
              "57715                        0                   0                      2   \n",
              "57716                        0                   0                      2   \n",
              "\n",
              "       HYPERTENSION_STATUS  DIASTOLIC_BP  ...  BMI  NON_SMOKER  NON_DRINKER  \\\n",
              "0                        0           NaN  ...  NaN           1            1   \n",
              "1                        0           NaN  ...  NaN           1            1   \n",
              "2                        0           NaN  ...  NaN           1            1   \n",
              "4                        0           NaN  ...  NaN           1            1   \n",
              "5                        0           NaN  ...  NaN           1            1   \n",
              "...                    ...           ...  ...  ...         ...          ...   \n",
              "57712                    3           NaN  ...  NaN           1            0   \n",
              "57713                    3           NaN  ...  NaN           1            0   \n",
              "57714                    3           NaN  ...  NaN           1            0   \n",
              "57715                    3           NaN  ...  NaN           1            0   \n",
              "57716                    3           NaN  ...  NaN           1            0   \n",
              "\n",
              "       REGULAR_EXERCISER  NON_ALLERGY HOS_PERIOD  cluster  VISIT  DAYS  \\\n",
              "0                      0            0          0        1      0     0   \n",
              "1                      0            0          0        1      1     1   \n",
              "2                      0            0          0        1      2     7   \n",
              "4                      0            0          0        1      4     7   \n",
              "5                      0            0          0        1      5     0   \n",
              "...                  ...          ...        ...      ...    ...   ...   \n",
              "57712                  0            0          0        0    242  7510   \n",
              "57713                  0            0          0        0    243  7540   \n",
              "57714                  0            0          0        0    244  7601   \n",
              "57715                  0            0          0        0    245  7769   \n",
              "57716                  0            0          0        0    246  7852   \n",
              "\n",
              "       LABELED  \n",
              "0            0  \n",
              "1            0  \n",
              "2            0  \n",
              "4            0  \n",
              "5            0  \n",
              "...        ...  \n",
              "57712        1  \n",
              "57713        1  \n",
              "57714        1  \n",
              "57715        1  \n",
              "57716        1  \n",
              "\n",
              "[49065 rows x 28 columns]"
            ],
            "text/html": [
              "\n",
              "  <div id=\"df-5016f319-4858-4087-83df-83e597fb103f\">\n",
              "    <div class=\"colab-df-container\">\n",
              "      <div>\n",
              "<style scoped>\n",
              "    .dataframe tbody tr th:only-of-type {\n",
              "        vertical-align: middle;\n",
              "    }\n",
              "\n",
              "    .dataframe tbody tr th {\n",
              "        vertical-align: top;\n",
              "    }\n",
              "\n",
              "    .dataframe thead th {\n",
              "        text-align: right;\n",
              "    }\n",
              "</style>\n",
              "<table border=\"1\" class=\"dataframe\">\n",
              "  <thead>\n",
              "    <tr style=\"text-align: right;\">\n",
              "      <th></th>\n",
              "      <th>code</th>\n",
              "      <th>PATIENT_NUM</th>\n",
              "      <th>GENDER</th>\n",
              "      <th>VISIT_TYPE</th>\n",
              "      <th>AGE</th>\n",
              "      <th>FAMILY_HYPERTENSION_NUM</th>\n",
              "      <th>HYPERTENSION_VISIT</th>\n",
              "      <th>HYPERTENSION_SEVERITY</th>\n",
              "      <th>HYPERTENSION_STATUS</th>\n",
              "      <th>DIASTOLIC_BP</th>\n",
              "      <th>...</th>\n",
              "      <th>BMI</th>\n",
              "      <th>NON_SMOKER</th>\n",
              "      <th>NON_DRINKER</th>\n",
              "      <th>REGULAR_EXERCISER</th>\n",
              "      <th>NON_ALLERGY</th>\n",
              "      <th>HOS_PERIOD</th>\n",
              "      <th>cluster</th>\n",
              "      <th>VISIT</th>\n",
              "      <th>DAYS</th>\n",
              "      <th>LABELED</th>\n",
              "    </tr>\n",
              "  </thead>\n",
              "  <tbody>\n",
              "    <tr>\n",
              "      <th>0</th>\n",
              "      <td>1166192</td>\n",
              "      <td>1166159</td>\n",
              "      <td>1</td>\n",
              "      <td>6</td>\n",
              "      <td>75</td>\n",
              "      <td>1</td>\n",
              "      <td>0</td>\n",
              "      <td>0</td>\n",
              "      <td>0</td>\n",
              "      <td>NaN</td>\n",
              "      <td>...</td>\n",
              "      <td>NaN</td>\n",
              "      <td>1</td>\n",
              "      <td>1</td>\n",
              "      <td>0</td>\n",
              "      <td>0</td>\n",
              "      <td>0</td>\n",
              "      <td>1</td>\n",
              "      <td>0</td>\n",
              "      <td>0</td>\n",
              "      <td>0</td>\n",
              "    </tr>\n",
              "    <tr>\n",
              "      <th>1</th>\n",
              "      <td>1166525</td>\n",
              "      <td>1166159</td>\n",
              "      <td>1</td>\n",
              "      <td>98</td>\n",
              "      <td>75</td>\n",
              "      <td>1</td>\n",
              "      <td>0</td>\n",
              "      <td>0</td>\n",
              "      <td>0</td>\n",
              "      <td>NaN</td>\n",
              "      <td>...</td>\n",
              "      <td>NaN</td>\n",
              "      <td>1</td>\n",
              "      <td>1</td>\n",
              "      <td>0</td>\n",
              "      <td>0</td>\n",
              "      <td>0</td>\n",
              "      <td>1</td>\n",
              "      <td>1</td>\n",
              "      <td>1</td>\n",
              "      <td>0</td>\n",
              "    </tr>\n",
              "    <tr>\n",
              "      <th>2</th>\n",
              "      <td>1166543</td>\n",
              "      <td>1166159</td>\n",
              "      <td>1</td>\n",
              "      <td>6</td>\n",
              "      <td>75</td>\n",
              "      <td>1</td>\n",
              "      <td>0</td>\n",
              "      <td>0</td>\n",
              "      <td>0</td>\n",
              "      <td>NaN</td>\n",
              "      <td>...</td>\n",
              "      <td>NaN</td>\n",
              "      <td>1</td>\n",
              "      <td>1</td>\n",
              "      <td>0</td>\n",
              "      <td>0</td>\n",
              "      <td>0</td>\n",
              "      <td>1</td>\n",
              "      <td>2</td>\n",
              "      <td>7</td>\n",
              "      <td>0</td>\n",
              "    </tr>\n",
              "    <tr>\n",
              "      <th>4</th>\n",
              "      <td>1167480</td>\n",
              "      <td>1166159</td>\n",
              "      <td>1</td>\n",
              "      <td>96</td>\n",
              "      <td>75</td>\n",
              "      <td>1</td>\n",
              "      <td>0</td>\n",
              "      <td>0</td>\n",
              "      <td>0</td>\n",
              "      <td>NaN</td>\n",
              "      <td>...</td>\n",
              "      <td>NaN</td>\n",
              "      <td>1</td>\n",
              "      <td>1</td>\n",
              "      <td>0</td>\n",
              "      <td>0</td>\n",
              "      <td>0</td>\n",
              "      <td>1</td>\n",
              "      <td>4</td>\n",
              "      <td>7</td>\n",
              "      <td>0</td>\n",
              "    </tr>\n",
              "    <tr>\n",
              "      <th>5</th>\n",
              "      <td>1167540</td>\n",
              "      <td>1166159</td>\n",
              "      <td>1</td>\n",
              "      <td>96</td>\n",
              "      <td>75</td>\n",
              "      <td>1</td>\n",
              "      <td>0</td>\n",
              "      <td>0</td>\n",
              "      <td>0</td>\n",
              "      <td>NaN</td>\n",
              "      <td>...</td>\n",
              "      <td>NaN</td>\n",
              "      <td>1</td>\n",
              "      <td>1</td>\n",
              "      <td>0</td>\n",
              "      <td>0</td>\n",
              "      <td>0</td>\n",
              "      <td>1</td>\n",
              "      <td>5</td>\n",
              "      <td>0</td>\n",
              "      <td>0</td>\n",
              "    </tr>\n",
              "    <tr>\n",
              "      <th>...</th>\n",
              "      <td>...</td>\n",
              "      <td>...</td>\n",
              "      <td>...</td>\n",
              "      <td>...</td>\n",
              "      <td>...</td>\n",
              "      <td>...</td>\n",
              "      <td>...</td>\n",
              "      <td>...</td>\n",
              "      <td>...</td>\n",
              "      <td>...</td>\n",
              "      <td>...</td>\n",
              "      <td>...</td>\n",
              "      <td>...</td>\n",
              "      <td>...</td>\n",
              "      <td>...</td>\n",
              "      <td>...</td>\n",
              "      <td>...</td>\n",
              "      <td>...</td>\n",
              "      <td>...</td>\n",
              "      <td>...</td>\n",
              "      <td>...</td>\n",
              "    </tr>\n",
              "    <tr>\n",
              "      <th>57712</th>\n",
              "      <td>31790336</td>\n",
              "      <td>5009829</td>\n",
              "      <td>1</td>\n",
              "      <td>8</td>\n",
              "      <td>100</td>\n",
              "      <td>0</td>\n",
              "      <td>0</td>\n",
              "      <td>2</td>\n",
              "      <td>3</td>\n",
              "      <td>NaN</td>\n",
              "      <td>...</td>\n",
              "      <td>NaN</td>\n",
              "      <td>1</td>\n",
              "      <td>0</td>\n",
              "      <td>0</td>\n",
              "      <td>0</td>\n",
              "      <td>0</td>\n",
              "      <td>0</td>\n",
              "      <td>242</td>\n",
              "      <td>7510</td>\n",
              "      <td>1</td>\n",
              "    </tr>\n",
              "    <tr>\n",
              "      <th>57713</th>\n",
              "      <td>31846984</td>\n",
              "      <td>5009829</td>\n",
              "      <td>1</td>\n",
              "      <td>120</td>\n",
              "      <td>100</td>\n",
              "      <td>0</td>\n",
              "      <td>0</td>\n",
              "      <td>2</td>\n",
              "      <td>3</td>\n",
              "      <td>NaN</td>\n",
              "      <td>...</td>\n",
              "      <td>NaN</td>\n",
              "      <td>1</td>\n",
              "      <td>0</td>\n",
              "      <td>0</td>\n",
              "      <td>0</td>\n",
              "      <td>0</td>\n",
              "      <td>0</td>\n",
              "      <td>243</td>\n",
              "      <td>7540</td>\n",
              "      <td>1</td>\n",
              "    </tr>\n",
              "    <tr>\n",
              "      <th>57714</th>\n",
              "      <td>31954761</td>\n",
              "      <td>5009829</td>\n",
              "      <td>1</td>\n",
              "      <td>13</td>\n",
              "      <td>100</td>\n",
              "      <td>0</td>\n",
              "      <td>0</td>\n",
              "      <td>2</td>\n",
              "      <td>3</td>\n",
              "      <td>NaN</td>\n",
              "      <td>...</td>\n",
              "      <td>NaN</td>\n",
              "      <td>1</td>\n",
              "      <td>0</td>\n",
              "      <td>0</td>\n",
              "      <td>0</td>\n",
              "      <td>0</td>\n",
              "      <td>0</td>\n",
              "      <td>244</td>\n",
              "      <td>7601</td>\n",
              "      <td>1</td>\n",
              "    </tr>\n",
              "    <tr>\n",
              "      <th>57715</th>\n",
              "      <td>32302928</td>\n",
              "      <td>5009829</td>\n",
              "      <td>1</td>\n",
              "      <td>13</td>\n",
              "      <td>100</td>\n",
              "      <td>0</td>\n",
              "      <td>0</td>\n",
              "      <td>2</td>\n",
              "      <td>3</td>\n",
              "      <td>NaN</td>\n",
              "      <td>...</td>\n",
              "      <td>NaN</td>\n",
              "      <td>1</td>\n",
              "      <td>0</td>\n",
              "      <td>0</td>\n",
              "      <td>0</td>\n",
              "      <td>0</td>\n",
              "      <td>0</td>\n",
              "      <td>245</td>\n",
              "      <td>7769</td>\n",
              "      <td>1</td>\n",
              "    </tr>\n",
              "    <tr>\n",
              "      <th>57716</th>\n",
              "      <td>32407695</td>\n",
              "      <td>5009829</td>\n",
              "      <td>1</td>\n",
              "      <td>141</td>\n",
              "      <td>100</td>\n",
              "      <td>0</td>\n",
              "      <td>0</td>\n",
              "      <td>2</td>\n",
              "      <td>3</td>\n",
              "      <td>NaN</td>\n",
              "      <td>...</td>\n",
              "      <td>NaN</td>\n",
              "      <td>1</td>\n",
              "      <td>0</td>\n",
              "      <td>0</td>\n",
              "      <td>0</td>\n",
              "      <td>0</td>\n",
              "      <td>0</td>\n",
              "      <td>246</td>\n",
              "      <td>7852</td>\n",
              "      <td>1</td>\n",
              "    </tr>\n",
              "  </tbody>\n",
              "</table>\n",
              "<p>49065 rows × 28 columns</p>\n",
              "</div>\n",
              "      <button class=\"colab-df-convert\" onclick=\"convertToInteractive('df-5016f319-4858-4087-83df-83e597fb103f')\"\n",
              "              title=\"Convert this dataframe to an interactive table.\"\n",
              "              style=\"display:none;\">\n",
              "        \n",
              "  <svg xmlns=\"http://www.w3.org/2000/svg\" height=\"24px\"viewBox=\"0 0 24 24\"\n",
              "       width=\"24px\">\n",
              "    <path d=\"M0 0h24v24H0V0z\" fill=\"none\"/>\n",
              "    <path d=\"M18.56 5.44l.94 2.06.94-2.06 2.06-.94-2.06-.94-.94-2.06-.94 2.06-2.06.94zm-11 1L8.5 8.5l.94-2.06 2.06-.94-2.06-.94L8.5 2.5l-.94 2.06-2.06.94zm10 10l.94 2.06.94-2.06 2.06-.94-2.06-.94-.94-2.06-.94 2.06-2.06.94z\"/><path d=\"M17.41 7.96l-1.37-1.37c-.4-.4-.92-.59-1.43-.59-.52 0-1.04.2-1.43.59L10.3 9.45l-7.72 7.72c-.78.78-.78 2.05 0 2.83L4 21.41c.39.39.9.59 1.41.59.51 0 1.02-.2 1.41-.59l7.78-7.78 2.81-2.81c.8-.78.8-2.07 0-2.86zM5.41 20L4 18.59l7.72-7.72 1.47 1.35L5.41 20z\"/>\n",
              "  </svg>\n",
              "      </button>\n",
              "      \n",
              "  <style>\n",
              "    .colab-df-container {\n",
              "      display:flex;\n",
              "      flex-wrap:wrap;\n",
              "      gap: 12px;\n",
              "    }\n",
              "\n",
              "    .colab-df-convert {\n",
              "      background-color: #E8F0FE;\n",
              "      border: none;\n",
              "      border-radius: 50%;\n",
              "      cursor: pointer;\n",
              "      display: none;\n",
              "      fill: #1967D2;\n",
              "      height: 32px;\n",
              "      padding: 0 0 0 0;\n",
              "      width: 32px;\n",
              "    }\n",
              "\n",
              "    .colab-df-convert:hover {\n",
              "      background-color: #E2EBFA;\n",
              "      box-shadow: 0px 1px 2px rgba(60, 64, 67, 0.3), 0px 1px 3px 1px rgba(60, 64, 67, 0.15);\n",
              "      fill: #174EA6;\n",
              "    }\n",
              "\n",
              "    [theme=dark] .colab-df-convert {\n",
              "      background-color: #3B4455;\n",
              "      fill: #D2E3FC;\n",
              "    }\n",
              "\n",
              "    [theme=dark] .colab-df-convert:hover {\n",
              "      background-color: #434B5C;\n",
              "      box-shadow: 0px 1px 3px 1px rgba(0, 0, 0, 0.15);\n",
              "      filter: drop-shadow(0px 1px 2px rgba(0, 0, 0, 0.3));\n",
              "      fill: #FFFFFF;\n",
              "    }\n",
              "  </style>\n",
              "\n",
              "      <script>\n",
              "        const buttonEl =\n",
              "          document.querySelector('#df-5016f319-4858-4087-83df-83e597fb103f button.colab-df-convert');\n",
              "        buttonEl.style.display =\n",
              "          google.colab.kernel.accessAllowed ? 'block' : 'none';\n",
              "\n",
              "        async function convertToInteractive(key) {\n",
              "          const element = document.querySelector('#df-5016f319-4858-4087-83df-83e597fb103f');\n",
              "          const dataTable =\n",
              "            await google.colab.kernel.invokeFunction('convertToInteractive',\n",
              "                                                     [key], {});\n",
              "          if (!dataTable) return;\n",
              "\n",
              "          const docLinkHtml = 'Like what you see? Visit the ' +\n",
              "            '<a target=\"_blank\" href=https://colab.research.google.com/notebooks/data_table.ipynb>data table notebook</a>'\n",
              "            + ' to learn more about interactive tables.';\n",
              "          element.innerHTML = '';\n",
              "          dataTable['output_type'] = 'display_data';\n",
              "          await google.colab.output.renderOutput(dataTable, element);\n",
              "          const docLink = document.createElement('div');\n",
              "          docLink.innerHTML = docLinkHtml;\n",
              "          element.appendChild(docLink);\n",
              "        }\n",
              "      </script>\n",
              "    </div>\n",
              "  </div>\n",
              "  "
            ]
          },
          "metadata": {},
          "execution_count": 250
        }
      ],
      "source": [
        "dta.loc[(dta['HYPERTENSION_VISIT'] == 0)]"
      ]
    },
    {
      "cell_type": "code",
      "execution_count": null,
      "metadata": {
        "colab": {
          "base_uri": "https://localhost:8080/"
        },
        "id": "qlQM7hE7_dJo",
        "outputId": "e7916cfe-a847-4ae0-a3d8-1a913e46cb38"
      },
      "outputs": [
        {
          "output_type": "execute_result",
          "data": {
            "text/plain": [
              "           code  PATIENT_NUM  GENDER  VISIT_TYPE  AGE  \\\n",
              "8       1168513      1166159       1           2   75   \n",
              "21      1169518      1166159       1           8   80   \n",
              "24      1169720      1166159       1           6   80   \n",
              "29      1170336      1166159       1           6   80   \n",
              "34      1170680      1166159       1           6   80   \n",
              "...         ...          ...     ...         ...  ...   \n",
              "57277  31087846      5355212       1           6   85   \n",
              "57280  31107999      5355212       1           6   85   \n",
              "57283  31135555      5355212       1           6   85   \n",
              "57286  31155552      5355212       1          11   85   \n",
              "57290  31196290      5355212       1           6   85   \n",
              "\n",
              "       FAMILY_HYPERTENSION_NUM  HYPERTENSION_VISIT  HYPERTENSION_SEVERITY  \\\n",
              "8                            1                   1                      0   \n",
              "21                           1                   0                      0   \n",
              "24                           1                   0                      0   \n",
              "29                           1                   1                      0   \n",
              "34                           1                   1                      0   \n",
              "...                        ...                 ...                    ...   \n",
              "57277                        0                   0                      0   \n",
              "57280                        0                   0                      0   \n",
              "57283                        0                   0                      0   \n",
              "57286                        0                   0                      0   \n",
              "57290                        0                   0                      0   \n",
              "\n",
              "       HYPERTENSION_STATUS  DIASTOLIC_BP  ...  BMI  NON_SMOKER  NON_DRINKER  \\\n",
              "8                        0          92.0  ...  NaN           1            1   \n",
              "21                       0          70.0  ...  NaN           1            1   \n",
              "24                       0          94.0  ...  NaN           1            1   \n",
              "29                       0          86.0  ...  NaN           1            1   \n",
              "34                       0          80.0  ...  NaN           1            1   \n",
              "...                    ...           ...  ...  ...         ...          ...   \n",
              "57277                    0          66.0  ...  NaN           0            1   \n",
              "57280                    0          60.0  ...  NaN           0            1   \n",
              "57283                    0          59.0  ...  NaN           0            1   \n",
              "57286                    0          65.0  ...  NaN           0            1   \n",
              "57290                    0          65.0  ...  NaN           0            1   \n",
              "\n",
              "       REGULAR_EXERCISER  NON_ALLERGY HOS_PERIOD  cluster  VISIT  DAYS  \\\n",
              "8                      0            0          0        1      8   527   \n",
              "21                     0            0          0        1     21   870   \n",
              "24                     0            0          0        1     24   934   \n",
              "29                     0            0          0        1     29  1165   \n",
              "34                     0            0          0        1     34  1200   \n",
              "...                  ...          ...        ...      ...    ...   ...   \n",
              "57277                  0            0          0        1    212  6755   \n",
              "57280                  0            0          0        1    215  6764   \n",
              "57283                  0            0          0        1    218  6778   \n",
              "57286                  0            0          0        1    221  6789   \n",
              "57290                  0            0          0        1    225  6807   \n",
              "\n",
              "       LABELED  \n",
              "8            0  \n",
              "21           0  \n",
              "24           0  \n",
              "29           0  \n",
              "34           0  \n",
              "...        ...  \n",
              "57277        0  \n",
              "57280        0  \n",
              "57283        0  \n",
              "57286        0  \n",
              "57290        0  \n",
              "\n",
              "[3775 rows x 28 columns]"
            ],
            "text/html": [
              "\n",
              "  <div id=\"df-e6a8ad5a-ee33-49f9-965d-35dd4118d1ee\">\n",
              "    <div class=\"colab-df-container\">\n",
              "      <div>\n",
              "<style scoped>\n",
              "    .dataframe tbody tr th:only-of-type {\n",
              "        vertical-align: middle;\n",
              "    }\n",
              "\n",
              "    .dataframe tbody tr th {\n",
              "        vertical-align: top;\n",
              "    }\n",
              "\n",
              "    .dataframe thead th {\n",
              "        text-align: right;\n",
              "    }\n",
              "</style>\n",
              "<table border=\"1\" class=\"dataframe\">\n",
              "  <thead>\n",
              "    <tr style=\"text-align: right;\">\n",
              "      <th></th>\n",
              "      <th>code</th>\n",
              "      <th>PATIENT_NUM</th>\n",
              "      <th>GENDER</th>\n",
              "      <th>VISIT_TYPE</th>\n",
              "      <th>AGE</th>\n",
              "      <th>FAMILY_HYPERTENSION_NUM</th>\n",
              "      <th>HYPERTENSION_VISIT</th>\n",
              "      <th>HYPERTENSION_SEVERITY</th>\n",
              "      <th>HYPERTENSION_STATUS</th>\n",
              "      <th>DIASTOLIC_BP</th>\n",
              "      <th>...</th>\n",
              "      <th>BMI</th>\n",
              "      <th>NON_SMOKER</th>\n",
              "      <th>NON_DRINKER</th>\n",
              "      <th>REGULAR_EXERCISER</th>\n",
              "      <th>NON_ALLERGY</th>\n",
              "      <th>HOS_PERIOD</th>\n",
              "      <th>cluster</th>\n",
              "      <th>VISIT</th>\n",
              "      <th>DAYS</th>\n",
              "      <th>LABELED</th>\n",
              "    </tr>\n",
              "  </thead>\n",
              "  <tbody>\n",
              "    <tr>\n",
              "      <th>8</th>\n",
              "      <td>1168513</td>\n",
              "      <td>1166159</td>\n",
              "      <td>1</td>\n",
              "      <td>2</td>\n",
              "      <td>75</td>\n",
              "      <td>1</td>\n",
              "      <td>1</td>\n",
              "      <td>0</td>\n",
              "      <td>0</td>\n",
              "      <td>92.0</td>\n",
              "      <td>...</td>\n",
              "      <td>NaN</td>\n",
              "      <td>1</td>\n",
              "      <td>1</td>\n",
              "      <td>0</td>\n",
              "      <td>0</td>\n",
              "      <td>0</td>\n",
              "      <td>1</td>\n",
              "      <td>8</td>\n",
              "      <td>527</td>\n",
              "      <td>0</td>\n",
              "    </tr>\n",
              "    <tr>\n",
              "      <th>21</th>\n",
              "      <td>1169518</td>\n",
              "      <td>1166159</td>\n",
              "      <td>1</td>\n",
              "      <td>8</td>\n",
              "      <td>80</td>\n",
              "      <td>1</td>\n",
              "      <td>0</td>\n",
              "      <td>0</td>\n",
              "      <td>0</td>\n",
              "      <td>70.0</td>\n",
              "      <td>...</td>\n",
              "      <td>NaN</td>\n",
              "      <td>1</td>\n",
              "      <td>1</td>\n",
              "      <td>0</td>\n",
              "      <td>0</td>\n",
              "      <td>0</td>\n",
              "      <td>1</td>\n",
              "      <td>21</td>\n",
              "      <td>870</td>\n",
              "      <td>0</td>\n",
              "    </tr>\n",
              "    <tr>\n",
              "      <th>24</th>\n",
              "      <td>1169720</td>\n",
              "      <td>1166159</td>\n",
              "      <td>1</td>\n",
              "      <td>6</td>\n",
              "      <td>80</td>\n",
              "      <td>1</td>\n",
              "      <td>0</td>\n",
              "      <td>0</td>\n",
              "      <td>0</td>\n",
              "      <td>94.0</td>\n",
              "      <td>...</td>\n",
              "      <td>NaN</td>\n",
              "      <td>1</td>\n",
              "      <td>1</td>\n",
              "      <td>0</td>\n",
              "      <td>0</td>\n",
              "      <td>0</td>\n",
              "      <td>1</td>\n",
              "      <td>24</td>\n",
              "      <td>934</td>\n",
              "      <td>0</td>\n",
              "    </tr>\n",
              "    <tr>\n",
              "      <th>29</th>\n",
              "      <td>1170336</td>\n",
              "      <td>1166159</td>\n",
              "      <td>1</td>\n",
              "      <td>6</td>\n",
              "      <td>80</td>\n",
              "      <td>1</td>\n",
              "      <td>1</td>\n",
              "      <td>0</td>\n",
              "      <td>0</td>\n",
              "      <td>86.0</td>\n",
              "      <td>...</td>\n",
              "      <td>NaN</td>\n",
              "      <td>1</td>\n",
              "      <td>1</td>\n",
              "      <td>0</td>\n",
              "      <td>0</td>\n",
              "      <td>0</td>\n",
              "      <td>1</td>\n",
              "      <td>29</td>\n",
              "      <td>1165</td>\n",
              "      <td>0</td>\n",
              "    </tr>\n",
              "    <tr>\n",
              "      <th>34</th>\n",
              "      <td>1170680</td>\n",
              "      <td>1166159</td>\n",
              "      <td>1</td>\n",
              "      <td>6</td>\n",
              "      <td>80</td>\n",
              "      <td>1</td>\n",
              "      <td>1</td>\n",
              "      <td>0</td>\n",
              "      <td>0</td>\n",
              "      <td>80.0</td>\n",
              "      <td>...</td>\n",
              "      <td>NaN</td>\n",
              "      <td>1</td>\n",
              "      <td>1</td>\n",
              "      <td>0</td>\n",
              "      <td>0</td>\n",
              "      <td>0</td>\n",
              "      <td>1</td>\n",
              "      <td>34</td>\n",
              "      <td>1200</td>\n",
              "      <td>0</td>\n",
              "    </tr>\n",
              "    <tr>\n",
              "      <th>...</th>\n",
              "      <td>...</td>\n",
              "      <td>...</td>\n",
              "      <td>...</td>\n",
              "      <td>...</td>\n",
              "      <td>...</td>\n",
              "      <td>...</td>\n",
              "      <td>...</td>\n",
              "      <td>...</td>\n",
              "      <td>...</td>\n",
              "      <td>...</td>\n",
              "      <td>...</td>\n",
              "      <td>...</td>\n",
              "      <td>...</td>\n",
              "      <td>...</td>\n",
              "      <td>...</td>\n",
              "      <td>...</td>\n",
              "      <td>...</td>\n",
              "      <td>...</td>\n",
              "      <td>...</td>\n",
              "      <td>...</td>\n",
              "      <td>...</td>\n",
              "    </tr>\n",
              "    <tr>\n",
              "      <th>57277</th>\n",
              "      <td>31087846</td>\n",
              "      <td>5355212</td>\n",
              "      <td>1</td>\n",
              "      <td>6</td>\n",
              "      <td>85</td>\n",
              "      <td>0</td>\n",
              "      <td>0</td>\n",
              "      <td>0</td>\n",
              "      <td>0</td>\n",
              "      <td>66.0</td>\n",
              "      <td>...</td>\n",
              "      <td>NaN</td>\n",
              "      <td>0</td>\n",
              "      <td>1</td>\n",
              "      <td>0</td>\n",
              "      <td>0</td>\n",
              "      <td>0</td>\n",
              "      <td>1</td>\n",
              "      <td>212</td>\n",
              "      <td>6755</td>\n",
              "      <td>0</td>\n",
              "    </tr>\n",
              "    <tr>\n",
              "      <th>57280</th>\n",
              "      <td>31107999</td>\n",
              "      <td>5355212</td>\n",
              "      <td>1</td>\n",
              "      <td>6</td>\n",
              "      <td>85</td>\n",
              "      <td>0</td>\n",
              "      <td>0</td>\n",
              "      <td>0</td>\n",
              "      <td>0</td>\n",
              "      <td>60.0</td>\n",
              "      <td>...</td>\n",
              "      <td>NaN</td>\n",
              "      <td>0</td>\n",
              "      <td>1</td>\n",
              "      <td>0</td>\n",
              "      <td>0</td>\n",
              "      <td>0</td>\n",
              "      <td>1</td>\n",
              "      <td>215</td>\n",
              "      <td>6764</td>\n",
              "      <td>0</td>\n",
              "    </tr>\n",
              "    <tr>\n",
              "      <th>57283</th>\n",
              "      <td>31135555</td>\n",
              "      <td>5355212</td>\n",
              "      <td>1</td>\n",
              "      <td>6</td>\n",
              "      <td>85</td>\n",
              "      <td>0</td>\n",
              "      <td>0</td>\n",
              "      <td>0</td>\n",
              "      <td>0</td>\n",
              "      <td>59.0</td>\n",
              "      <td>...</td>\n",
              "      <td>NaN</td>\n",
              "      <td>0</td>\n",
              "      <td>1</td>\n",
              "      <td>0</td>\n",
              "      <td>0</td>\n",
              "      <td>0</td>\n",
              "      <td>1</td>\n",
              "      <td>218</td>\n",
              "      <td>6778</td>\n",
              "      <td>0</td>\n",
              "    </tr>\n",
              "    <tr>\n",
              "      <th>57286</th>\n",
              "      <td>31155552</td>\n",
              "      <td>5355212</td>\n",
              "      <td>1</td>\n",
              "      <td>11</td>\n",
              "      <td>85</td>\n",
              "      <td>0</td>\n",
              "      <td>0</td>\n",
              "      <td>0</td>\n",
              "      <td>0</td>\n",
              "      <td>65.0</td>\n",
              "      <td>...</td>\n",
              "      <td>NaN</td>\n",
              "      <td>0</td>\n",
              "      <td>1</td>\n",
              "      <td>0</td>\n",
              "      <td>0</td>\n",
              "      <td>0</td>\n",
              "      <td>1</td>\n",
              "      <td>221</td>\n",
              "      <td>6789</td>\n",
              "      <td>0</td>\n",
              "    </tr>\n",
              "    <tr>\n",
              "      <th>57290</th>\n",
              "      <td>31196290</td>\n",
              "      <td>5355212</td>\n",
              "      <td>1</td>\n",
              "      <td>6</td>\n",
              "      <td>85</td>\n",
              "      <td>0</td>\n",
              "      <td>0</td>\n",
              "      <td>0</td>\n",
              "      <td>0</td>\n",
              "      <td>65.0</td>\n",
              "      <td>...</td>\n",
              "      <td>NaN</td>\n",
              "      <td>0</td>\n",
              "      <td>1</td>\n",
              "      <td>0</td>\n",
              "      <td>0</td>\n",
              "      <td>0</td>\n",
              "      <td>1</td>\n",
              "      <td>225</td>\n",
              "      <td>6807</td>\n",
              "      <td>0</td>\n",
              "    </tr>\n",
              "  </tbody>\n",
              "</table>\n",
              "<p>3775 rows × 28 columns</p>\n",
              "</div>\n",
              "      <button class=\"colab-df-convert\" onclick=\"convertToInteractive('df-e6a8ad5a-ee33-49f9-965d-35dd4118d1ee')\"\n",
              "              title=\"Convert this dataframe to an interactive table.\"\n",
              "              style=\"display:none;\">\n",
              "        \n",
              "  <svg xmlns=\"http://www.w3.org/2000/svg\" height=\"24px\"viewBox=\"0 0 24 24\"\n",
              "       width=\"24px\">\n",
              "    <path d=\"M0 0h24v24H0V0z\" fill=\"none\"/>\n",
              "    <path d=\"M18.56 5.44l.94 2.06.94-2.06 2.06-.94-2.06-.94-.94-2.06-.94 2.06-2.06.94zm-11 1L8.5 8.5l.94-2.06 2.06-.94-2.06-.94L8.5 2.5l-.94 2.06-2.06.94zm10 10l.94 2.06.94-2.06 2.06-.94-2.06-.94-.94-2.06-.94 2.06-2.06.94z\"/><path d=\"M17.41 7.96l-1.37-1.37c-.4-.4-.92-.59-1.43-.59-.52 0-1.04.2-1.43.59L10.3 9.45l-7.72 7.72c-.78.78-.78 2.05 0 2.83L4 21.41c.39.39.9.59 1.41.59.51 0 1.02-.2 1.41-.59l7.78-7.78 2.81-2.81c.8-.78.8-2.07 0-2.86zM5.41 20L4 18.59l7.72-7.72 1.47 1.35L5.41 20z\"/>\n",
              "  </svg>\n",
              "      </button>\n",
              "      \n",
              "  <style>\n",
              "    .colab-df-container {\n",
              "      display:flex;\n",
              "      flex-wrap:wrap;\n",
              "      gap: 12px;\n",
              "    }\n",
              "\n",
              "    .colab-df-convert {\n",
              "      background-color: #E8F0FE;\n",
              "      border: none;\n",
              "      border-radius: 50%;\n",
              "      cursor: pointer;\n",
              "      display: none;\n",
              "      fill: #1967D2;\n",
              "      height: 32px;\n",
              "      padding: 0 0 0 0;\n",
              "      width: 32px;\n",
              "    }\n",
              "\n",
              "    .colab-df-convert:hover {\n",
              "      background-color: #E2EBFA;\n",
              "      box-shadow: 0px 1px 2px rgba(60, 64, 67, 0.3), 0px 1px 3px 1px rgba(60, 64, 67, 0.15);\n",
              "      fill: #174EA6;\n",
              "    }\n",
              "\n",
              "    [theme=dark] .colab-df-convert {\n",
              "      background-color: #3B4455;\n",
              "      fill: #D2E3FC;\n",
              "    }\n",
              "\n",
              "    [theme=dark] .colab-df-convert:hover {\n",
              "      background-color: #434B5C;\n",
              "      box-shadow: 0px 1px 3px 1px rgba(0, 0, 0, 0.15);\n",
              "      filter: drop-shadow(0px 1px 2px rgba(0, 0, 0, 0.3));\n",
              "      fill: #FFFFFF;\n",
              "    }\n",
              "  </style>\n",
              "\n",
              "      <script>\n",
              "        const buttonEl =\n",
              "          document.querySelector('#df-e6a8ad5a-ee33-49f9-965d-35dd4118d1ee button.colab-df-convert');\n",
              "        buttonEl.style.display =\n",
              "          google.colab.kernel.accessAllowed ? 'block' : 'none';\n",
              "\n",
              "        async function convertToInteractive(key) {\n",
              "          const element = document.querySelector('#df-e6a8ad5a-ee33-49f9-965d-35dd4118d1ee');\n",
              "          const dataTable =\n",
              "            await google.colab.kernel.invokeFunction('convertToInteractive',\n",
              "                                                     [key], {});\n",
              "          if (!dataTable) return;\n",
              "\n",
              "          const docLinkHtml = 'Like what you see? Visit the ' +\n",
              "            '<a target=\"_blank\" href=https://colab.research.google.com/notebooks/data_table.ipynb>data table notebook</a>'\n",
              "            + ' to learn more about interactive tables.';\n",
              "          element.innerHTML = '';\n",
              "          dataTable['output_type'] = 'display_data';\n",
              "          await google.colab.output.renderOutput(dataTable, element);\n",
              "          const docLink = document.createElement('div');\n",
              "          docLink.innerHTML = docLinkHtml;\n",
              "          element.appendChild(docLink);\n",
              "        }\n",
              "      </script>\n",
              "    </div>\n",
              "  </div>\n",
              "  "
            ]
          },
          "metadata": {},
          "execution_count": 251
        }
      ],
      "source": [
        "dta.loc[(dta['HYPERTENSION_SEVERITY'] == 0) & (dta['DIASTOLIC_BP'].notnull())]"
      ]
    },
    {
      "cell_type": "code",
      "execution_count": null,
      "metadata": {
        "colab": {
          "base_uri": "https://localhost:8080/"
        },
        "id": "5LLTsvwzAGRI",
        "outputId": "331098be-3445-4c58-db65-900e18eadd7b"
      },
      "outputs": [
        {
          "output_type": "execute_result",
          "data": {
            "text/plain": [
              "           code  PATIENT_NUM  GENDER  VISIT_TYPE  AGE  \\\n",
              "3       1167065      1166159       1          96   75   \n",
              "6       1167600      1166159       1           7   75   \n",
              "27      1169922      1166159       1           2   80   \n",
              "36      1170841      1166159       1           6   80   \n",
              "38      1170919      1166159       1           6   80   \n",
              "...         ...          ...     ...         ...  ...   \n",
              "57673  28247320      5009829       1           8   90   \n",
              "57677  28352014      5009829       1           7   90   \n",
              "57682  28511125      5009829       1         120   90   \n",
              "57704  30642088      5009829       1           8   95   \n",
              "57708  30945005      5009829       1         120   95   \n",
              "\n",
              "       FAMILY_HYPERTENSION_NUM  HYPERTENSION_VISIT  HYPERTENSION_SEVERITY  \\\n",
              "3                            1                   1                      0   \n",
              "6                            1                   1                      0   \n",
              "27                           1                   1                      0   \n",
              "36                           1                   1                      0   \n",
              "38                           1                   1                      0   \n",
              "...                        ...                 ...                    ...   \n",
              "57673                        0                   1                      2   \n",
              "57677                        0                   1                      2   \n",
              "57682                        0                   1                      2   \n",
              "57704                        0                   1                      2   \n",
              "57708                        0                   1                      2   \n",
              "\n",
              "       HYPERTENSION_STATUS  DIASTOLIC_BP  ...  BMI  NON_SMOKER  NON_DRINKER  \\\n",
              "3                        0           NaN  ...  NaN           1            1   \n",
              "6                        0           NaN  ...  NaN           1            1   \n",
              "27                       0           NaN  ...  NaN           1            1   \n",
              "36                       0           NaN  ...  NaN           1            1   \n",
              "38                       0           NaN  ...  NaN           1            1   \n",
              "...                    ...           ...  ...  ...         ...          ...   \n",
              "57673                    3           NaN  ...  NaN           1            0   \n",
              "57677                    3           NaN  ...  NaN           1            0   \n",
              "57682                    3           NaN  ...  NaN           1            0   \n",
              "57704                    3           NaN  ...  NaN           1            0   \n",
              "57708                    3           NaN  ...  NaN           1            0   \n",
              "\n",
              "       REGULAR_EXERCISER  NON_ALLERGY HOS_PERIOD  cluster  VISIT  DAYS  \\\n",
              "3                      0            0          0        1      3     0   \n",
              "6                      0            0          0        1      6   344   \n",
              "27                     0            0          0        1     27  1151   \n",
              "36                     0            0          0        1     36  1235   \n",
              "38                     0            0          0        1     38  1270   \n",
              "...                  ...          ...        ...      ...    ...   ...   \n",
              "57673                  0            0          0        0    203  5768   \n",
              "57677                  0            0          0        0    207  5835   \n",
              "57682                  0            0          0        0    212  5912   \n",
              "57704                  0            0          0        0    234  6982   \n",
              "57708                  0            0          0        0    238  7123   \n",
              "\n",
              "       LABELED  \n",
              "3            0  \n",
              "6            0  \n",
              "27           0  \n",
              "36           0  \n",
              "38           0  \n",
              "...        ...  \n",
              "57673        1  \n",
              "57677        1  \n",
              "57682        1  \n",
              "57704        1  \n",
              "57708        1  \n",
              "\n",
              "[3165 rows x 28 columns]"
            ],
            "text/html": [
              "\n",
              "  <div id=\"df-5a92265d-cabc-4627-b3ad-1c96a91d687b\">\n",
              "    <div class=\"colab-df-container\">\n",
              "      <div>\n",
              "<style scoped>\n",
              "    .dataframe tbody tr th:only-of-type {\n",
              "        vertical-align: middle;\n",
              "    }\n",
              "\n",
              "    .dataframe tbody tr th {\n",
              "        vertical-align: top;\n",
              "    }\n",
              "\n",
              "    .dataframe thead th {\n",
              "        text-align: right;\n",
              "    }\n",
              "</style>\n",
              "<table border=\"1\" class=\"dataframe\">\n",
              "  <thead>\n",
              "    <tr style=\"text-align: right;\">\n",
              "      <th></th>\n",
              "      <th>code</th>\n",
              "      <th>PATIENT_NUM</th>\n",
              "      <th>GENDER</th>\n",
              "      <th>VISIT_TYPE</th>\n",
              "      <th>AGE</th>\n",
              "      <th>FAMILY_HYPERTENSION_NUM</th>\n",
              "      <th>HYPERTENSION_VISIT</th>\n",
              "      <th>HYPERTENSION_SEVERITY</th>\n",
              "      <th>HYPERTENSION_STATUS</th>\n",
              "      <th>DIASTOLIC_BP</th>\n",
              "      <th>...</th>\n",
              "      <th>BMI</th>\n",
              "      <th>NON_SMOKER</th>\n",
              "      <th>NON_DRINKER</th>\n",
              "      <th>REGULAR_EXERCISER</th>\n",
              "      <th>NON_ALLERGY</th>\n",
              "      <th>HOS_PERIOD</th>\n",
              "      <th>cluster</th>\n",
              "      <th>VISIT</th>\n",
              "      <th>DAYS</th>\n",
              "      <th>LABELED</th>\n",
              "    </tr>\n",
              "  </thead>\n",
              "  <tbody>\n",
              "    <tr>\n",
              "      <th>3</th>\n",
              "      <td>1167065</td>\n",
              "      <td>1166159</td>\n",
              "      <td>1</td>\n",
              "      <td>96</td>\n",
              "      <td>75</td>\n",
              "      <td>1</td>\n",
              "      <td>1</td>\n",
              "      <td>0</td>\n",
              "      <td>0</td>\n",
              "      <td>NaN</td>\n",
              "      <td>...</td>\n",
              "      <td>NaN</td>\n",
              "      <td>1</td>\n",
              "      <td>1</td>\n",
              "      <td>0</td>\n",
              "      <td>0</td>\n",
              "      <td>0</td>\n",
              "      <td>1</td>\n",
              "      <td>3</td>\n",
              "      <td>0</td>\n",
              "      <td>0</td>\n",
              "    </tr>\n",
              "    <tr>\n",
              "      <th>6</th>\n",
              "      <td>1167600</td>\n",
              "      <td>1166159</td>\n",
              "      <td>1</td>\n",
              "      <td>7</td>\n",
              "      <td>75</td>\n",
              "      <td>1</td>\n",
              "      <td>1</td>\n",
              "      <td>0</td>\n",
              "      <td>0</td>\n",
              "      <td>NaN</td>\n",
              "      <td>...</td>\n",
              "      <td>NaN</td>\n",
              "      <td>1</td>\n",
              "      <td>1</td>\n",
              "      <td>0</td>\n",
              "      <td>0</td>\n",
              "      <td>0</td>\n",
              "      <td>1</td>\n",
              "      <td>6</td>\n",
              "      <td>344</td>\n",
              "      <td>0</td>\n",
              "    </tr>\n",
              "    <tr>\n",
              "      <th>27</th>\n",
              "      <td>1169922</td>\n",
              "      <td>1166159</td>\n",
              "      <td>1</td>\n",
              "      <td>2</td>\n",
              "      <td>80</td>\n",
              "      <td>1</td>\n",
              "      <td>1</td>\n",
              "      <td>0</td>\n",
              "      <td>0</td>\n",
              "      <td>NaN</td>\n",
              "      <td>...</td>\n",
              "      <td>NaN</td>\n",
              "      <td>1</td>\n",
              "      <td>1</td>\n",
              "      <td>0</td>\n",
              "      <td>0</td>\n",
              "      <td>0</td>\n",
              "      <td>1</td>\n",
              "      <td>27</td>\n",
              "      <td>1151</td>\n",
              "      <td>0</td>\n",
              "    </tr>\n",
              "    <tr>\n",
              "      <th>36</th>\n",
              "      <td>1170841</td>\n",
              "      <td>1166159</td>\n",
              "      <td>1</td>\n",
              "      <td>6</td>\n",
              "      <td>80</td>\n",
              "      <td>1</td>\n",
              "      <td>1</td>\n",
              "      <td>0</td>\n",
              "      <td>0</td>\n",
              "      <td>NaN</td>\n",
              "      <td>...</td>\n",
              "      <td>NaN</td>\n",
              "      <td>1</td>\n",
              "      <td>1</td>\n",
              "      <td>0</td>\n",
              "      <td>0</td>\n",
              "      <td>0</td>\n",
              "      <td>1</td>\n",
              "      <td>36</td>\n",
              "      <td>1235</td>\n",
              "      <td>0</td>\n",
              "    </tr>\n",
              "    <tr>\n",
              "      <th>38</th>\n",
              "      <td>1170919</td>\n",
              "      <td>1166159</td>\n",
              "      <td>1</td>\n",
              "      <td>6</td>\n",
              "      <td>80</td>\n",
              "      <td>1</td>\n",
              "      <td>1</td>\n",
              "      <td>0</td>\n",
              "      <td>0</td>\n",
              "      <td>NaN</td>\n",
              "      <td>...</td>\n",
              "      <td>NaN</td>\n",
              "      <td>1</td>\n",
              "      <td>1</td>\n",
              "      <td>0</td>\n",
              "      <td>0</td>\n",
              "      <td>0</td>\n",
              "      <td>1</td>\n",
              "      <td>38</td>\n",
              "      <td>1270</td>\n",
              "      <td>0</td>\n",
              "    </tr>\n",
              "    <tr>\n",
              "      <th>...</th>\n",
              "      <td>...</td>\n",
              "      <td>...</td>\n",
              "      <td>...</td>\n",
              "      <td>...</td>\n",
              "      <td>...</td>\n",
              "      <td>...</td>\n",
              "      <td>...</td>\n",
              "      <td>...</td>\n",
              "      <td>...</td>\n",
              "      <td>...</td>\n",
              "      <td>...</td>\n",
              "      <td>...</td>\n",
              "      <td>...</td>\n",
              "      <td>...</td>\n",
              "      <td>...</td>\n",
              "      <td>...</td>\n",
              "      <td>...</td>\n",
              "      <td>...</td>\n",
              "      <td>...</td>\n",
              "      <td>...</td>\n",
              "      <td>...</td>\n",
              "    </tr>\n",
              "    <tr>\n",
              "      <th>57673</th>\n",
              "      <td>28247320</td>\n",
              "      <td>5009829</td>\n",
              "      <td>1</td>\n",
              "      <td>8</td>\n",
              "      <td>90</td>\n",
              "      <td>0</td>\n",
              "      <td>1</td>\n",
              "      <td>2</td>\n",
              "      <td>3</td>\n",
              "      <td>NaN</td>\n",
              "      <td>...</td>\n",
              "      <td>NaN</td>\n",
              "      <td>1</td>\n",
              "      <td>0</td>\n",
              "      <td>0</td>\n",
              "      <td>0</td>\n",
              "      <td>0</td>\n",
              "      <td>0</td>\n",
              "      <td>203</td>\n",
              "      <td>5768</td>\n",
              "      <td>1</td>\n",
              "    </tr>\n",
              "    <tr>\n",
              "      <th>57677</th>\n",
              "      <td>28352014</td>\n",
              "      <td>5009829</td>\n",
              "      <td>1</td>\n",
              "      <td>7</td>\n",
              "      <td>90</td>\n",
              "      <td>0</td>\n",
              "      <td>1</td>\n",
              "      <td>2</td>\n",
              "      <td>3</td>\n",
              "      <td>NaN</td>\n",
              "      <td>...</td>\n",
              "      <td>NaN</td>\n",
              "      <td>1</td>\n",
              "      <td>0</td>\n",
              "      <td>0</td>\n",
              "      <td>0</td>\n",
              "      <td>0</td>\n",
              "      <td>0</td>\n",
              "      <td>207</td>\n",
              "      <td>5835</td>\n",
              "      <td>1</td>\n",
              "    </tr>\n",
              "    <tr>\n",
              "      <th>57682</th>\n",
              "      <td>28511125</td>\n",
              "      <td>5009829</td>\n",
              "      <td>1</td>\n",
              "      <td>120</td>\n",
              "      <td>90</td>\n",
              "      <td>0</td>\n",
              "      <td>1</td>\n",
              "      <td>2</td>\n",
              "      <td>3</td>\n",
              "      <td>NaN</td>\n",
              "      <td>...</td>\n",
              "      <td>NaN</td>\n",
              "      <td>1</td>\n",
              "      <td>0</td>\n",
              "      <td>0</td>\n",
              "      <td>0</td>\n",
              "      <td>0</td>\n",
              "      <td>0</td>\n",
              "      <td>212</td>\n",
              "      <td>5912</td>\n",
              "      <td>1</td>\n",
              "    </tr>\n",
              "    <tr>\n",
              "      <th>57704</th>\n",
              "      <td>30642088</td>\n",
              "      <td>5009829</td>\n",
              "      <td>1</td>\n",
              "      <td>8</td>\n",
              "      <td>95</td>\n",
              "      <td>0</td>\n",
              "      <td>1</td>\n",
              "      <td>2</td>\n",
              "      <td>3</td>\n",
              "      <td>NaN</td>\n",
              "      <td>...</td>\n",
              "      <td>NaN</td>\n",
              "      <td>1</td>\n",
              "      <td>0</td>\n",
              "      <td>0</td>\n",
              "      <td>0</td>\n",
              "      <td>0</td>\n",
              "      <td>0</td>\n",
              "      <td>234</td>\n",
              "      <td>6982</td>\n",
              "      <td>1</td>\n",
              "    </tr>\n",
              "    <tr>\n",
              "      <th>57708</th>\n",
              "      <td>30945005</td>\n",
              "      <td>5009829</td>\n",
              "      <td>1</td>\n",
              "      <td>120</td>\n",
              "      <td>95</td>\n",
              "      <td>0</td>\n",
              "      <td>1</td>\n",
              "      <td>2</td>\n",
              "      <td>3</td>\n",
              "      <td>NaN</td>\n",
              "      <td>...</td>\n",
              "      <td>NaN</td>\n",
              "      <td>1</td>\n",
              "      <td>0</td>\n",
              "      <td>0</td>\n",
              "      <td>0</td>\n",
              "      <td>0</td>\n",
              "      <td>0</td>\n",
              "      <td>238</td>\n",
              "      <td>7123</td>\n",
              "      <td>1</td>\n",
              "    </tr>\n",
              "  </tbody>\n",
              "</table>\n",
              "<p>3165 rows × 28 columns</p>\n",
              "</div>\n",
              "      <button class=\"colab-df-convert\" onclick=\"convertToInteractive('df-5a92265d-cabc-4627-b3ad-1c96a91d687b')\"\n",
              "              title=\"Convert this dataframe to an interactive table.\"\n",
              "              style=\"display:none;\">\n",
              "        \n",
              "  <svg xmlns=\"http://www.w3.org/2000/svg\" height=\"24px\"viewBox=\"0 0 24 24\"\n",
              "       width=\"24px\">\n",
              "    <path d=\"M0 0h24v24H0V0z\" fill=\"none\"/>\n",
              "    <path d=\"M18.56 5.44l.94 2.06.94-2.06 2.06-.94-2.06-.94-.94-2.06-.94 2.06-2.06.94zm-11 1L8.5 8.5l.94-2.06 2.06-.94-2.06-.94L8.5 2.5l-.94 2.06-2.06.94zm10 10l.94 2.06.94-2.06 2.06-.94-2.06-.94-.94-2.06-.94 2.06-2.06.94z\"/><path d=\"M17.41 7.96l-1.37-1.37c-.4-.4-.92-.59-1.43-.59-.52 0-1.04.2-1.43.59L10.3 9.45l-7.72 7.72c-.78.78-.78 2.05 0 2.83L4 21.41c.39.39.9.59 1.41.59.51 0 1.02-.2 1.41-.59l7.78-7.78 2.81-2.81c.8-.78.8-2.07 0-2.86zM5.41 20L4 18.59l7.72-7.72 1.47 1.35L5.41 20z\"/>\n",
              "  </svg>\n",
              "      </button>\n",
              "      \n",
              "  <style>\n",
              "    .colab-df-container {\n",
              "      display:flex;\n",
              "      flex-wrap:wrap;\n",
              "      gap: 12px;\n",
              "    }\n",
              "\n",
              "    .colab-df-convert {\n",
              "      background-color: #E8F0FE;\n",
              "      border: none;\n",
              "      border-radius: 50%;\n",
              "      cursor: pointer;\n",
              "      display: none;\n",
              "      fill: #1967D2;\n",
              "      height: 32px;\n",
              "      padding: 0 0 0 0;\n",
              "      width: 32px;\n",
              "    }\n",
              "\n",
              "    .colab-df-convert:hover {\n",
              "      background-color: #E2EBFA;\n",
              "      box-shadow: 0px 1px 2px rgba(60, 64, 67, 0.3), 0px 1px 3px 1px rgba(60, 64, 67, 0.15);\n",
              "      fill: #174EA6;\n",
              "    }\n",
              "\n",
              "    [theme=dark] .colab-df-convert {\n",
              "      background-color: #3B4455;\n",
              "      fill: #D2E3FC;\n",
              "    }\n",
              "\n",
              "    [theme=dark] .colab-df-convert:hover {\n",
              "      background-color: #434B5C;\n",
              "      box-shadow: 0px 1px 3px 1px rgba(0, 0, 0, 0.15);\n",
              "      filter: drop-shadow(0px 1px 2px rgba(0, 0, 0, 0.3));\n",
              "      fill: #FFFFFF;\n",
              "    }\n",
              "  </style>\n",
              "\n",
              "      <script>\n",
              "        const buttonEl =\n",
              "          document.querySelector('#df-5a92265d-cabc-4627-b3ad-1c96a91d687b button.colab-df-convert');\n",
              "        buttonEl.style.display =\n",
              "          google.colab.kernel.accessAllowed ? 'block' : 'none';\n",
              "\n",
              "        async function convertToInteractive(key) {\n",
              "          const element = document.querySelector('#df-5a92265d-cabc-4627-b3ad-1c96a91d687b');\n",
              "          const dataTable =\n",
              "            await google.colab.kernel.invokeFunction('convertToInteractive',\n",
              "                                                     [key], {});\n",
              "          if (!dataTable) return;\n",
              "\n",
              "          const docLinkHtml = 'Like what you see? Visit the ' +\n",
              "            '<a target=\"_blank\" href=https://colab.research.google.com/notebooks/data_table.ipynb>data table notebook</a>'\n",
              "            + ' to learn more about interactive tables.';\n",
              "          element.innerHTML = '';\n",
              "          dataTable['output_type'] = 'display_data';\n",
              "          await google.colab.output.renderOutput(dataTable, element);\n",
              "          const docLink = document.createElement('div');\n",
              "          docLink.innerHTML = docLinkHtml;\n",
              "          element.appendChild(docLink);\n",
              "        }\n",
              "      </script>\n",
              "    </div>\n",
              "  </div>\n",
              "  "
            ]
          },
          "metadata": {},
          "execution_count": 252
        }
      ],
      "source": [
        "dta.loc[(dta['HYPERTENSION_VISIT'] == 1) & (dta['SYSTOLIC_BP'].isnull())]"
      ]
    },
    {
      "cell_type": "code",
      "execution_count": null,
      "metadata": {
        "id": "VUoRc9MPqTey"
      },
      "outputs": [],
      "source": [
        "dta.loc[(dta['DIASTOLIC_BP'] < 10) | (dta['DIASTOLIC_BP'] > 200), 'DIASTOLIC_BP'] = np.nan"
      ]
    },
    {
      "cell_type": "code",
      "execution_count": null,
      "metadata": {
        "id": "mUZ8St1kldGT"
      },
      "outputs": [],
      "source": [
        "DIASTOLIC_BP_means = dta.groupby(['PATIENT_NUM'])['DIASTOLIC_BP'].mean()"
      ]
    },
    {
      "cell_type": "code",
      "execution_count": null,
      "metadata": {
        "id": "aZLLfe3Oe9Ex"
      },
      "outputs": [],
      "source": [
        "dta = dta.set_index('PATIENT_NUM')"
      ]
    },
    {
      "cell_type": "code",
      "execution_count": null,
      "metadata": {
        "id": "LlSzhmmPgw4d"
      },
      "outputs": [],
      "source": [
        "dta['DIASTOLIC_BP'] = dta['DIASTOLIC_BP'].fillna(DIASTOLIC_BP_means)"
      ]
    },
    {
      "cell_type": "code",
      "execution_count": null,
      "metadata": {
        "id": "ioxNuHmNmaL7"
      },
      "outputs": [],
      "source": [
        "dta = dta.reset_index()"
      ]
    },
    {
      "cell_type": "code",
      "execution_count": null,
      "metadata": {
        "id": "RtbCuwBRm02J"
      },
      "outputs": [],
      "source": [
        "dta['DIASTOLIC_BP'] = dta['DIASTOLIC_BP'].fillna(dta['DIASTOLIC_BP'].mean())"
      ]
    },
    {
      "cell_type": "markdown",
      "metadata": {
        "id": "Nhp5-P8bnIwO"
      },
      "source": [
        "## SYSTOLIC_BP"
      ]
    },
    {
      "cell_type": "code",
      "execution_count": null,
      "metadata": {
        "colab": {
          "base_uri": "https://localhost:8080/"
        },
        "id": "xL6F_chxsVPM",
        "outputId": "9419887d-41c8-4949-9595-826644064f2d"
      },
      "outputs": [
        {
          "output_type": "execute_result",
          "data": {
            "text/plain": [
              "count    13481.000000\n",
              "mean       136.006802\n",
              "std         21.038471\n",
              "min          0.000000\n",
              "25%        124.000000\n",
              "50%        135.000000\n",
              "75%        147.000000\n",
              "max       1271.000000\n",
              "Name: SYSTOLIC_BP, dtype: float64"
            ]
          },
          "metadata": {},
          "execution_count": 259
        }
      ],
      "source": [
        "dta['SYSTOLIC_BP'].describe()"
      ]
    },
    {
      "cell_type": "code",
      "execution_count": null,
      "metadata": {
        "colab": {
          "base_uri": "https://localhost:8080/"
        },
        "id": "G2yiCQ-psVPM",
        "outputId": "b287aaff-8030-4743-edad-83f0275810d0"
      },
      "outputs": [
        {
          "output_type": "execute_result",
          "data": {
            "text/plain": [
              "44236"
            ]
          },
          "metadata": {},
          "execution_count": 260
        }
      ],
      "source": [
        "len(dta[dta['SYSTOLIC_BP'].isnull()])"
      ]
    },
    {
      "cell_type": "code",
      "execution_count": null,
      "metadata": {
        "id": "JtJt1G41sVPM"
      },
      "outputs": [],
      "source": [
        "dta.loc[(dta['SYSTOLIC_BP'] < 10) | (dta['SYSTOLIC_BP'] > 600), 'SYSTOLIC_BP'] = np.nan"
      ]
    },
    {
      "cell_type": "code",
      "execution_count": null,
      "metadata": {
        "id": "p1CKQJZSsVPN"
      },
      "outputs": [],
      "source": [
        "SYSTOLIC_BP_means = dta.groupby(['PATIENT_NUM'])['SYSTOLIC_BP'].mean()"
      ]
    },
    {
      "cell_type": "code",
      "execution_count": null,
      "metadata": {
        "id": "w1YLA_2YsVPN"
      },
      "outputs": [],
      "source": [
        "dta = dta.set_index('PATIENT_NUM')"
      ]
    },
    {
      "cell_type": "code",
      "execution_count": null,
      "metadata": {
        "id": "Ps_zTol4sVPN"
      },
      "outputs": [],
      "source": [
        "dta['SYSTOLIC_BP'] = dta['SYSTOLIC_BP'].fillna(SYSTOLIC_BP_means)"
      ]
    },
    {
      "cell_type": "code",
      "execution_count": null,
      "metadata": {
        "id": "1QLsCOpesVPN"
      },
      "outputs": [],
      "source": [
        "dta = dta.reset_index()"
      ]
    },
    {
      "cell_type": "code",
      "execution_count": null,
      "metadata": {
        "id": "UUdtiK9QsVPN"
      },
      "outputs": [],
      "source": [
        "dta['SYSTOLIC_BP'] = dta['SYSTOLIC_BP'].fillna(dta['SYSTOLIC_BP'].mean())"
      ]
    },
    {
      "cell_type": "markdown",
      "metadata": {
        "id": "-6_nSZejszPh"
      },
      "source": [
        "## WEIGHT"
      ]
    },
    {
      "cell_type": "code",
      "execution_count": null,
      "metadata": {
        "colab": {
          "base_uri": "https://localhost:8080/"
        },
        "id": "7GPrkVygs_sh",
        "outputId": "f8d362f1-1c65-4fd1-eaff-9039bc2581d3"
      },
      "outputs": [
        {
          "output_type": "execute_result",
          "data": {
            "text/plain": [
              "count     5952.000000\n",
              "mean       174.796894\n",
              "std        190.338290\n",
              "min          0.000000\n",
              "25%        141.500000\n",
              "50%        170.900000\n",
              "75%        198.000000\n",
              "max      14475.000000\n",
              "Name: WEIGHT, dtype: float64"
            ]
          },
          "metadata": {},
          "execution_count": 267
        }
      ],
      "source": [
        "dta['WEIGHT'].describe()"
      ]
    },
    {
      "cell_type": "code",
      "execution_count": null,
      "metadata": {
        "colab": {
          "base_uri": "https://localhost:8080/"
        },
        "id": "e61wfxn1s_sh",
        "outputId": "da10efed-9205-49c1-ca2a-f7f2e3db3b21"
      },
      "outputs": [
        {
          "output_type": "execute_result",
          "data": {
            "text/plain": [
              "51765"
            ]
          },
          "metadata": {},
          "execution_count": 268
        }
      ],
      "source": [
        "len(dta[dta['WEIGHT'].isnull()])"
      ]
    },
    {
      "cell_type": "code",
      "execution_count": null,
      "metadata": {
        "id": "NqtlFpu9s_si"
      },
      "outputs": [],
      "source": [
        "dta.loc[(dta['WEIGHT'] < 20) | (dta['WEIGHT'] > 1000), 'WEIGHT'] = np.nan"
      ]
    },
    {
      "cell_type": "code",
      "execution_count": null,
      "metadata": {
        "id": "j_fQ4DS6s_si"
      },
      "outputs": [],
      "source": [
        "WEIGHT_means = dta.groupby(['PATIENT_NUM'])['WEIGHT'].mean()"
      ]
    },
    {
      "cell_type": "code",
      "execution_count": null,
      "metadata": {
        "id": "vrGRIF7Ms_si"
      },
      "outputs": [],
      "source": [
        "dta = dta.set_index('PATIENT_NUM')"
      ]
    },
    {
      "cell_type": "code",
      "execution_count": null,
      "metadata": {
        "id": "rMF8HQiAs_si"
      },
      "outputs": [],
      "source": [
        "dta['WEIGHT'] = dta['WEIGHT'].fillna(WEIGHT_means)"
      ]
    },
    {
      "cell_type": "code",
      "execution_count": null,
      "metadata": {
        "id": "HpGZz61Ms_si"
      },
      "outputs": [],
      "source": [
        "dta = dta.reset_index()"
      ]
    },
    {
      "cell_type": "code",
      "execution_count": null,
      "metadata": {
        "id": "MluAB3Trs_si"
      },
      "outputs": [],
      "source": [
        "dta['WEIGHT'] = dta['WEIGHT'].fillna(dta['WEIGHT'].mean())"
      ]
    },
    {
      "cell_type": "markdown",
      "metadata": {
        "id": "YcEpFmtot7v7"
      },
      "source": [
        "## HEIGHT"
      ]
    },
    {
      "cell_type": "code",
      "execution_count": null,
      "metadata": {
        "colab": {
          "base_uri": "https://localhost:8080/"
        },
        "id": "9YIWidAEt97h",
        "outputId": "f25a6b53-ba42-4d51-9e8c-ae2dc40e6edb"
      },
      "outputs": [
        {
          "output_type": "execute_result",
          "data": {
            "text/plain": [
              "count    1243.000000\n",
              "mean       71.905425\n",
              "std        36.498810\n",
              "min         0.000000\n",
              "25%        63.000000\n",
              "50%        66.500000\n",
              "75%        70.700000\n",
              "max       692.000000\n",
              "Name: HEIGHT, dtype: float64"
            ]
          },
          "metadata": {},
          "execution_count": 275
        }
      ],
      "source": [
        "dta['HEIGHT'].describe()"
      ]
    },
    {
      "cell_type": "code",
      "execution_count": null,
      "metadata": {
        "colab": {
          "base_uri": "https://localhost:8080/"
        },
        "id": "n2qLR-vYt97h",
        "outputId": "3c4a0309-4bf7-476e-e2b8-3f199612b40a"
      },
      "outputs": [
        {
          "output_type": "execute_result",
          "data": {
            "text/plain": [
              "56474"
            ]
          },
          "metadata": {},
          "execution_count": 276
        }
      ],
      "source": [
        "len(dta[dta['HEIGHT'].isnull()])"
      ]
    },
    {
      "cell_type": "code",
      "execution_count": null,
      "metadata": {
        "id": "ExR4Ngeht97h"
      },
      "outputs": [],
      "source": [
        "dta.loc[(dta['HEIGHT'] < 50) | (dta['HEIGHT'] > 95), 'HEIGHT'] = np.nan"
      ]
    },
    {
      "cell_type": "code",
      "execution_count": null,
      "metadata": {
        "id": "79ecGEzTt97i"
      },
      "outputs": [],
      "source": [
        "HEIGHT_means = dta.groupby(['PATIENT_NUM'])['HEIGHT'].mean()"
      ]
    },
    {
      "cell_type": "code",
      "execution_count": null,
      "metadata": {
        "id": "9ZObJ6l0t97i"
      },
      "outputs": [],
      "source": [
        "dta = dta.set_index('PATIENT_NUM')"
      ]
    },
    {
      "cell_type": "code",
      "execution_count": null,
      "metadata": {
        "id": "BgqG5fSHt97i"
      },
      "outputs": [],
      "source": [
        "dta['HEIGHT'] = dta['HEIGHT'].fillna(HEIGHT_means)"
      ]
    },
    {
      "cell_type": "code",
      "execution_count": null,
      "metadata": {
        "id": "_i6nzCv0t97i"
      },
      "outputs": [],
      "source": [
        "dta = dta.reset_index()"
      ]
    },
    {
      "cell_type": "code",
      "execution_count": null,
      "metadata": {
        "id": "r-B97SgNt97i"
      },
      "outputs": [],
      "source": [
        "dta['HEIGHT'] = dta['HEIGHT'].fillna(dta['HEIGHT'].mean())"
      ]
    },
    {
      "cell_type": "markdown",
      "metadata": {
        "id": "37789e6IwiIi"
      },
      "source": [
        "## TEMPERATURE"
      ]
    },
    {
      "cell_type": "code",
      "execution_count": null,
      "metadata": {
        "colab": {
          "base_uri": "https://localhost:8080/"
        },
        "id": "lGLUcph0wqCx",
        "outputId": "d3c4dd0d-1748-4638-cac4-c33de9f2366d"
      },
      "outputs": [
        {
          "output_type": "execute_result",
          "data": {
            "text/plain": [
              "count    3822.000000\n",
              "mean       97.127839\n",
              "std         8.700039\n",
              "min         0.000000\n",
              "25%        97.400000\n",
              "50%        97.800000\n",
              "75%        98.400000\n",
              "max       108.000000\n",
              "Name: TEMPERATURE, dtype: float64"
            ]
          },
          "metadata": {},
          "execution_count": 283
        }
      ],
      "source": [
        "dta['TEMPERATURE'].describe()"
      ]
    },
    {
      "cell_type": "code",
      "execution_count": null,
      "metadata": {
        "colab": {
          "base_uri": "https://localhost:8080/"
        },
        "id": "oc-gW9h6wqCx",
        "outputId": "ab1c96f0-7b79-4773-8c55-9ff3f1e58bf4"
      },
      "outputs": [
        {
          "output_type": "execute_result",
          "data": {
            "text/plain": [
              "53895"
            ]
          },
          "metadata": {},
          "execution_count": 284
        }
      ],
      "source": [
        "len(dta[dta['TEMPERATURE'].isnull()])"
      ]
    },
    {
      "cell_type": "code",
      "execution_count": null,
      "metadata": {
        "id": "eYDYJvtCwqCx"
      },
      "outputs": [],
      "source": [
        "dta.loc[(dta['TEMPERATURE'] < 90) | (dta['TEMPERATURE'] >108), 'TEMPERATURE'] = np.nan"
      ]
    },
    {
      "cell_type": "code",
      "execution_count": null,
      "metadata": {
        "id": "YLzhPx57wqCy"
      },
      "outputs": [],
      "source": [
        "TEMPERATURE_means = dta.groupby(['PATIENT_NUM'])['TEMPERATURE'].mean()"
      ]
    },
    {
      "cell_type": "code",
      "execution_count": null,
      "metadata": {
        "id": "sesA1IQWwqCy"
      },
      "outputs": [],
      "source": [
        "dta = dta.set_index('PATIENT_NUM')"
      ]
    },
    {
      "cell_type": "code",
      "execution_count": null,
      "metadata": {
        "id": "CrtlsDFSwqCy"
      },
      "outputs": [],
      "source": [
        "dta['TEMPERATURE'] = dta['TEMPERATURE'].fillna(TEMPERATURE_means)"
      ]
    },
    {
      "cell_type": "code",
      "execution_count": null,
      "metadata": {
        "id": "9mBBbHrEwqCy"
      },
      "outputs": [],
      "source": [
        "dta = dta.reset_index()"
      ]
    },
    {
      "cell_type": "code",
      "execution_count": null,
      "metadata": {
        "id": "4KGGkytkwqCy"
      },
      "outputs": [],
      "source": [
        "dta['TEMPERATURE'] = dta['TEMPERATURE'].fillna(dta['TEMPERATURE'].mean())"
      ]
    },
    {
      "cell_type": "markdown",
      "metadata": {
        "id": "GNlGYwKQxrxy"
      },
      "source": [
        "## PULSE"
      ]
    },
    {
      "cell_type": "code",
      "execution_count": null,
      "metadata": {
        "colab": {
          "base_uri": "https://localhost:8080/"
        },
        "id": "erWIrdUOx4AR",
        "outputId": "017ec211-b91d-420b-a118-0d6d35edb243"
      },
      "outputs": [
        {
          "output_type": "execute_result",
          "data": {
            "text/plain": [
              "count    11318.000000\n",
              "mean        73.069286\n",
              "std         13.826120\n",
              "min          0.000000\n",
              "25%         64.000000\n",
              "50%         72.000000\n",
              "75%         81.000000\n",
              "max        161.000000\n",
              "Name: PULSE, dtype: float64"
            ]
          },
          "metadata": {},
          "execution_count": 291
        }
      ],
      "source": [
        "dta['PULSE'].describe()"
      ]
    },
    {
      "cell_type": "code",
      "execution_count": null,
      "metadata": {
        "colab": {
          "base_uri": "https://localhost:8080/"
        },
        "id": "OPcqMT_Dx4AS",
        "outputId": "82190f6b-2f9a-4d63-c38a-a6a342b01851"
      },
      "outputs": [
        {
          "output_type": "execute_result",
          "data": {
            "text/plain": [
              "46399"
            ]
          },
          "metadata": {},
          "execution_count": 292
        }
      ],
      "source": [
        "len(dta[dta['PULSE'].isnull()])"
      ]
    },
    {
      "cell_type": "code",
      "execution_count": null,
      "metadata": {
        "id": "EmO9UYoCx4AS"
      },
      "outputs": [],
      "source": [
        "dta.loc[(dta['PULSE'] < 30) | (dta['PULSE'] >161), 'PULSE'] = np.nan"
      ]
    },
    {
      "cell_type": "code",
      "execution_count": null,
      "metadata": {
        "id": "FlA7gZ6ux4AS"
      },
      "outputs": [],
      "source": [
        "PULSE_means = dta.groupby(['PATIENT_NUM'])['PULSE'].mean()"
      ]
    },
    {
      "cell_type": "code",
      "execution_count": null,
      "metadata": {
        "id": "FwcfxTOXx4AS"
      },
      "outputs": [],
      "source": [
        "dta = dta.set_index('PATIENT_NUM')"
      ]
    },
    {
      "cell_type": "code",
      "execution_count": null,
      "metadata": {
        "id": "RNkqwj7Px4AS"
      },
      "outputs": [],
      "source": [
        "dta['PULSE'] = dta['PULSE'].fillna(PULSE_means)"
      ]
    },
    {
      "cell_type": "code",
      "execution_count": null,
      "metadata": {
        "id": "04M7SyWsx4AT"
      },
      "outputs": [],
      "source": [
        "dta = dta.reset_index()"
      ]
    },
    {
      "cell_type": "code",
      "execution_count": null,
      "metadata": {
        "id": "jfBtmSOlx4AT"
      },
      "outputs": [],
      "source": [
        "dta['PULSE'] = dta['PULSE'].fillna(dta['PULSE'].mean())"
      ]
    },
    {
      "cell_type": "markdown",
      "metadata": {
        "id": "hH0CTZTYyagd"
      },
      "source": [
        "## BP_CUFF_SIZE"
      ]
    },
    {
      "cell_type": "code",
      "execution_count": null,
      "metadata": {
        "id": "p53rOhhpzN6K"
      },
      "outputs": [],
      "source": [
        "dta.drop('BP_CUFF_SIZE', axis = 1, inplace = True)"
      ]
    },
    {
      "cell_type": "markdown",
      "metadata": {
        "id": "RF-G3OOGzYpL"
      },
      "source": [
        "## RESPIRATION"
      ]
    },
    {
      "cell_type": "code",
      "execution_count": null,
      "metadata": {
        "colab": {
          "base_uri": "https://localhost:8080/"
        },
        "id": "2bZzYrpTzem-",
        "outputId": "e2b4e139-fc37-4738-b526-f077dcb41672"
      },
      "outputs": [
        {
          "output_type": "execute_result",
          "data": {
            "text/plain": [
              "count    689.000000\n",
              "mean      16.545960\n",
              "std       13.907269\n",
              "min        0.000000\n",
              "25%       12.000000\n",
              "50%       14.000000\n",
              "75%       16.000000\n",
              "max       99.000000\n",
              "Name: RESPIRATION, dtype: float64"
            ]
          },
          "metadata": {},
          "execution_count": 300
        }
      ],
      "source": [
        "dta['RESPIRATION'].describe()"
      ]
    },
    {
      "cell_type": "code",
      "execution_count": null,
      "metadata": {
        "colab": {
          "base_uri": "https://localhost:8080/"
        },
        "id": "hEgJrjXkzem_",
        "outputId": "354f97f8-fb1a-48e0-e480-bdb28b4c2982"
      },
      "outputs": [
        {
          "output_type": "execute_result",
          "data": {
            "text/plain": [
              "57028"
            ]
          },
          "metadata": {},
          "execution_count": 301
        }
      ],
      "source": [
        "len(dta[dta['RESPIRATION'].isnull()])"
      ]
    },
    {
      "cell_type": "code",
      "execution_count": null,
      "metadata": {
        "id": "lFazsOpVzem_"
      },
      "outputs": [],
      "source": [
        "dta.loc[(dta['RESPIRATION'] < 10) | (dta['RESPIRATION'] >40), 'RESPIRATION'] = np.nan"
      ]
    },
    {
      "cell_type": "code",
      "execution_count": null,
      "metadata": {
        "id": "Rz3jg9ubzem_"
      },
      "outputs": [],
      "source": [
        "RESPIRATION_means = dta.groupby(['PATIENT_NUM'])['RESPIRATION'].mean()"
      ]
    },
    {
      "cell_type": "code",
      "execution_count": null,
      "metadata": {
        "id": "DPLvX90Gzem_"
      },
      "outputs": [],
      "source": [
        "dta = dta.set_index('PATIENT_NUM')"
      ]
    },
    {
      "cell_type": "code",
      "execution_count": null,
      "metadata": {
        "id": "JEqttf4mzem_"
      },
      "outputs": [],
      "source": [
        "dta['RESPIRATION'] = dta['RESPIRATION'].fillna(RESPIRATION_means)"
      ]
    },
    {
      "cell_type": "code",
      "execution_count": null,
      "metadata": {
        "id": "gG4W1gltzem_"
      },
      "outputs": [],
      "source": [
        "dta = dta.reset_index()"
      ]
    },
    {
      "cell_type": "code",
      "execution_count": null,
      "metadata": {
        "id": "WJKntlu2zem_"
      },
      "outputs": [],
      "source": [
        "dta['RESPIRATION'] = dta['RESPIRATION'].fillna(dta['RESPIRATION'].mean())"
      ]
    },
    {
      "cell_type": "markdown",
      "metadata": {
        "id": "4XWUrlvq0_Ku"
      },
      "source": [
        "## PULSEOXYGEN"
      ]
    },
    {
      "cell_type": "code",
      "execution_count": null,
      "metadata": {
        "colab": {
          "base_uri": "https://localhost:8080/"
        },
        "id": "ojeV2F5N1MkE",
        "outputId": "26c49d5f-9ddb-440e-974d-32ee6dcd9af8"
      },
      "outputs": [
        {
          "output_type": "execute_result",
          "data": {
            "text/plain": [
              "count    1481.000000\n",
              "mean       95.850158\n",
              "std         5.684453\n",
              "min         0.000000\n",
              "25%        95.000000\n",
              "50%        97.000000\n",
              "75%        98.000000\n",
              "max       100.000000\n",
              "Name: PULSEOXYGEN, dtype: float64"
            ]
          },
          "metadata": {},
          "execution_count": 308
        }
      ],
      "source": [
        "dta['PULSEOXYGEN'].describe()"
      ]
    },
    {
      "cell_type": "code",
      "execution_count": null,
      "metadata": {
        "colab": {
          "base_uri": "https://localhost:8080/"
        },
        "id": "o0FqJZFq1MkE",
        "outputId": "fe322a3b-332b-485c-9479-d14d949208b9"
      },
      "outputs": [
        {
          "output_type": "execute_result",
          "data": {
            "text/plain": [
              "56236"
            ]
          },
          "metadata": {},
          "execution_count": 309
        }
      ],
      "source": [
        "len(dta[dta['PULSEOXYGEN'].isnull()])"
      ]
    },
    {
      "cell_type": "code",
      "execution_count": null,
      "metadata": {
        "id": "q_5wVjaS1MkE"
      },
      "outputs": [],
      "source": [
        "dta.loc[(dta['PULSEOXYGEN'] < 30) | (dta['PULSEOXYGEN'] >100), 'PULSEOXYGEN'] = np.nan"
      ]
    },
    {
      "cell_type": "code",
      "execution_count": null,
      "metadata": {
        "id": "jmmFASIE1MkE"
      },
      "outputs": [],
      "source": [
        "PULSEOXYGEN_means = dta.groupby(['PATIENT_NUM'])['PULSEOXYGEN'].mean()"
      ]
    },
    {
      "cell_type": "code",
      "execution_count": null,
      "metadata": {
        "id": "0-h0iYMB1MkE"
      },
      "outputs": [],
      "source": [
        "dta = dta.set_index('PATIENT_NUM')"
      ]
    },
    {
      "cell_type": "code",
      "execution_count": null,
      "metadata": {
        "id": "6olSJkew1MkF"
      },
      "outputs": [],
      "source": [
        "dta['PULSEOXYGEN'] = dta['PULSEOXYGEN'].fillna(PULSEOXYGEN_means)"
      ]
    },
    {
      "cell_type": "code",
      "execution_count": null,
      "metadata": {
        "id": "NwWZrT1k1MkF"
      },
      "outputs": [],
      "source": [
        "dta = dta.reset_index()"
      ]
    },
    {
      "cell_type": "code",
      "execution_count": null,
      "metadata": {
        "id": "RZSv1jUr1MkF"
      },
      "outputs": [],
      "source": [
        "dta['PULSEOXYGEN'] = dta['PULSEOXYGEN'].fillna(dta['PULSEOXYGEN'].mean())"
      ]
    },
    {
      "cell_type": "markdown",
      "metadata": {
        "id": "PMvSFcO62MzS"
      },
      "source": [
        "## BMI"
      ]
    },
    {
      "cell_type": "code",
      "execution_count": null,
      "metadata": {
        "id": "USq49Oku4JA6"
      },
      "outputs": [],
      "source": [
        "dta.drop('BMI', axis = 1, inplace = True)"
      ]
    },
    {
      "cell_type": "markdown",
      "metadata": {
        "id": "UKn3a5Yv4l9P"
      },
      "source": [
        "# Label Prediction\n",
        "We are using all the features besides hypertension severity to predict a new label for hypertension severity from 1 - 3, so there will be no value '0'."
      ]
    },
    {
      "cell_type": "code",
      "execution_count": null,
      "metadata": {
        "id": "Fw2pEckXQkbE"
      },
      "outputs": [],
      "source": [
        "from sklearn.metrics import precision_recall_curve\n",
        "from sklearn.metrics import f1_score\n",
        "from sklearn.metrics import auc\n",
        "from sklearn import metrics\n",
        "import matplotlib.pyplot as plt\n",
        "import random\n",
        "import pandas as pd\n",
        "%matplotlib inline\n",
        "import seaborn as sns"
      ]
    },
    {
      "cell_type": "code",
      "execution_count": null,
      "metadata": {
        "id": "EnMn7eRwQq4M"
      },
      "outputs": [],
      "source": [
        "#@title\n",
        "def make_confusion_matrix(cf,\n",
        "                          group_names=None,\n",
        "                          categories='auto',\n",
        "                          count=True,\n",
        "                          percent=True,\n",
        "                          cbar=True,\n",
        "                          xyticks=True,\n",
        "                          xyplotlabels=True,\n",
        "                          sum_stats=True,\n",
        "                          figsize=None,\n",
        "                          cmap='Blues',\n",
        "                          title=None):\n",
        "    '''\n",
        "    This function will make a pretty plot of an sklearn Confusion Matrix cm using a Seaborn heatmap visualization.\n",
        "    Arguments\n",
        "    ---------\n",
        "    cf:            confusion matrix to be passed in\n",
        "    group_names:   List of strings that represent the labels row by row to be shown in each square.\n",
        "    categories:    List of strings containing the categories to be displayed on the x,y axis. Default is 'auto'\n",
        "    count:         If True, show the raw number in the confusion matrix. Default is True.\n",
        "    normalize:     If True, show the proportions for each category. Default is True.\n",
        "    cbar:          If True, show the color bar. The cbar values are based off the values in the confusion matrix.\n",
        "                   Default is True.\n",
        "    xyticks:       If True, show x and y ticks. Default is True.\n",
        "    xyplotlabels:  If True, show 'True Label' and 'Predicted Label' on the figure. Default is True.\n",
        "    sum_stats:     If True, display summary statistics below the figure. Default is True.\n",
        "    figsize:       Tuple representing the figure size. Default will be the matplotlib rcParams value.\n",
        "    cmap:          Colormap of the values displayed from matplotlib.pyplot.cm. Default is 'Blues'\n",
        "                   See http://matplotlib.org/examples/color/colormaps_reference.html\n",
        "                   \n",
        "    title:         Title for the heatmap. Default is None.\n",
        "    '''\n",
        "\n",
        "\n",
        "    # CODE TO GENERATE TEXT INSIDE EACH SQUARE\n",
        "    blanks = ['' for i in range(cf.size)]\n",
        "\n",
        "    if group_names and len(group_names)==cf.size:\n",
        "        group_labels = [\"{}\\n\".format(value) for value in group_names]\n",
        "    else:\n",
        "        group_labels = blanks\n",
        "\n",
        "    if count:\n",
        "        group_counts = [\"{0:0.0f}\\n\".format(value) for value in cf.flatten()]\n",
        "    else:\n",
        "        group_counts = blanks\n",
        "\n",
        "    if percent:\n",
        "        group_percentages = [\"{0:.2%}\".format(value) for value in cf.flatten()/np.sum(cf)]\n",
        "    else:\n",
        "        group_percentages = blanks\n",
        "\n",
        "    box_labels = [f\"{v1}{v2}{v3}\".strip() for v1, v2, v3 in zip(group_labels,group_counts,group_percentages)]\n",
        "    box_labels = np.asarray(box_labels).reshape(cf.shape[0],cf.shape[1])\n",
        "\n",
        "\n",
        "    # CODE TO GENERATE SUMMARY STATISTICS & TEXT FOR SUMMARY STATS\n",
        "    if sum_stats:\n",
        "        #Accuracy is sum of diagonal divided by total observations\n",
        "        accuracy  = np.trace(cf) / float(np.sum(cf))\n",
        "\n",
        "        #if it is a binary confusion matrix, show some more stats\n",
        "        if len(cf)==2:\n",
        "            #Metrics for Binary Confusion Matrices\n",
        "            precision = cf[1,1] / sum(cf[:,1])\n",
        "            recall    = cf[1,1] / sum(cf[1,:])\n",
        "            f1_score  = 2*precision*recall / (precision + recall)\n",
        "            stats_text = \"\\n\\nAccuracy={:0.3f}\\nPrecision={:0.3f}\\nRecall={:0.3f}\\nF1 Score={:0.3f}\".format(\n",
        "                accuracy,precision,recall,f1_score)\n",
        "        else:\n",
        "            stats_text = \"\\n\\nAccuracy={:0.3f}\".format(accuracy)\n",
        "    else:\n",
        "        stats_text = \"\"\n",
        "\n",
        "\n",
        "    # SET FIGURE PARAMETERS ACCORDING TO OTHER ARGUMENTS\n",
        "    if figsize==None:\n",
        "        #Get default figure size if not set\n",
        "        figsize = plt.rcParams.get('figure.figsize')\n",
        "\n",
        "    if xyticks==False:\n",
        "        #Do not show categories if xyticks is False\n",
        "        categories=False\n",
        "\n",
        "\n",
        "    # MAKE THE HEATMAP VISUALIZATION\n",
        "    plt.figure(figsize=figsize)\n",
        "    sns.heatmap(cf,annot=box_labels,fmt=\"\",cmap=cmap,cbar=cbar,xticklabels=categories,yticklabels=categories)\n",
        "\n",
        "    if xyplotlabels:\n",
        "        plt.ylabel('True label')\n",
        "        plt.xlabel('Predicted label' + stats_text)\n",
        "    else:\n",
        "        plt.xlabel(stats_text)\n",
        "    \n",
        "    if title:\n",
        "        plt.title(title)"
      ]
    },
    {
      "cell_type": "code",
      "execution_count": null,
      "metadata": {
        "colab": {
          "base_uri": "https://localhost:8080/",
          "height": 300
        },
        "id": "HAVQ8eVk4NX3",
        "outputId": "f6084c68-df00-4612-84ee-a0b9755c23b7"
      },
      "outputs": [
        {
          "output_type": "execute_result",
          "data": {
            "text/plain": [
              "   PATIENT_NUM     code  GENDER  VISIT_TYPE  AGE  FAMILY_HYPERTENSION_NUM  \\\n",
              "0      1166159  1166192       1           6   75                        1   \n",
              "1      1166159  1166525       1          98   75                        1   \n",
              "2      1166159  1166543       1           6   75                        1   \n",
              "3      1166159  1167065       1          96   75                        1   \n",
              "4      1166159  1167480       1          96   75                        1   \n",
              "\n",
              "   HYPERTENSION_VISIT  HYPERTENSION_SEVERITY  HYPERTENSION_STATUS  \\\n",
              "0                   0                      0                    0   \n",
              "1                   0                      0                    0   \n",
              "2                   0                      0                    0   \n",
              "3                   1                      0                    0   \n",
              "4                   0                      0                    0   \n",
              "\n",
              "   DIASTOLIC_BP  ...  PULSEOXYGEN  NON_SMOKER  NON_DRINKER  REGULAR_EXERCISER  \\\n",
              "0     80.277778  ...         96.0           1            1                  0   \n",
              "1     80.277778  ...         96.0           1            1                  0   \n",
              "2     80.277778  ...         96.0           1            1                  0   \n",
              "3     80.277778  ...         96.0           1            1                  0   \n",
              "4     80.277778  ...         96.0           1            1                  0   \n",
              "\n",
              "   NON_ALLERGY  HOS_PERIOD  cluster  VISIT  DAYS  LABELED  \n",
              "0            0           0        1      0     0        0  \n",
              "1            0           0        1      1     1        0  \n",
              "2            0           0        1      2     7        0  \n",
              "3            0           0        1      3     0        0  \n",
              "4            0           0        1      4     7        0  \n",
              "\n",
              "[5 rows x 26 columns]"
            ],
            "text/html": [
              "\n",
              "  <div id=\"df-198e14f7-cb45-446e-ba41-7dc024ecb852\">\n",
              "    <div class=\"colab-df-container\">\n",
              "      <div>\n",
              "<style scoped>\n",
              "    .dataframe tbody tr th:only-of-type {\n",
              "        vertical-align: middle;\n",
              "    }\n",
              "\n",
              "    .dataframe tbody tr th {\n",
              "        vertical-align: top;\n",
              "    }\n",
              "\n",
              "    .dataframe thead th {\n",
              "        text-align: right;\n",
              "    }\n",
              "</style>\n",
              "<table border=\"1\" class=\"dataframe\">\n",
              "  <thead>\n",
              "    <tr style=\"text-align: right;\">\n",
              "      <th></th>\n",
              "      <th>PATIENT_NUM</th>\n",
              "      <th>code</th>\n",
              "      <th>GENDER</th>\n",
              "      <th>VISIT_TYPE</th>\n",
              "      <th>AGE</th>\n",
              "      <th>FAMILY_HYPERTENSION_NUM</th>\n",
              "      <th>HYPERTENSION_VISIT</th>\n",
              "      <th>HYPERTENSION_SEVERITY</th>\n",
              "      <th>HYPERTENSION_STATUS</th>\n",
              "      <th>DIASTOLIC_BP</th>\n",
              "      <th>...</th>\n",
              "      <th>PULSEOXYGEN</th>\n",
              "      <th>NON_SMOKER</th>\n",
              "      <th>NON_DRINKER</th>\n",
              "      <th>REGULAR_EXERCISER</th>\n",
              "      <th>NON_ALLERGY</th>\n",
              "      <th>HOS_PERIOD</th>\n",
              "      <th>cluster</th>\n",
              "      <th>VISIT</th>\n",
              "      <th>DAYS</th>\n",
              "      <th>LABELED</th>\n",
              "    </tr>\n",
              "  </thead>\n",
              "  <tbody>\n",
              "    <tr>\n",
              "      <th>0</th>\n",
              "      <td>1166159</td>\n",
              "      <td>1166192</td>\n",
              "      <td>1</td>\n",
              "      <td>6</td>\n",
              "      <td>75</td>\n",
              "      <td>1</td>\n",
              "      <td>0</td>\n",
              "      <td>0</td>\n",
              "      <td>0</td>\n",
              "      <td>80.277778</td>\n",
              "      <td>...</td>\n",
              "      <td>96.0</td>\n",
              "      <td>1</td>\n",
              "      <td>1</td>\n",
              "      <td>0</td>\n",
              "      <td>0</td>\n",
              "      <td>0</td>\n",
              "      <td>1</td>\n",
              "      <td>0</td>\n",
              "      <td>0</td>\n",
              "      <td>0</td>\n",
              "    </tr>\n",
              "    <tr>\n",
              "      <th>1</th>\n",
              "      <td>1166159</td>\n",
              "      <td>1166525</td>\n",
              "      <td>1</td>\n",
              "      <td>98</td>\n",
              "      <td>75</td>\n",
              "      <td>1</td>\n",
              "      <td>0</td>\n",
              "      <td>0</td>\n",
              "      <td>0</td>\n",
              "      <td>80.277778</td>\n",
              "      <td>...</td>\n",
              "      <td>96.0</td>\n",
              "      <td>1</td>\n",
              "      <td>1</td>\n",
              "      <td>0</td>\n",
              "      <td>0</td>\n",
              "      <td>0</td>\n",
              "      <td>1</td>\n",
              "      <td>1</td>\n",
              "      <td>1</td>\n",
              "      <td>0</td>\n",
              "    </tr>\n",
              "    <tr>\n",
              "      <th>2</th>\n",
              "      <td>1166159</td>\n",
              "      <td>1166543</td>\n",
              "      <td>1</td>\n",
              "      <td>6</td>\n",
              "      <td>75</td>\n",
              "      <td>1</td>\n",
              "      <td>0</td>\n",
              "      <td>0</td>\n",
              "      <td>0</td>\n",
              "      <td>80.277778</td>\n",
              "      <td>...</td>\n",
              "      <td>96.0</td>\n",
              "      <td>1</td>\n",
              "      <td>1</td>\n",
              "      <td>0</td>\n",
              "      <td>0</td>\n",
              "      <td>0</td>\n",
              "      <td>1</td>\n",
              "      <td>2</td>\n",
              "      <td>7</td>\n",
              "      <td>0</td>\n",
              "    </tr>\n",
              "    <tr>\n",
              "      <th>3</th>\n",
              "      <td>1166159</td>\n",
              "      <td>1167065</td>\n",
              "      <td>1</td>\n",
              "      <td>96</td>\n",
              "      <td>75</td>\n",
              "      <td>1</td>\n",
              "      <td>1</td>\n",
              "      <td>0</td>\n",
              "      <td>0</td>\n",
              "      <td>80.277778</td>\n",
              "      <td>...</td>\n",
              "      <td>96.0</td>\n",
              "      <td>1</td>\n",
              "      <td>1</td>\n",
              "      <td>0</td>\n",
              "      <td>0</td>\n",
              "      <td>0</td>\n",
              "      <td>1</td>\n",
              "      <td>3</td>\n",
              "      <td>0</td>\n",
              "      <td>0</td>\n",
              "    </tr>\n",
              "    <tr>\n",
              "      <th>4</th>\n",
              "      <td>1166159</td>\n",
              "      <td>1167480</td>\n",
              "      <td>1</td>\n",
              "      <td>96</td>\n",
              "      <td>75</td>\n",
              "      <td>1</td>\n",
              "      <td>0</td>\n",
              "      <td>0</td>\n",
              "      <td>0</td>\n",
              "      <td>80.277778</td>\n",
              "      <td>...</td>\n",
              "      <td>96.0</td>\n",
              "      <td>1</td>\n",
              "      <td>1</td>\n",
              "      <td>0</td>\n",
              "      <td>0</td>\n",
              "      <td>0</td>\n",
              "      <td>1</td>\n",
              "      <td>4</td>\n",
              "      <td>7</td>\n",
              "      <td>0</td>\n",
              "    </tr>\n",
              "  </tbody>\n",
              "</table>\n",
              "<p>5 rows × 26 columns</p>\n",
              "</div>\n",
              "      <button class=\"colab-df-convert\" onclick=\"convertToInteractive('df-198e14f7-cb45-446e-ba41-7dc024ecb852')\"\n",
              "              title=\"Convert this dataframe to an interactive table.\"\n",
              "              style=\"display:none;\">\n",
              "        \n",
              "  <svg xmlns=\"http://www.w3.org/2000/svg\" height=\"24px\"viewBox=\"0 0 24 24\"\n",
              "       width=\"24px\">\n",
              "    <path d=\"M0 0h24v24H0V0z\" fill=\"none\"/>\n",
              "    <path d=\"M18.56 5.44l.94 2.06.94-2.06 2.06-.94-2.06-.94-.94-2.06-.94 2.06-2.06.94zm-11 1L8.5 8.5l.94-2.06 2.06-.94-2.06-.94L8.5 2.5l-.94 2.06-2.06.94zm10 10l.94 2.06.94-2.06 2.06-.94-2.06-.94-.94-2.06-.94 2.06-2.06.94z\"/><path d=\"M17.41 7.96l-1.37-1.37c-.4-.4-.92-.59-1.43-.59-.52 0-1.04.2-1.43.59L10.3 9.45l-7.72 7.72c-.78.78-.78 2.05 0 2.83L4 21.41c.39.39.9.59 1.41.59.51 0 1.02-.2 1.41-.59l7.78-7.78 2.81-2.81c.8-.78.8-2.07 0-2.86zM5.41 20L4 18.59l7.72-7.72 1.47 1.35L5.41 20z\"/>\n",
              "  </svg>\n",
              "      </button>\n",
              "      \n",
              "  <style>\n",
              "    .colab-df-container {\n",
              "      display:flex;\n",
              "      flex-wrap:wrap;\n",
              "      gap: 12px;\n",
              "    }\n",
              "\n",
              "    .colab-df-convert {\n",
              "      background-color: #E8F0FE;\n",
              "      border: none;\n",
              "      border-radius: 50%;\n",
              "      cursor: pointer;\n",
              "      display: none;\n",
              "      fill: #1967D2;\n",
              "      height: 32px;\n",
              "      padding: 0 0 0 0;\n",
              "      width: 32px;\n",
              "    }\n",
              "\n",
              "    .colab-df-convert:hover {\n",
              "      background-color: #E2EBFA;\n",
              "      box-shadow: 0px 1px 2px rgba(60, 64, 67, 0.3), 0px 1px 3px 1px rgba(60, 64, 67, 0.15);\n",
              "      fill: #174EA6;\n",
              "    }\n",
              "\n",
              "    [theme=dark] .colab-df-convert {\n",
              "      background-color: #3B4455;\n",
              "      fill: #D2E3FC;\n",
              "    }\n",
              "\n",
              "    [theme=dark] .colab-df-convert:hover {\n",
              "      background-color: #434B5C;\n",
              "      box-shadow: 0px 1px 3px 1px rgba(0, 0, 0, 0.15);\n",
              "      filter: drop-shadow(0px 1px 2px rgba(0, 0, 0, 0.3));\n",
              "      fill: #FFFFFF;\n",
              "    }\n",
              "  </style>\n",
              "\n",
              "      <script>\n",
              "        const buttonEl =\n",
              "          document.querySelector('#df-198e14f7-cb45-446e-ba41-7dc024ecb852 button.colab-df-convert');\n",
              "        buttonEl.style.display =\n",
              "          google.colab.kernel.accessAllowed ? 'block' : 'none';\n",
              "\n",
              "        async function convertToInteractive(key) {\n",
              "          const element = document.querySelector('#df-198e14f7-cb45-446e-ba41-7dc024ecb852');\n",
              "          const dataTable =\n",
              "            await google.colab.kernel.invokeFunction('convertToInteractive',\n",
              "                                                     [key], {});\n",
              "          if (!dataTable) return;\n",
              "\n",
              "          const docLinkHtml = 'Like what you see? Visit the ' +\n",
              "            '<a target=\"_blank\" href=https://colab.research.google.com/notebooks/data_table.ipynb>data table notebook</a>'\n",
              "            + ' to learn more about interactive tables.';\n",
              "          element.innerHTML = '';\n",
              "          dataTable['output_type'] = 'display_data';\n",
              "          await google.colab.output.renderOutput(dataTable, element);\n",
              "          const docLink = document.createElement('div');\n",
              "          docLink.innerHTML = docLinkHtml;\n",
              "          element.appendChild(docLink);\n",
              "        }\n",
              "      </script>\n",
              "    </div>\n",
              "  </div>\n",
              "  "
            ]
          },
          "metadata": {},
          "execution_count": 319
        }
      ],
      "source": [
        "dta.head()"
      ]
    },
    {
      "cell_type": "code",
      "execution_count": null,
      "metadata": {
        "id": "L2UClTsy4S2D"
      },
      "outputs": [],
      "source": [
        "X_label = np.array(dta[dta['HYPERTENSION_SEVERITY'] != 0].iloc[:, 2:].drop(['HYPERTENSION_SEVERITY', 'LABELED'], axis = 1))"
      ]
    },
    {
      "cell_type": "code",
      "execution_count": null,
      "metadata": {
        "id": "3EZou3WNERCt"
      },
      "outputs": [],
      "source": [
        "X_test_label = np.array(dta[dta['HYPERTENSION_SEVERITY'] == 0].iloc[:, 2:].drop(['HYPERTENSION_SEVERITY', 'LABELED'], axis = 1))"
      ]
    },
    {
      "cell_type": "code",
      "execution_count": null,
      "metadata": {
        "id": "atPuz5-h5ptH"
      },
      "outputs": [],
      "source": [
        "y_label = np.array(dta[dta['HYPERTENSION_SEVERITY'] != 0]['HYPERTENSION_SEVERITY'])"
      ]
    },
    {
      "cell_type": "code",
      "execution_count": null,
      "metadata": {
        "colab": {
          "base_uri": "https://localhost:8080/"
        },
        "id": "dsY1ssnFgKW6",
        "outputId": "035a6f23-e6b9-4797-b938-c509685eeb02"
      },
      "outputs": [
        {
          "output_type": "execute_result",
          "data": {
            "text/plain": [
              "(42661,)"
            ]
          },
          "metadata": {},
          "execution_count": 323
        }
      ],
      "source": [
        "y_label.shape"
      ]
    },
    {
      "cell_type": "code",
      "execution_count": null,
      "metadata": {
        "colab": {
          "base_uri": "https://localhost:8080/"
        },
        "id": "5cVbnvLggSVR",
        "outputId": "05431f41-b546-44c7-962a-5ca16ed9c37f"
      },
      "outputs": [
        {
          "output_type": "execute_result",
          "data": {
            "text/plain": [
              "(15056, 22)"
            ]
          },
          "metadata": {},
          "execution_count": 324
        }
      ],
      "source": [
        "X_test_label.shape"
      ]
    },
    {
      "cell_type": "markdown",
      "metadata": {
        "id": "6BYtF9mPfcVJ"
      },
      "source": [
        "## Validate the label prediction in SVM and Random Forest\n"
      ]
    },
    {
      "cell_type": "code",
      "execution_count": null,
      "metadata": {
        "id": "F5Ar1QfICsd0"
      },
      "outputs": [],
      "source": [
        "rf_classifier = RandomForestClassifier(random_state = 42)"
      ]
    },
    {
      "cell_type": "code",
      "execution_count": null,
      "metadata": {
        "colab": {
          "base_uri": "https://localhost:8080/"
        },
        "id": "v5EBFOI_DfP4",
        "outputId": "79ee3860-101b-4875-9470-2471bbdcd866"
      },
      "outputs": [
        {
          "output_type": "execute_result",
          "data": {
            "text/plain": [
              "RandomForestClassifier(random_state=42)"
            ]
          },
          "metadata": {},
          "execution_count": 326
        }
      ],
      "source": [
        "rf_classifier.fit(X_label, y_label)"
      ]
    },
    {
      "cell_type": "code",
      "execution_count": null,
      "metadata": {
        "colab": {
          "base_uri": "https://localhost:8080/"
        },
        "id": "Zhx5l5VAgq8D",
        "outputId": "5ce10179-4707-435c-cfc4-4b4596a01621"
      },
      "outputs": [
        {
          "output_type": "execute_result",
          "data": {
            "text/plain": [
              "1.0"
            ]
          },
          "metadata": {},
          "execution_count": 327
        }
      ],
      "source": [
        "rf_classifier.score(X_label, y_label)"
      ]
    },
    {
      "cell_type": "code",
      "execution_count": null,
      "metadata": {
        "id": "hHqM1mw6EFZ3"
      },
      "outputs": [],
      "source": [
        "y_pred_rf_label = rf_classifier.predict(X_test_label)"
      ]
    },
    {
      "cell_type": "code",
      "execution_count": null,
      "metadata": {
        "colab": {
          "base_uri": "https://localhost:8080/"
        },
        "id": "-kbCzt9FgUMq",
        "outputId": "81c469c9-8b5c-44bc-e0db-36dbfa8bebe3"
      },
      "outputs": [
        {
          "output_type": "execute_result",
          "data": {
            "text/plain": [
              "(15056,)"
            ]
          },
          "metadata": {},
          "execution_count": 329
        }
      ],
      "source": [
        "y_pred_rf_label.shape"
      ]
    },
    {
      "cell_type": "code",
      "execution_count": null,
      "metadata": {
        "id": "kKfCkLEtFMRy"
      },
      "outputs": [],
      "source": [
        "dta.loc[dta['HYPERTENSION_SEVERITY'] == 0, 'HYPERTENSION_SEVERITY'] = y_pred_rf_label"
      ]
    },
    {
      "cell_type": "code",
      "execution_count": null,
      "metadata": {
        "colab": {
          "base_uri": "https://localhost:8080/"
        },
        "id": "GayX5GeHF5uO",
        "outputId": "512194ad-df7e-46f5-9382-297030c44de3"
      },
      "outputs": [
        {
          "output_type": "execute_result",
          "data": {
            "text/plain": [
              "2    47578\n",
              "1     8888\n",
              "3     1251\n",
              "Name: HYPERTENSION_SEVERITY, dtype: int64"
            ]
          },
          "metadata": {},
          "execution_count": 331
        }
      ],
      "source": [
        "dta['HYPERTENSION_SEVERITY'].value_counts()"
      ]
    },
    {
      "cell_type": "code",
      "execution_count": null,
      "metadata": {
        "colab": {
          "base_uri": "https://localhost:8080/"
        },
        "id": "Z8vw8ac2oyyw",
        "outputId": "cef655f7-2c0e-4ab4-81b6-b3569366047b"
      },
      "outputs": [
        {
          "output_type": "execute_result",
          "data": {
            "text/plain": [
              "0    49065\n",
              "1     8652\n",
              "Name: HYPERTENSION_VISIT, dtype: int64"
            ]
          },
          "metadata": {},
          "execution_count": 332
        }
      ],
      "source": [
        "dta['HYPERTENSION_VISIT'].value_counts()"
      ]
    },
    {
      "cell_type": "code",
      "execution_count": null,
      "metadata": {
        "id": "1rGtgk_rO3cz"
      },
      "outputs": [],
      "source": [
        "#dta.to_csv(r'/drive/MyDrive/MSCA_Capstone_Project/Data/Patient_Data/dta_label_prediction_severity.csv', index=False)"
      ]
    },
    {
      "cell_type": "code",
      "execution_count": null,
      "metadata": {
        "id": "KFkUfXgjPFlh"
      },
      "outputs": [],
      "source": [
        "#dta.to_csv(r'/drive/MyDrive/MSCA_Capstone_Project/Data/Patient_Data/dta.csv', index=False)"
      ]
    },
    {
      "cell_type": "markdown",
      "metadata": {
        "id": "8PnSMnt8KOYM"
      },
      "source": [
        "# Train Test Split"
      ]
    },
    {
      "cell_type": "code",
      "execution_count": null,
      "metadata": {
        "colab": {
          "base_uri": "https://localhost:8080/"
        },
        "id": "3rsKChzmKTC7",
        "outputId": "f8ee7df0-63b6-4041-ea79-3def57bb7ead"
      },
      "outputs": [
        {
          "output_type": "execute_result",
          "data": {
            "text/plain": [
              "0    21491\n",
              "2    15243\n",
              "1    15056\n",
              "3     5927\n",
              "Name: cluster, dtype: int64"
            ]
          },
          "metadata": {},
          "execution_count": 178
        }
      ],
      "source": [
        "dta['cluster'].value_counts()"
      ]
    },
    {
      "cell_type": "markdown",
      "metadata": {
        "id": "D8MpnJI1wbbU"
      },
      "source": [
        "## Cluster 0"
      ]
    },
    {
      "cell_type": "code",
      "execution_count": null,
      "metadata": {
        "id": "YKzdW7Ggo6-i"
      },
      "outputs": [],
      "source": [
        "cluster_0_patient = dta[dta['cluster'] == 0]['PATIENT_NUM'].unique()"
      ]
    },
    {
      "cell_type": "code",
      "execution_count": null,
      "metadata": {
        "id": "Pz66R6xPYfzd"
      },
      "outputs": [],
      "source": [
        "np.random.seed(42)\n",
        "cluster_0_train_patient = np.random.choice(cluster_0_patient, int(len(cluster_0_patient) * 0.7), replace = False)"
      ]
    },
    {
      "cell_type": "code",
      "execution_count": null,
      "metadata": {
        "id": "FEA_3GjveVti"
      },
      "outputs": [],
      "source": [
        "mask = np.isin(cluster_0_patient, cluster_0_train_patient, invert = True)"
      ]
    },
    {
      "cell_type": "code",
      "execution_count": null,
      "metadata": {
        "id": "Hs6n4cwavnSl"
      },
      "outputs": [],
      "source": [
        "cluster_0_test_patient = cluster_0_patient[mask]"
      ]
    },
    {
      "cell_type": "code",
      "execution_count": null,
      "metadata": {
        "id": "kK2k6X8Ozxdv"
      },
      "outputs": [],
      "source": [
        "cluster_0_train = dta[dta['PATIENT_NUM'].isin(cluster_0_train_patient)]"
      ]
    },
    {
      "cell_type": "code",
      "execution_count": null,
      "metadata": {
        "id": "1hfoksuW3lsB"
      },
      "outputs": [],
      "source": [
        "cluster_0_test = dta[dta['PATIENT_NUM'].isin(cluster_0_test_patient)]"
      ]
    },
    {
      "cell_type": "markdown",
      "metadata": {
        "id": "DjhFw_XOwdzL"
      },
      "source": [
        "## Cluster 1"
      ]
    },
    {
      "cell_type": "code",
      "execution_count": null,
      "metadata": {
        "id": "Nc6nooYxw6KB"
      },
      "outputs": [],
      "source": [
        "cluster_1_patient = dta[dta['cluster'] == 1]['PATIENT_NUM'].unique()"
      ]
    },
    {
      "cell_type": "code",
      "execution_count": null,
      "metadata": {
        "id": "HhbWe5gZw6KC"
      },
      "outputs": [],
      "source": [
        "np.random.seed(42)\n",
        "cluster_1_train_patient = np.random.choice(cluster_1_patient, int(len(cluster_1_patient) * 0.7), replace = False)"
      ]
    },
    {
      "cell_type": "code",
      "execution_count": null,
      "metadata": {
        "id": "X0WoJUlZw6KJ"
      },
      "outputs": [],
      "source": [
        "mask = np.isin(cluster_1_patient, cluster_1_train_patient, invert = True)"
      ]
    },
    {
      "cell_type": "code",
      "execution_count": null,
      "metadata": {
        "id": "gVx23344w6KJ"
      },
      "outputs": [],
      "source": [
        "cluster_1_test_patient = cluster_1_patient[mask]"
      ]
    },
    {
      "cell_type": "code",
      "execution_count": null,
      "metadata": {
        "id": "-3ftG7_Z3ukf"
      },
      "outputs": [],
      "source": [
        "cluster_1_train = dta[dta['PATIENT_NUM'].isin(cluster_1_train_patient)]"
      ]
    },
    {
      "cell_type": "code",
      "execution_count": null,
      "metadata": {
        "id": "kpnyPzcz3ukf"
      },
      "outputs": [],
      "source": [
        "cluster_1_test = dta[dta['PATIENT_NUM'].isin(cluster_1_test_patient)]"
      ]
    },
    {
      "cell_type": "markdown",
      "metadata": {
        "id": "fCLI_ITpxnHr"
      },
      "source": [
        "## Cluster 2"
      ]
    },
    {
      "cell_type": "code",
      "execution_count": null,
      "metadata": {
        "id": "jwOH5S2PxsO3"
      },
      "outputs": [],
      "source": [
        "cluster_2_patient = dta[dta['cluster'] == 2]['PATIENT_NUM'].unique()"
      ]
    },
    {
      "cell_type": "code",
      "execution_count": null,
      "metadata": {
        "id": "gmmxF3WSxsO4"
      },
      "outputs": [],
      "source": [
        "np.random.seed(42)\n",
        "cluster_2_train_patient = np.random.choice(cluster_2_patient, int(len(cluster_2_patient) * 0.7), replace = False)"
      ]
    },
    {
      "cell_type": "code",
      "execution_count": null,
      "metadata": {
        "id": "7zlyK4jwxsO-"
      },
      "outputs": [],
      "source": [
        "mask = np.isin(cluster_2_patient, cluster_2_train_patient, invert = True)"
      ]
    },
    {
      "cell_type": "code",
      "execution_count": null,
      "metadata": {
        "id": "UUyKkViXxsO_"
      },
      "outputs": [],
      "source": [
        "cluster_2_test_patient = cluster_2_patient[mask]"
      ]
    },
    {
      "cell_type": "code",
      "execution_count": null,
      "metadata": {
        "id": "1DBkQh6M31A1"
      },
      "outputs": [],
      "source": [
        "cluster_2_train = dta[dta['PATIENT_NUM'].isin(cluster_2_train_patient)]"
      ]
    },
    {
      "cell_type": "code",
      "execution_count": null,
      "metadata": {
        "id": "lHdbvJGy31A1"
      },
      "outputs": [],
      "source": [
        "cluster_2_test = dta[dta['PATIENT_NUM'].isin(cluster_2_test_patient)]"
      ]
    },
    {
      "cell_type": "markdown",
      "metadata": {
        "id": "ABmQcbcdx13P"
      },
      "source": [
        "## Cluster 3"
      ]
    },
    {
      "cell_type": "code",
      "execution_count": null,
      "metadata": {
        "id": "H-hMljxrx52g"
      },
      "outputs": [],
      "source": [
        "cluster_3_patient = dta[dta['cluster'] == 3]['PATIENT_NUM'].unique()"
      ]
    },
    {
      "cell_type": "code",
      "execution_count": null,
      "metadata": {
        "id": "Ht3otllex52h"
      },
      "outputs": [],
      "source": [
        "np.random.seed(42)\n",
        "cluster_3_train_patient = np.random.choice(cluster_3_patient, int(len(cluster_3_patient) * 0.7), replace = False)"
      ]
    },
    {
      "cell_type": "code",
      "execution_count": null,
      "metadata": {
        "id": "qiM8PVNjx52h"
      },
      "outputs": [],
      "source": [
        "mask = np.isin(cluster_3_patient, cluster_3_train_patient, invert = True)"
      ]
    },
    {
      "cell_type": "code",
      "execution_count": null,
      "metadata": {
        "id": "rWjX4pshx52h"
      },
      "outputs": [],
      "source": [
        "cluster_3_test_patient = cluster_3_patient[mask]"
      ]
    },
    {
      "cell_type": "code",
      "execution_count": null,
      "metadata": {
        "id": "ORLnc1Zm39PI"
      },
      "outputs": [],
      "source": [
        "cluster_3_train = dta[dta['PATIENT_NUM'].isin(cluster_3_train_patient)]"
      ]
    },
    {
      "cell_type": "code",
      "execution_count": null,
      "metadata": {
        "id": "tR8kqSPk39PJ"
      },
      "outputs": [],
      "source": [
        "cluster_3_test = dta[dta['PATIENT_NUM'].isin(cluster_3_test_patient)]"
      ]
    },
    {
      "cell_type": "markdown",
      "metadata": {
        "id": "JC-gy6ur4xv8"
      },
      "source": [
        "## Concatenate"
      ]
    },
    {
      "cell_type": "code",
      "execution_count": null,
      "metadata": {
        "id": "D-JorGgr3_JK"
      },
      "outputs": [],
      "source": [
        "Train = pd.concat([cluster_0_train, cluster_1_train, cluster_2_train, cluster_3_train])"
      ]
    },
    {
      "cell_type": "code",
      "execution_count": null,
      "metadata": {
        "colab": {
          "base_uri": "https://localhost:8080/"
        },
        "id": "vGfIeGiq7O_J",
        "outputId": "0d9596fc-c637-48a5-cb78-a871f9df8ec1"
      },
      "outputs": [
        {
          "output_type": "stream",
          "name": "stderr",
          "text": [
            "/usr/local/lib/python3.7/dist-packages/ipykernel_launcher.py:4: SettingWithCopyWarning: \n",
            "A value is trying to be set on a copy of a slice from a DataFrame.\n",
            "Try using .loc[row_indexer,col_indexer] = value instead\n",
            "\n",
            "See the caveats in the documentation: https://pandas.pydata.org/pandas-docs/stable/user_guide/indexing.html#returning-a-view-versus-a-copy\n",
            "  after removing the cwd from sys.path.\n",
            "/usr/local/lib/python3.7/dist-packages/ipykernel_launcher.py:5: SettingWithCopyWarning: \n",
            "A value is trying to be set on a copy of a slice from a DataFrame.\n",
            "Try using .loc[row_indexer,col_indexer] = value instead\n",
            "\n",
            "See the caveats in the documentation: https://pandas.pydata.org/pandas-docs/stable/user_guide/indexing.html#returning-a-view-versus-a-copy\n",
            "  \"\"\"\n",
            "/usr/local/lib/python3.7/dist-packages/ipykernel_launcher.py:6: SettingWithCopyWarning: \n",
            "A value is trying to be set on a copy of a slice from a DataFrame.\n",
            "Try using .loc[row_indexer,col_indexer] = value instead\n",
            "\n",
            "See the caveats in the documentation: https://pandas.pydata.org/pandas-docs/stable/user_guide/indexing.html#returning-a-view-versus-a-copy\n",
            "  \n",
            "/usr/local/lib/python3.7/dist-packages/ipykernel_launcher.py:7: SettingWithCopyWarning: \n",
            "A value is trying to be set on a copy of a slice from a DataFrame.\n",
            "Try using .loc[row_indexer,col_indexer] = value instead\n",
            "\n",
            "See the caveats in the documentation: https://pandas.pydata.org/pandas-docs/stable/user_guide/indexing.html#returning-a-view-versus-a-copy\n",
            "  import sys\n"
          ]
        }
      ],
      "source": [
        "Patients_Train = []\n",
        "for patient_num in Train['PATIENT_NUM'].unique():\n",
        "  patient = Train[Train['PATIENT_NUM'] == patient_num]\n",
        "  patient['FUTURE_LABELED'] = patient['LABELED'].shift(-1)\n",
        "  patient['FUTURE_SEVERITY'] = patient['HYPERTENSION_SEVERITY'].shift(-1)\n",
        "  patient['FUTURE_SEVERITY'] = patient['FUTURE_SEVERITY'].fillna(method = 'ffill')\n",
        "  patient['FUTURE_SEVERITY'] = patient['FUTURE_SEVERITY'].astype('int')\n",
        "  Patients_Train.append(patient)"
      ]
    },
    {
      "cell_type": "code",
      "execution_count": null,
      "metadata": {
        "id": "BbRl71OG80_3"
      },
      "outputs": [],
      "source": [
        "Train = pd.concat(Patients_Train)"
      ]
    },
    {
      "cell_type": "code",
      "execution_count": null,
      "metadata": {
        "id": "qezSNSri5DSU"
      },
      "outputs": [],
      "source": [
        "Test = pd.concat([cluster_0_test, cluster_1_test, cluster_2_test, cluster_3_test])"
      ]
    },
    {
      "cell_type": "code",
      "execution_count": null,
      "metadata": {
        "colab": {
          "base_uri": "https://localhost:8080/"
        },
        "id": "WeAXTL9MDiUW",
        "outputId": "774461a7-55ff-47bb-ca42-e327c3de551e"
      },
      "outputs": [
        {
          "output_type": "stream",
          "name": "stderr",
          "text": [
            "/usr/local/lib/python3.7/dist-packages/ipykernel_launcher.py:4: SettingWithCopyWarning: \n",
            "A value is trying to be set on a copy of a slice from a DataFrame.\n",
            "Try using .loc[row_indexer,col_indexer] = value instead\n",
            "\n",
            "See the caveats in the documentation: https://pandas.pydata.org/pandas-docs/stable/user_guide/indexing.html#returning-a-view-versus-a-copy\n",
            "  after removing the cwd from sys.path.\n",
            "/usr/local/lib/python3.7/dist-packages/ipykernel_launcher.py:5: SettingWithCopyWarning: \n",
            "A value is trying to be set on a copy of a slice from a DataFrame.\n",
            "Try using .loc[row_indexer,col_indexer] = value instead\n",
            "\n",
            "See the caveats in the documentation: https://pandas.pydata.org/pandas-docs/stable/user_guide/indexing.html#returning-a-view-versus-a-copy\n",
            "  \"\"\"\n",
            "/usr/local/lib/python3.7/dist-packages/ipykernel_launcher.py:6: SettingWithCopyWarning: \n",
            "A value is trying to be set on a copy of a slice from a DataFrame.\n",
            "Try using .loc[row_indexer,col_indexer] = value instead\n",
            "\n",
            "See the caveats in the documentation: https://pandas.pydata.org/pandas-docs/stable/user_guide/indexing.html#returning-a-view-versus-a-copy\n",
            "  \n",
            "/usr/local/lib/python3.7/dist-packages/ipykernel_launcher.py:7: SettingWithCopyWarning: \n",
            "A value is trying to be set on a copy of a slice from a DataFrame.\n",
            "Try using .loc[row_indexer,col_indexer] = value instead\n",
            "\n",
            "See the caveats in the documentation: https://pandas.pydata.org/pandas-docs/stable/user_guide/indexing.html#returning-a-view-versus-a-copy\n",
            "  import sys\n"
          ]
        }
      ],
      "source": [
        "Patients_Test = []\n",
        "for patient_num in Test['PATIENT_NUM'].unique():\n",
        "  patient = Test[Test['PATIENT_NUM'] == patient_num]\n",
        "  patient['FUTURE_LABELED'] = patient['LABELED'].shift(-1)\n",
        "  patient['FUTURE_SEVERITY'] = patient['HYPERTENSION_SEVERITY'].shift(-1)\n",
        "  patient['FUTURE_SEVERITY'] = patient['FUTURE_SEVERITY'].fillna(method = 'ffill')\n",
        "  patient['FUTURE_SEVERITY'] = patient['FUTURE_SEVERITY'].astype('int')\n",
        "  Patients_Test.append(patient)"
      ]
    },
    {
      "cell_type": "code",
      "execution_count": null,
      "metadata": {
        "id": "o9aKOiS3DwSa"
      },
      "outputs": [],
      "source": [
        "Test = pd.concat(Patients_Test)"
      ]
    },
    {
      "cell_type": "code",
      "execution_count": null,
      "metadata": {
        "id": "JLUVSwKcNmTM"
      },
      "outputs": [],
      "source": [
        "#Train.to_csv(r'/drive/MyDrive/MSCA_Capstone_Project/Data/Patient_Data/Train.csv', index=False)"
      ]
    },
    {
      "cell_type": "code",
      "execution_count": null,
      "metadata": {
        "id": "P_HBdrRGNrEy"
      },
      "outputs": [],
      "source": [
        "#Test.to_csv(r'/drive/MyDrive/MSCA_Capstone_Project/Data/Patient_Data/Test.csv', index=False)"
      ]
    },
    {
      "cell_type": "code",
      "execution_count": null,
      "metadata": {
        "colab": {
          "base_uri": "https://localhost:8080/"
        },
        "id": "DzrEkEhuyvky",
        "outputId": "f5b7e4f5-8985-467c-c78f-5d1ddccdf38b"
      },
      "outputs": [
        {
          "output_type": "execute_result",
          "data": {
            "text/plain": [
              "Index(['PATIENT_NUM', 'code', 'GENDER', 'VISIT_TYPE', 'AGE',\n",
              "       'FAMILY_HYPERTENSION_NUM', 'HYPERTENSION_VISIT',\n",
              "       'HYPERTENSION_SEVERITY', 'HYPERTENSION_STATUS', 'DIASTOLIC_BP',\n",
              "       'SYSTOLIC_BP', 'WEIGHT', 'HEIGHT', 'TEMPERATURE', 'PULSE',\n",
              "       'RESPIRATION', 'PULSEOXYGEN', 'NON_SMOKER', 'NON_DRINKER',\n",
              "       'REGULAR_EXERCISER', 'NON_ALLERGY', 'HOS_PERIOD', 'cluster', 'VISIT',\n",
              "       'DAYS', 'LABELED', 'FUTURE_LABELED', 'FUTURE_SEVERITY'],\n",
              "      dtype='object')"
            ]
          },
          "metadata": {},
          "execution_count": 211
        }
      ],
      "source": [
        "Train.columns"
      ]
    },
    {
      "cell_type": "code",
      "execution_count": null,
      "metadata": {
        "id": "YS89ltL3LpRw"
      },
      "outputs": [],
      "source": [
        "label_encoder = OneHotEncoder()"
      ]
    },
    {
      "cell_type": "code",
      "execution_count": null,
      "metadata": {
        "id": "aqBnISZPMVTy"
      },
      "outputs": [],
      "source": [
        "encoded_train_col = label_encoder.fit_transform(Train[['VISIT_TYPE', 'HYPERTENSION_SEVERITY', 'HYPERTENSION_STATUS', 'cluster']])"
      ]
    },
    {
      "cell_type": "code",
      "execution_count": null,
      "metadata": {
        "id": "M-MbFp7RONjY"
      },
      "outputs": [],
      "source": [
        "Train_Encoded = Train.reset_index().drop(['index', 'VISIT_TYPE', 'HYPERTENSION_SEVERITY', 'HYPERTENSION_STATUS', 'cluster'], axis = 1).join(pd.DataFrame(encoded_train_col.toarray()))"
      ]
    },
    {
      "cell_type": "code",
      "execution_count": null,
      "metadata": {
        "id": "VQ9kuB4aTQ_E"
      },
      "outputs": [],
      "source": [
        "encoded_test_col = label_encoder.transform(Test[['VISIT_TYPE', 'HYPERTENSION_SEVERITY', 'HYPERTENSION_STATUS', 'cluster']])"
      ]
    },
    {
      "cell_type": "code",
      "execution_count": null,
      "metadata": {
        "id": "vicWiELaTM-0"
      },
      "outputs": [],
      "source": [
        "Test_Encoded = Test.reset_index().drop(['index', 'VISIT_TYPE', 'HYPERTENSION_SEVERITY', 'HYPERTENSION_STATUS', 'cluster'], axis = 1).join(pd.DataFrame(encoded_test_col.toarray()))"
      ]
    },
    {
      "cell_type": "code",
      "execution_count": null,
      "metadata": {
        "id": "G75t8hF3AC07"
      },
      "outputs": [],
      "source": [
        "X_train = np.array(Train_Encoded.iloc[:, 2:].drop(['FUTURE_SEVERITY', 'FUTURE_LABELED', 'LABELED'], axis = 1))"
      ]
    },
    {
      "cell_type": "code",
      "execution_count": null,
      "metadata": {
        "id": "5WUwVBodKN-i"
      },
      "outputs": [],
      "source": [
        "y_train = np.array(Train_Encoded['FUTURE_SEVERITY'])"
      ]
    },
    {
      "cell_type": "code",
      "execution_count": null,
      "metadata": {
        "id": "nLD3q8quKU6O"
      },
      "outputs": [],
      "source": [
        "X_test = np.array(Test_Encoded.iloc[:, 2:].drop(['FUTURE_SEVERITY', 'FUTURE_LABELED', 'LABELED'], axis = 1))"
      ]
    },
    {
      "cell_type": "code",
      "execution_count": null,
      "metadata": {
        "id": "B3SEQ-aVKbgg"
      },
      "outputs": [],
      "source": [
        "y_test = np.array(Test_Encoded['FUTURE_SEVERITY'])"
      ]
    },
    {
      "cell_type": "markdown",
      "metadata": {
        "id": "VIorrlJOLBJO"
      },
      "source": [
        "# Use SMOTE to see if it is oversampled"
      ]
    },
    {
      "cell_type": "code",
      "execution_count": null,
      "metadata": {
        "id": "faC3vmrGisHP"
      },
      "outputs": [],
      "source": [
        "from sklearn.model_selection import train_test_split\n",
        "from sklearn.preprocessing import MinMaxScaler"
      ]
    },
    {
      "cell_type": "code",
      "execution_count": null,
      "metadata": {
        "id": "atM_Ali-htjl"
      },
      "outputs": [],
      "source": [
        "Sx = dta.loc[:, dta.columns != 'HYPERTENSION_VISIT']\n",
        "Sy = dta.loc[:, dta.columns == 'HYPERTENSION_VISIT']"
      ]
    },
    {
      "cell_type": "code",
      "execution_count": null,
      "metadata": {
        "colab": {
          "base_uri": "https://localhost:8080/"
        },
        "id": "ztZepPf6hJaa",
        "outputId": "15e30a0e-30a6-4abf-c886-1ac7d3cc460b"
      },
      "outputs": [
        {
          "data": {
            "text/plain": [
              "Index(['PATIENT_NUM', 'code', 'GENDER', 'VISIT_TYPE', 'AGE',\n",
              "       'FAMILY_HYPERTENSION_NUM', 'HYPERTENSION_VISIT',\n",
              "       'HYPERTENSION_SEVERITY', 'HYPERTENSION_STATUS', 'DIASTOLIC_BP',\n",
              "       'SYSTOLIC_BP', 'WEIGHT', 'HEIGHT', 'TEMPERATURE', 'PULSE',\n",
              "       'RESPIRATION', 'PULSEOXYGEN', 'NON_SMOKER', 'NON_DRINKER',\n",
              "       'REGULAR_EXERCISER', 'NON_ALLERGY', 'HOS_PERIOD', 'cluster', 'VISIT',\n",
              "       'DAYS', 'LABELED'],\n",
              "      dtype='object')"
            ]
          },
          "execution_count": 437,
          "metadata": {},
          "output_type": "execute_result"
        }
      ],
      "source": [
        "dta.columns"
      ]
    },
    {
      "cell_type": "code",
      "execution_count": null,
      "metadata": {
        "colab": {
          "base_uri": "https://localhost:8080/"
        },
        "id": "1kcF137WLFm7",
        "outputId": "53cd74dd-145f-4dbc-b444-1fffd717fee6"
      },
      "outputs": [
        {
          "name": "stdout",
          "output_type": "stream",
          "text": [
            "length of oversampled data is  68748\n",
            "Number of no hypertension severity level in visits 34374\n",
            "Number of hypertension severity level 34374\n",
            "Proportion of no hypertension severity level in visits is  0.5\n",
            "Proportion of hypertension severity level data in oversampled data is  0.5\n"
          ]
        }
      ],
      "source": [
        "from imblearn.over_sampling import SMOTE\n",
        "\n",
        "os = SMOTE(random_state=0)\n",
        "X_train1, X_test1, y_train1, y_test1 = train_test_split(Sx, Sy, test_size=0.3, random_state=0)\n",
        "columns = X_train1.columns\n",
        "os_data_X,os_data_y=os.fit_resample(X_train1, y_train1)\n",
        "os_data_X = pd.DataFrame(data=os_data_X,columns=columns )\n",
        "os_data_y= pd.DataFrame(data=os_data_y,columns=['HYPERTENSION_VISIT'])\n",
        "# we can Check the numbers of our data\n",
        "print(\"length of oversampled data is \",len(os_data_X))\n",
        "print(\"Number of no hypertension severity level in visits\",len(os_data_y[os_data_y['HYPERTENSION_VISIT']==0]))\n",
        "print(\"Number of hypertension severity level\",len(os_data_y[os_data_y['HYPERTENSION_VISIT']==1]))\n",
        "print(\"Proportion of no hypertension severity level in visits is \",len(os_data_y[os_data_y['HYPERTENSION_VISIT']==0])/len(os_data_X))\n",
        "print(\"Proportion of hypertension severity level data in oversampled data is \",len(os_data_y[os_data_y['HYPERTENSION_VISIT']==1])/len(os_data_X))"
      ]
    },
    {
      "cell_type": "markdown",
      "metadata": {
        "id": "3CrKbP4IjUr9"
      },
      "source": []
    },
    {
      "cell_type": "code",
      "execution_count": null,
      "metadata": {
        "colab": {
          "base_uri": "https://localhost:8080/"
        },
        "id": "xhOQJYdBSDQE",
        "outputId": "6a804d17-9a9d-454a-c06a-f49d39788350"
      },
      "outputs": [
        {
          "data": {
            "text/plain": [
              "6186"
            ]
          },
          "execution_count": 439,
          "metadata": {},
          "output_type": "execute_result"
        }
      ],
      "source": [
        "len(Train[Train['HYPERTENSION_VISIT'] == 1])"
      ]
    },
    {
      "cell_type": "code",
      "execution_count": null,
      "metadata": {
        "colab": {
          "base_uri": "https://localhost:8080/"
        },
        "id": "ZvuZzXSxZMhb",
        "outputId": "e01f2b9d-8c9a-4bde-cda1-bdecdce8ab41"
      },
      "outputs": [
        {
          "data": {
            "text/plain": [
              "2466"
            ]
          },
          "execution_count": 440,
          "metadata": {},
          "output_type": "execute_result"
        }
      ],
      "source": [
        "len(Test[Test['HYPERTENSION_VISIT'] == 1])"
      ]
    },
    {
      "cell_type": "markdown",
      "metadata": {
        "id": "WcaH4XPZJIGh"
      },
      "source": [
        "# X_test for hypertension == 1 only"
      ]
    },
    {
      "cell_type": "code",
      "execution_count": null,
      "metadata": {
        "id": "eTQQ5mwo4Y8S"
      },
      "outputs": [],
      "source": [
        "X_test_Original_Label = np.array(Test_Encoded.loc[Test_Encoded['FUTURE_LABELED'] == 1, 'GENDER':].drop(['FUTURE_SEVERITY', 'FUTURE_LABELED', 'LABELED'], axis = 1))"
      ]
    },
    {
      "cell_type": "code",
      "execution_count": null,
      "metadata": {
        "colab": {
          "base_uri": "https://localhost:8080/"
        },
        "id": "80OkRLmTMRrJ",
        "outputId": "3d8d6bd3-c7f3-4950-bf37-f23ac8058672"
      },
      "outputs": [
        {
          "output_type": "execute_result",
          "data": {
            "text/plain": [
              "(11763, 78)"
            ]
          },
          "metadata": {},
          "execution_count": 222
        }
      ],
      "source": [
        "X_test_Original_Label.shape"
      ]
    },
    {
      "cell_type": "code",
      "execution_count": null,
      "metadata": {
        "id": "zAe4vMGrPyev"
      },
      "outputs": [],
      "source": [
        "y_test_Original_Label = np.array(Test_Encoded.loc[Test_Encoded['FUTURE_LABELED'] == 1]['FUTURE_SEVERITY'])"
      ]
    },
    {
      "cell_type": "code",
      "execution_count": null,
      "metadata": {
        "colab": {
          "base_uri": "https://localhost:8080/"
        },
        "id": "usJw6iVXQOaB",
        "outputId": "44a85233-d051-4af8-fd0a-e479c6451f8b"
      },
      "outputs": [
        {
          "output_type": "execute_result",
          "data": {
            "text/plain": [
              "(11763,)"
            ]
          },
          "metadata": {},
          "execution_count": 224
        }
      ],
      "source": [
        "y_test_Original_Label.shape"
      ]
    },
    {
      "cell_type": "code",
      "execution_count": null,
      "metadata": {
        "colab": {
          "base_uri": "https://localhost:8080/"
        },
        "id": "kBNwQ5lV5ewE",
        "outputId": "9a385d96-082a-402b-ff77-c05dc19a9126"
      },
      "outputs": [
        {
          "output_type": "execute_result",
          "data": {
            "text/plain": [
              "array([2, 2, 2, ..., 1, 1, 1])"
            ]
          },
          "metadata": {},
          "execution_count": 225
        }
      ],
      "source": [
        "y_test_Original_Label"
      ]
    },
    {
      "cell_type": "markdown",
      "metadata": {
        "id": "xXsDZapHZN2T"
      },
      "source": [
        "# Baseline Models"
      ]
    },
    {
      "cell_type": "markdown",
      "metadata": {
        "id": "JVbvQSSAg0bz"
      },
      "source": [
        "### X_train, y_train, X_test, y_test"
      ]
    },
    {
      "cell_type": "code",
      "execution_count": null,
      "metadata": {
        "colab": {
          "base_uri": "https://localhost:8080/"
        },
        "id": "RtEaw8EdKenv",
        "outputId": "cbedf5d8-6501-4cc5-fb22-3ca7a9af2074"
      },
      "outputs": [
        {
          "output_type": "execute_result",
          "data": {
            "text/plain": [
              "(41173, 78)"
            ]
          },
          "metadata": {},
          "execution_count": 236
        }
      ],
      "source": [
        "X_train.shape"
      ]
    },
    {
      "cell_type": "code",
      "execution_count": null,
      "metadata": {
        "colab": {
          "base_uri": "https://localhost:8080/"
        },
        "id": "-hYtjaKaKjI1",
        "outputId": "830a2b45-3537-4ee0-c694-eae1280db05a"
      },
      "outputs": [
        {
          "output_type": "execute_result",
          "data": {
            "text/plain": [
              "(41173,)"
            ]
          },
          "metadata": {},
          "execution_count": 237
        }
      ],
      "source": [
        "y_train.shape"
      ]
    },
    {
      "cell_type": "code",
      "execution_count": null,
      "metadata": {
        "colab": {
          "base_uri": "https://localhost:8080/"
        },
        "id": "6qjkKGzZKkwD",
        "outputId": "b5234e96-7cfe-4a8f-ac1b-abef00f5dcf2"
      },
      "outputs": [
        {
          "output_type": "execute_result",
          "data": {
            "text/plain": [
              "(16544, 78)"
            ]
          },
          "metadata": {},
          "execution_count": 238
        }
      ],
      "source": [
        "X_test.shape"
      ]
    },
    {
      "cell_type": "code",
      "execution_count": null,
      "metadata": {
        "colab": {
          "base_uri": "https://localhost:8080/"
        },
        "id": "HcWGYJwSKm1t",
        "outputId": "b3969fe7-9e33-4998-d250-f9789088c9a0"
      },
      "outputs": [
        {
          "output_type": "execute_result",
          "data": {
            "text/plain": [
              "(16544,)"
            ]
          },
          "metadata": {},
          "execution_count": 239
        }
      ],
      "source": [
        "y_test.shape"
      ]
    },
    {
      "cell_type": "code",
      "execution_count": null,
      "metadata": {
        "colab": {
          "base_uri": "https://localhost:8080/"
        },
        "id": "jkkJWFvlJcMy",
        "outputId": "fc8cc6aa-1a69-48ea-b172-2abd8afcce04"
      },
      "outputs": [
        {
          "output_type": "execute_result",
          "data": {
            "text/plain": [
              "Index(['PATIENT_NUM', 'code', 'GENDER', 'VISIT_TYPE', 'AGE',\n",
              "       'FAMILY_HYPERTENSION_NUM', 'HYPERTENSION_VISIT',\n",
              "       'HYPERTENSION_SEVERITY', 'HYPERTENSION_STATUS', 'DIASTOLIC_BP',\n",
              "       'SYSTOLIC_BP', 'WEIGHT', 'HEIGHT', 'TEMPERATURE', 'PULSE',\n",
              "       'RESPIRATION', 'PULSEOXYGEN', 'NON_SMOKER', 'NON_DRINKER',\n",
              "       'REGULAR_EXERCISER', 'NON_ALLERGY', 'HOS_PERIOD', 'cluster', 'VISIT',\n",
              "       'DAYS', 'LABELED'],\n",
              "      dtype='object')"
            ]
          },
          "metadata": {},
          "execution_count": 240
        }
      ],
      "source": [
        "dta.columns"
      ]
    },
    {
      "cell_type": "code",
      "execution_count": null,
      "metadata": {
        "id": "_EuZKfUyLqCX"
      },
      "outputs": [],
      "source": [
        "Col = ['GENDER', 'VISIT_TYPE', 'AGE',\n",
        "       'FAMILY_HYPERTENSION_NUM', 'HYPERTENSION_VISIT',\n",
        "       'HYPERTENSION_SEVERITY', 'HYPERTENSION_STATUS', 'DIASTOLIC_BP',\n",
        "       'SYSTOLIC_BP', 'WEIGHT', 'HEIGHT', 'TEMPERATURE', 'PULSE',\n",
        "       'RESPIRATION', 'PULSEOXYGEN', 'NON_SMOKER', 'NON_DRINKER',\n",
        "       'REGULAR_EXERCISER', 'NON_ALLERGY', 'HOS_PERIOD', 'cluster', 'VISIT',\n",
        "       'DAYS']"
      ]
    },
    {
      "cell_type": "code",
      "execution_count": null,
      "metadata": {
        "colab": {
          "base_uri": "https://localhost:8080/"
        },
        "id": "yMIV5Rjv6ERI",
        "outputId": "38d8d58d-4d66-4e51-c3ae-f0377fcbfa23"
      },
      "outputs": [
        {
          "output_type": "execute_result",
          "data": {
            "text/plain": [
              "(41173, 28)"
            ]
          },
          "metadata": {},
          "execution_count": 242
        }
      ],
      "source": [
        "Train.shape"
      ]
    },
    {
      "cell_type": "code",
      "execution_count": null,
      "metadata": {
        "id": "iJb9Qx5EKBbJ"
      },
      "outputs": [],
      "source": [
        "#X_train_w_col = pd.DataFrame(data = X_train, columns = Col)"
      ]
    },
    {
      "cell_type": "code",
      "execution_count": null,
      "metadata": {
        "id": "ugZq0ooPSB8t"
      },
      "outputs": [],
      "source": [
        "#X_train_w_col.shape"
      ]
    },
    {
      "cell_type": "code",
      "execution_count": null,
      "metadata": {
        "id": "6T7y-i7rYLEc"
      },
      "outputs": [],
      "source": [
        "#X_train_w_col['HYPERTENSION_SEVERITY'].value_counts()"
      ]
    },
    {
      "cell_type": "markdown",
      "metadata": {
        "id": "8FIFx147j2fE"
      },
      "source": [
        "### Scale the dataset\n"
      ]
    },
    {
      "cell_type": "code",
      "execution_count": null,
      "metadata": {
        "id": "aALX2yiObB0Y"
      },
      "outputs": [],
      "source": [
        "from sklearn.experimental import enable_halving_search_cv \n",
        "from sklearn.model_selection import HalvingGridSearchCV\n",
        "from sklearn.ensemble import RandomForestClassifier"
      ]
    },
    {
      "cell_type": "code",
      "execution_count": null,
      "metadata": {
        "id": "k0omhi1KbQGF"
      },
      "outputs": [],
      "source": [
        "from sklearn.preprocessing import StandardScaler\n",
        "from sklearn.preprocessing import MinMaxScaler"
      ]
    },
    {
      "cell_type": "code",
      "execution_count": null,
      "metadata": {
        "id": "7YnXx7Clj7t_"
      },
      "outputs": [],
      "source": [
        "scaler = MinMaxScaler(feature_range = (0,1))\n",
        "\n",
        "scaler.fit(X_train)\n",
        "X_train_scaled = scaler.transform(X_train)\n",
        "X_test_scaled = scaler.transform(X_test)"
      ]
    },
    {
      "cell_type": "code",
      "execution_count": null,
      "metadata": {
        "id": "VwRmZ4zbiVvP"
      },
      "outputs": [],
      "source": [
        "scaler = MinMaxScaler(feature_range = (0,1))\n",
        "\n",
        "scaler.fit(X_train)\n",
        "X_train_scaled2 = scaler.transform(X_train)\n",
        "X_test_scaled_h1 = scaler.transform(X_test_Original_Label)"
      ]
    },
    {
      "cell_type": "markdown",
      "metadata": {
        "id": "dOjdWIgfKAmy"
      },
      "source": [
        "## Logstic Regression"
      ]
    },
    {
      "cell_type": "code",
      "execution_count": null,
      "metadata": {
        "id": "Ihx7jNx6KL5K"
      },
      "outputs": [],
      "source": [
        "from sklearn.linear_model import LogisticRegression\n",
        "from sklearn.metrics import accuracy_score\n"
      ]
    },
    {
      "cell_type": "code",
      "execution_count": null,
      "metadata": {
        "colab": {
          "base_uri": "https://localhost:8080/"
        },
        "id": "P3WzJ7FSKkGR",
        "outputId": "6f320646-5e07-4f7b-96c0-bbd256183c34"
      },
      "outputs": [
        {
          "output_type": "stream",
          "name": "stderr",
          "text": [
            "/usr/local/lib/python3.7/dist-packages/sklearn/linear_model/_logistic.py:818: ConvergenceWarning: lbfgs failed to converge (status=1):\n",
            "STOP: TOTAL NO. of ITERATIONS REACHED LIMIT.\n",
            "\n",
            "Increase the number of iterations (max_iter) or scale the data as shown in:\n",
            "    https://scikit-learn.org/stable/modules/preprocessing.html\n",
            "Please also refer to the documentation for alternative solver options:\n",
            "    https://scikit-learn.org/stable/modules/linear_model.html#logistic-regression\n",
            "  extra_warning_msg=_LOGISTIC_SOLVER_CONVERGENCE_MSG,\n"
          ]
        },
        {
          "output_type": "execute_result",
          "data": {
            "text/plain": [
              "LogisticRegression()"
            ]
          },
          "metadata": {},
          "execution_count": 252
        }
      ],
      "source": [
        "lr = LogisticRegression()\n",
        "lr.fit(X_train, y_train)"
      ]
    },
    {
      "cell_type": "code",
      "execution_count": null,
      "metadata": {
        "colab": {
          "base_uri": "https://localhost:8080/"
        },
        "id": "b3aV7gygL2jL",
        "outputId": "dd09e445-8fd5-4550-e6d1-8909d5345ef3"
      },
      "outputs": [
        {
          "output_type": "stream",
          "name": "stdout",
          "text": [
            "Accuracy of logistic regression classifier on test set: 0.80\n"
          ]
        }
      ],
      "source": [
        "#pred all Y visits\n",
        "y_pred_lr = lr.predict(X_test_Original_Label)\n",
        "print('Accuracy of logistic regression classifier on test set: {:.2f}'.format(lr.score(X_test_Original_Label, y_test_Original_Label)))"
      ]
    },
    {
      "cell_type": "code",
      "execution_count": null,
      "metadata": {
        "colab": {
          "base_uri": "https://localhost:8080/"
        },
        "id": "SFUpZmVJcXaO",
        "outputId": "48c7b560-84e1-4256-a384-8ffb46cc3ec4"
      },
      "outputs": [
        {
          "output_type": "stream",
          "name": "stdout",
          "text": [
            "Accuracy of logistic regression classifier on test set(h==1): 0.80\n"
          ]
        }
      ],
      "source": [
        "# on only hypertension > 0 visits\n",
        "y_pred_lr_1 = lr.predict(X_test_Original_Label)\n",
        "print('Accuracy of logistic regression classifier on test set(h==1): {:.2f}'.format(lr.score(X_test_Original_Label, y_test_Original_Label)))"
      ]
    },
    {
      "cell_type": "code",
      "execution_count": null,
      "metadata": {
        "id": "O-0MfGXKkU3N"
      },
      "outputs": [],
      "source": [
        "# confusion matrix on only h>0 visits\n",
        "lr_matrix = metrics.confusion_matrix(y_test_Original_Label, y_pred_lr_1)"
      ]
    },
    {
      "cell_type": "code",
      "execution_count": null,
      "metadata": {
        "colab": {
          "base_uri": "https://localhost:8080/",
          "height": 303
        },
        "id": "G3bqBd2nkcgc",
        "outputId": "48db40a7-2662-4919-d4b9-f779204df372"
      },
      "outputs": [
        {
          "output_type": "display_data",
          "data": {
            "text/plain": [
              "<Figure size 432x288 with 2 Axes>"
            ],
            "image/png": "[encoded data removed]"
          },
          "metadata": {
            "needs_background": "light"
          }
        }
      ],
      "source": [
        "labels = ['True Neg','False Pos','False Neg','True Pos']\n",
        "categories = ['1', '2','3']\n",
        "make_confusion_matrix(lr_matrix, \n",
        "                      group_names=labels,\n",
        "                      categories=categories)"
      ]
    },
    {
      "cell_type": "code",
      "execution_count": null,
      "metadata": {
        "colab": {
          "base_uri": "https://localhost:8080/"
        },
        "id": "wBJfNrqlmH18",
        "outputId": "4a95970e-5c07-42f5-efd3-a2669819db12"
      },
      "outputs": [
        {
          "output_type": "stream",
          "name": "stdout",
          "text": [
            "              precision    recall  f1-score   support\n",
            "\n",
            "           1      0.667     0.001     0.002      2065\n",
            "           2      0.799     1.000     0.888      9395\n",
            "           3      0.000     0.000     0.000       303\n",
            "\n",
            "    accuracy                          0.799     11763\n",
            "   macro avg      0.489     0.334     0.297     11763\n",
            "weighted avg      0.755     0.799     0.710     11763\n",
            "\n"
          ]
        },
        {
          "output_type": "stream",
          "name": "stderr",
          "text": [
            "/usr/local/lib/python3.7/dist-packages/sklearn/metrics/_classification.py:1318: UndefinedMetricWarning: Precision and F-score are ill-defined and being set to 0.0 in labels with no predicted samples. Use `zero_division` parameter to control this behavior.\n",
            "  _warn_prf(average, modifier, msg_start, len(result))\n",
            "/usr/local/lib/python3.7/dist-packages/sklearn/metrics/_classification.py:1318: UndefinedMetricWarning: Precision and F-score are ill-defined and being set to 0.0 in labels with no predicted samples. Use `zero_division` parameter to control this behavior.\n",
            "  _warn_prf(average, modifier, msg_start, len(result))\n",
            "/usr/local/lib/python3.7/dist-packages/sklearn/metrics/_classification.py:1318: UndefinedMetricWarning: Precision and F-score are ill-defined and being set to 0.0 in labels with no predicted samples. Use `zero_division` parameter to control this behavior.\n",
            "  _warn_prf(average, modifier, msg_start, len(result))\n"
          ]
        }
      ],
      "source": [
        "print(metrics.classification_report(y_test_Original_Label, y_pred_lr_1, digits=3))"
      ]
    },
    {
      "cell_type": "markdown",
      "metadata": {
        "id": "aVCw5FciL9qp"
      },
      "source": [
        "## Gaussian Naive Bayes classifier"
      ]
    },
    {
      "cell_type": "code",
      "execution_count": null,
      "metadata": {
        "colab": {
          "base_uri": "https://localhost:8080/"
        },
        "id": "2ZxPtJ73MUPx",
        "outputId": "44fda292-cbc0-4b1d-c1a7-79e38b955225"
      },
      "outputs": [
        {
          "output_type": "execute_result",
          "data": {
            "text/plain": [
              "GaussianNB()"
            ]
          },
          "metadata": {},
          "execution_count": 258
        }
      ],
      "source": [
        "# train a Gaussian Naive Bayes classifier on the training set\n",
        "from sklearn.naive_bayes import GaussianNB\n",
        "\n",
        "\n",
        "# instantiate the model\n",
        "gnb = GaussianNB()\n",
        "\n",
        "\n",
        "# fit the model\n",
        "gnb.fit(X_train, y_train)"
      ]
    },
    {
      "cell_type": "code",
      "execution_count": null,
      "metadata": {
        "colab": {
          "base_uri": "https://localhost:8080/"
        },
        "id": "flKneZcNMXkM",
        "outputId": "3f89b1e2-5eb5-4304-e0fd-1d8baa4dc960"
      },
      "outputs": [
        {
          "output_type": "stream",
          "name": "stdout",
          "text": [
            "Accuracy of Gaussian Naive Bayes classifier on test set: 0.99\n"
          ]
        }
      ],
      "source": [
        "from sklearn.metrics import accuracy_score\n",
        "\n",
        "y_pred_gnb = gnb.predict(X_test_Original_Label)\n",
        "\n",
        "print('Accuracy of Gaussian Naive Bayes classifier on test set: {:.2f}'.format(gnb.score(X_test_Original_Label, y_test_Original_Label)))"
      ]
    },
    {
      "cell_type": "code",
      "execution_count": null,
      "metadata": {
        "id": "s3coLMt5n__C"
      },
      "outputs": [],
      "source": [
        "gnb_matrix = metrics.confusion_matrix(y_test_Original_Label, y_pred_gnb)"
      ]
    },
    {
      "cell_type": "code",
      "execution_count": null,
      "metadata": {
        "colab": {
          "base_uri": "https://localhost:8080/",
          "height": 303
        },
        "id": "7cRddthcoEiA",
        "outputId": "76c69dbf-19da-43ae-b1ca-da605c1a47ec"
      },
      "outputs": [
        {
          "output_type": "display_data",
          "data": {
            "text/plain": [
              "<Figure size 432x288 with 2 Axes>"
            ],
            "image/png": "[encoded data removed]"
          },
          "metadata": {
            "needs_background": "light"
          }
        }
      ],
      "source": [
        "labels = ['True Neg','False Pos','False Neg','True Pos']\n",
        "categories = ['1', '2','3']\n",
        "make_confusion_matrix(gnb_matrix, \n",
        "                      group_names=labels,\n",
        "                      categories=categories)"
      ]
    },
    {
      "cell_type": "code",
      "execution_count": null,
      "metadata": {
        "colab": {
          "base_uri": "https://localhost:8080/"
        },
        "id": "UFfHo21Hnw7S",
        "outputId": "c32db259-3981-4e75-f4ae-2ca12a9adc6f"
      },
      "outputs": [
        {
          "output_type": "stream",
          "name": "stdout",
          "text": [
            "              precision    recall  f1-score   support\n",
            "\n",
            "           1      0.987     0.991     0.989      2065\n",
            "           2      0.997     0.997     0.997      9395\n",
            "           3      0.983     0.954     0.968       303\n",
            "\n",
            "    accuracy                          0.995     11763\n",
            "   macro avg      0.989     0.981     0.985     11763\n",
            "weighted avg      0.995     0.995     0.995     11763\n",
            "\n"
          ]
        }
      ],
      "source": [
        "print(metrics.classification_report(y_test_Original_Label, y_pred_gnb, digits=3))"
      ]
    },
    {
      "cell_type": "markdown",
      "metadata": {
        "id": "r_QjFMY2oSg7"
      },
      "source": [
        "## KNN Classifier"
      ]
    },
    {
      "cell_type": "code",
      "execution_count": null,
      "metadata": {
        "colab": {
          "base_uri": "https://localhost:8080/"
        },
        "id": "zHouLZ80oWi7",
        "outputId": "f58743d2-facd-4e50-b8fb-33eb76c8431d"
      },
      "outputs": [
        {
          "output_type": "execute_result",
          "data": {
            "text/plain": [
              "KNeighborsClassifier(n_neighbors=4)"
            ]
          },
          "metadata": {},
          "execution_count": 264
        }
      ],
      "source": [
        "#Setup a knn classifier with k neighbors\n",
        "from sklearn.neighbors import KNeighborsClassifier\n",
        "\n",
        "knn = KNeighborsClassifier(4)\n",
        "\n",
        "knn.fit(X_train,y_train)\n"
      ]
    },
    {
      "cell_type": "code",
      "execution_count": null,
      "metadata": {
        "colab": {
          "base_uri": "https://localhost:8080/"
        },
        "id": "M_cYGcxYoh6Z",
        "outputId": "1fc0ce88-5510-40e4-ed7d-9c37ab18b992"
      },
      "outputs": [
        {
          "output_type": "stream",
          "name": "stdout",
          "text": [
            "Accuracy of KNN classifier on test set: 0.69\n"
          ]
        }
      ],
      "source": [
        "y_pred_knn = knn.predict(X_test_Original_Label)\n",
        "\n",
        "print('Accuracy of KNN classifier on test set: {:.2f}'.format(knn.score(X_test_Original_Label, y_test_Original_Label)))"
      ]
    },
    {
      "cell_type": "code",
      "execution_count": null,
      "metadata": {
        "id": "adfJ1KXDozAB"
      },
      "outputs": [],
      "source": [
        "knn_matrix = metrics.confusion_matrix(y_test_Original_Label, y_pred_knn)"
      ]
    },
    {
      "cell_type": "code",
      "execution_count": null,
      "metadata": {
        "colab": {
          "base_uri": "https://localhost:8080/",
          "height": 303
        },
        "id": "bXT1J_upo52O",
        "outputId": "93e9544f-522a-443f-a3b3-e482da269569"
      },
      "outputs": [
        {
          "output_type": "display_data",
          "data": {
            "text/plain": [
              "<Figure size 432x288 with 2 Axes>"
            ],
            "image/png": "[encoded data removed]"
          },
          "metadata": {
            "needs_background": "light"
          }
        }
      ],
      "source": [
        "labels = ['True Neg','False Pos','False Neg','True Pos']\n",
        "categories = ['1', '2','3']\n",
        "make_confusion_matrix(knn_matrix, \n",
        "                      group_names=labels,\n",
        "                      categories=categories)"
      ]
    },
    {
      "cell_type": "markdown",
      "metadata": {
        "id": "TkpeL3ow46LQ"
      },
      "source": [
        "## SVM"
      ]
    },
    {
      "cell_type": "code",
      "execution_count": null,
      "metadata": {
        "id": "B1TFnqMLyKMl"
      },
      "outputs": [],
      "source": [
        "from sklearn.model_selection import HalvingGridSearchCV"
      ]
    },
    {
      "cell_type": "code",
      "execution_count": null,
      "metadata": {
        "id": "TZXXNueQU_9T"
      },
      "outputs": [],
      "source": [
        "# Reference: https://towardsdatascience.com/hyperparameter-tuning-the-random-forest-in-python-using-scikit-learn-28d2aa77dd74\n",
        "def evaluate(model, test_features, test_labels):\n",
        "    predictions = model.predict(test_features)\n",
        "    errors = abs(predictions - test_labels)\n",
        "    mape = 100 * np.mean(errors / test_labels)\n",
        "    accuracy = 100 - mape\n",
        "    #print('Model Performance')\n",
        "    #print('Average Error: {:0.4f} degrees.'.format(np.mean(errors)))\n",
        "    #print('Accuracy = {:0.2f}%.'.format(accuracy))\n",
        "    \n",
        "    return accuracy"
      ]
    },
    {
      "cell_type": "code",
      "execution_count": null,
      "metadata": {
        "colab": {
          "base_uri": "https://localhost:8080/"
        },
        "id": "xG2lCrrcZgqS",
        "outputId": "732e803c-300b-4d81-ae4c-31348bb137b2"
      },
      "outputs": [
        {
          "output_type": "stream",
          "name": "stdout",
          "text": [
            "n_iterations: 2\n",
            "n_required_iterations: 2\n",
            "n_possible_iterations: 2\n",
            "min_resources_: 13724\n",
            "max_resources_: 41173\n",
            "aggressive_elimination: False\n",
            "factor: 3\n",
            "----------\n",
            "iter: 0\n",
            "n_candidates: 4\n",
            "n_resources: 13724\n",
            "Fitting 3 folds for each of 4 candidates, totalling 12 fits\n",
            "----------\n",
            "iter: 1\n",
            "n_candidates: 2\n",
            "n_resources: 41172\n",
            "Fitting 3 folds for each of 2 candidates, totalling 6 fits\n"
          ]
        },
        {
          "output_type": "execute_result",
          "data": {
            "text/plain": [
              "HalvingGridSearchCV(cv=3, estimator=SVC(), n_jobs=-1,\n",
              "                    param_grid={'C': [1, 10], 'gamma': [0.0001, 0.001],\n",
              "                                'kernel': ['linear']},\n",
              "                    verbose=2)"
            ]
          },
          "metadata": {},
          "execution_count": 270
        }
      ],
      "source": [
        "# Create the parameter grid based on the results of random search \n",
        "param_grid_svm = {\n",
        "    'C': [1,10],\n",
        "    'gamma': [1e-4, 1e-3],\n",
        "    'kernel': ['linear'],\n",
        "}\n",
        "# Create a based model\n",
        "svc = SVC()\n",
        "# Instantiate the grid search model\n",
        "svc_halving_cv = HalvingGridSearchCV(svc, param_grid_svm, verbose = 2, n_jobs=-1, cv=3)\n",
        "svc_halving_cv.fit(X_train_scaled, y_train)"
      ]
    },
    {
      "cell_type": "code",
      "execution_count": null,
      "metadata": {
        "colab": {
          "base_uri": "https://localhost:8080/"
        },
        "id": "deQa2epaaZIX",
        "outputId": "b235368e-1a96-4c5b-d9a8-b60a77696448"
      },
      "outputs": [
        {
          "output_type": "stream",
          "name": "stdout",
          "text": [
            "Best parmaters for SVM Classifier are: {'C': 1, 'gamma': 0.0001, 'kernel': 'linear'}\n",
            "Accuracy For SVM base model: 0.9960044206409929\n",
            "Accuracy For SVM after Hyperparameter Tuning: 0.9972796055428037\n",
            "Accuracy For SVM Improvement of 99.13%.\n"
          ]
        }
      ],
      "source": [
        "print(\"Best parmaters for SVM Classifier are:\", svc_halving_cv.best_params_)\n",
        "\n",
        "svc_best_grid = svc_halving_cv.best_estimator_\n",
        "svc_grid_accuracy = evaluate(svc_best_grid, X_test_scaled_h1, y_test_Original_Label)\n",
        "\n",
        "# base SVM model\n",
        "svm = SVC()\n",
        "svm.fit(X_train_scaled, y_train)\n",
        "svc_base_accuracy = svm.score(X_test_scaled_h1, y_test_Original_Label)\n",
        "\n",
        "print('Accuracy For SVM base model:', svc_base_accuracy)\n",
        "print('Accuracy For SVM after Hyperparameter Tuning:', svc_grid_accuracy * 0.01)\n",
        "print('Accuracy For SVM Improvement of {:0.2f}%.'.format((svc_grid_accuracy - svc_base_accuracy) / svc_base_accuracy))"
      ]
    },
    {
      "cell_type": "code",
      "execution_count": null,
      "metadata": {
        "colab": {
          "base_uri": "https://localhost:8080/"
        },
        "id": "UISL50WyziKu",
        "outputId": "2c89ce0c-10c9-43f7-c70f-1f2086c65725"
      },
      "outputs": [
        {
          "output_type": "stream",
          "name": "stdout",
          "text": [
            "Accuracy For SVM base model: 0.9960044206409929\n"
          ]
        }
      ],
      "source": [
        "# base SVM model\n",
        "svm = SVC()\n",
        "svm.fit(X_train_scaled, y_train)\n",
        "svc_base_accuracy = svm.score(X_test_scaled_h1, y_test_Original_Label)\n",
        "\n",
        "print('Accuracy For SVM base model:', svc_base_accuracy)"
      ]
    },
    {
      "cell_type": "code",
      "execution_count": null,
      "metadata": {
        "colab": {
          "base_uri": "https://localhost:8080/"
        },
        "id": "nlecauqP0D-d",
        "outputId": "b15e405c-b3d2-416d-8835-fda775a34cc1"
      },
      "outputs": [
        {
          "output_type": "execute_result",
          "data": {
            "text/plain": [
              "0.9960044206409929"
            ]
          },
          "metadata": {},
          "execution_count": 273
        }
      ],
      "source": [
        "y_pred_svm_base = svm.predict(X_test_scaled_h1)\n",
        "svm_base_f1 = metrics.f1_score(y_test_Original_Label, y_pred_svm_base, average='micro')\n",
        "svm_base_f1\n"
      ]
    },
    {
      "cell_type": "code",
      "execution_count": null,
      "metadata": {
        "colab": {
          "base_uri": "https://localhost:8080/"
        },
        "id": "lexATlkhh2wO",
        "outputId": "617fa266-9d09-4bcd-d5f3-55c112859b57"
      },
      "outputs": [
        {
          "output_type": "stream",
          "name": "stdout",
          "text": [
            "F1 Score For SVM after Hyperparameter Tuning: 0.9960044206409929\n",
            "F1 Score For SVM Improvement of 0.00%.\n"
          ]
        }
      ],
      "source": [
        "# F1 score comparison - SVM\n",
        "from sklearn import metrics\n",
        "#svm_base_f1 = metrics.f1_score(y_test, y_pred_svm_base, average='micro')\n",
        "y_pred_svm_grid = svc_halving_cv.predict(X_test_scaled_h1)\n",
        "svm_grid_f1 = metrics.f1_score(y_test_Original_Label, y_pred_svm_grid, average='micro')\n",
        "\n",
        "#print('F1 Score For SVM base model:', svm_base_f1)\n",
        "print('F1 Score For SVM after Hyperparameter Tuning:', svm_grid_f1)\n",
        "print('F1 Score For SVM Improvement of {:0.2f}%.'.format((svm_grid_f1 - svm_base_f1) / svm_base_f1))"
      ]
    },
    {
      "cell_type": "code",
      "execution_count": null,
      "metadata": {
        "colab": {
          "base_uri": "https://localhost:8080/",
          "height": 303
        },
        "id": "P2owqoGAl46M",
        "outputId": "39510525-f541-43df-8435-fc3f09718704"
      },
      "outputs": [
        {
          "output_type": "display_data",
          "data": {
            "text/plain": [
              "<Figure size 432x288 with 2 Axes>"
            ],
            "image/png": "[encoded data removed]"
          },
          "metadata": {
            "needs_background": "light"
          }
        }
      ],
      "source": [
        "svm_matrix_grid = metrics.confusion_matrix(y_test_Original_Label, y_pred_svm_grid)\n",
        "labels = ['True Neg','False Pos','False Neg','True Pos']\n",
        "categories = ['1', '2','3']\n",
        "make_confusion_matrix(svm_matrix_grid, \n",
        "                      group_names=labels,\n",
        "                      categories=categories)"
      ]
    },
    {
      "cell_type": "code",
      "execution_count": null,
      "metadata": {
        "id": "CQcRPXg_hupY"
      },
      "outputs": [],
      "source": [
        "#y_pred_svm_grid2 = svc_halving_cv.predict(X_test_scaled_h1)\n"
      ]
    },
    {
      "cell_type": "markdown",
      "metadata": {
        "id": "hSDe7rABJ58J"
      },
      "source": [
        "## Random Forest"
      ]
    },
    {
      "cell_type": "code",
      "execution_count": null,
      "metadata": {
        "id": "W6xsP5phZvFL"
      },
      "outputs": [],
      "source": [
        "from sklearn.model_selection import HalvingGridSearchCV"
      ]
    },
    {
      "cell_type": "code",
      "execution_count": null,
      "metadata": {
        "colab": {
          "base_uri": "https://localhost:8080/"
        },
        "id": "7lsLXhky52Mk",
        "outputId": "380c71d8-1dea-4a88-f1b2-00d440eb1a78"
      },
      "outputs": [
        {
          "output_type": "stream",
          "name": "stdout",
          "text": [
            "n_iterations: 5\n",
            "n_required_iterations: 5\n",
            "n_possible_iterations: 5\n",
            "min_resources_: 508\n",
            "max_resources_: 41173\n",
            "aggressive_elimination: False\n",
            "factor: 3\n",
            "----------\n",
            "iter: 0\n",
            "n_candidates: 162\n",
            "n_resources: 508\n",
            "Fitting 3 folds for each of 162 candidates, totalling 486 fits\n"
          ]
        },
        {
          "output_type": "stream",
          "name": "stderr",
          "text": [
            "/usr/local/lib/python3.7/dist-packages/sklearn/model_selection/_search.py:972: UserWarning: One or more of the test scores are non-finite: [nan nan nan nan nan nan nan nan nan nan nan nan nan nan nan nan nan nan\n",
            " nan nan nan nan nan nan nan nan nan nan nan nan nan nan nan nan nan nan\n",
            " nan nan nan nan nan nan nan nan nan nan nan nan nan nan nan nan nan nan\n",
            " nan nan nan nan nan nan nan nan nan nan nan nan nan nan nan nan nan nan\n",
            " nan nan nan nan nan nan nan nan nan nan nan nan nan nan nan nan nan nan\n",
            " nan nan nan nan nan nan nan nan nan nan nan nan nan nan nan nan nan nan\n",
            " nan nan nan nan nan nan nan nan nan nan nan nan nan nan nan nan nan nan\n",
            " nan nan nan nan nan nan nan nan nan nan nan nan nan nan nan nan nan nan\n",
            " nan nan nan nan nan nan nan nan nan nan nan nan nan nan nan nan nan nan]\n",
            "  category=UserWarning,\n",
            "/usr/local/lib/python3.7/dist-packages/sklearn/model_selection/_search.py:972: UserWarning: One or more of the train scores are non-finite: [nan nan nan nan nan nan nan nan nan nan nan nan nan nan nan nan nan nan\n",
            " nan nan nan nan nan nan nan nan nan nan nan nan nan nan nan nan nan nan\n",
            " nan nan nan nan nan nan nan nan nan nan nan nan nan nan nan nan nan nan\n",
            " nan nan nan nan nan nan nan nan nan nan nan nan nan nan nan nan nan nan\n",
            " nan nan nan nan nan nan nan nan nan nan nan nan nan nan nan nan nan nan\n",
            " nan nan nan nan nan nan nan nan nan nan nan nan nan nan nan nan nan nan\n",
            " nan nan nan nan nan nan nan nan nan nan nan nan nan nan nan nan nan nan\n",
            " nan nan nan nan nan nan nan nan nan nan nan nan nan nan nan nan nan nan\n",
            " nan nan nan nan nan nan nan nan nan nan nan nan nan nan nan nan nan nan]\n",
            "  category=UserWarning,\n"
          ]
        },
        {
          "output_type": "stream",
          "name": "stdout",
          "text": [
            "----------\n",
            "iter: 1\n",
            "n_candidates: 54\n",
            "n_resources: 1524\n",
            "Fitting 3 folds for each of 54 candidates, totalling 162 fits\n"
          ]
        },
        {
          "output_type": "stream",
          "name": "stderr",
          "text": [
            "/usr/local/lib/python3.7/dist-packages/sklearn/model_selection/_search.py:972: UserWarning: One or more of the test scores are non-finite: [nan nan nan nan nan nan nan nan nan nan nan nan nan nan nan nan nan nan\n",
            " nan nan nan nan nan nan nan nan nan nan nan nan nan nan nan nan nan nan\n",
            " nan nan nan nan nan nan nan nan nan nan nan nan nan nan nan nan nan nan\n",
            " nan nan nan nan nan nan nan nan nan nan nan nan nan nan nan nan nan nan\n",
            " nan nan nan nan nan nan nan nan nan nan nan nan nan nan nan nan nan nan\n",
            " nan nan nan nan nan nan nan nan nan nan nan nan nan nan nan nan nan nan\n",
            " nan nan nan nan nan nan nan nan nan nan nan nan nan nan nan nan nan nan\n",
            " nan nan nan nan nan nan nan nan nan nan nan nan nan nan nan nan nan nan\n",
            " nan nan nan nan nan nan nan nan nan nan nan nan nan nan nan nan nan nan\n",
            " nan nan nan nan nan nan nan nan nan nan nan nan nan nan nan nan nan nan\n",
            " nan nan nan nan nan nan nan nan nan nan nan nan nan nan nan nan nan nan\n",
            " nan nan nan nan nan nan nan nan nan nan nan nan nan nan nan nan nan nan]\n",
            "  category=UserWarning,\n",
            "/usr/local/lib/python3.7/dist-packages/sklearn/model_selection/_search.py:972: UserWarning: One or more of the train scores are non-finite: [nan nan nan nan nan nan nan nan nan nan nan nan nan nan nan nan nan nan\n",
            " nan nan nan nan nan nan nan nan nan nan nan nan nan nan nan nan nan nan\n",
            " nan nan nan nan nan nan nan nan nan nan nan nan nan nan nan nan nan nan\n",
            " nan nan nan nan nan nan nan nan nan nan nan nan nan nan nan nan nan nan\n",
            " nan nan nan nan nan nan nan nan nan nan nan nan nan nan nan nan nan nan\n",
            " nan nan nan nan nan nan nan nan nan nan nan nan nan nan nan nan nan nan\n",
            " nan nan nan nan nan nan nan nan nan nan nan nan nan nan nan nan nan nan\n",
            " nan nan nan nan nan nan nan nan nan nan nan nan nan nan nan nan nan nan\n",
            " nan nan nan nan nan nan nan nan nan nan nan nan nan nan nan nan nan nan\n",
            " nan nan nan nan nan nan nan nan nan nan nan nan nan nan nan nan nan nan\n",
            " nan nan nan nan nan nan nan nan nan nan nan nan nan nan nan nan nan nan\n",
            " nan nan nan nan nan nan nan nan nan nan nan nan nan nan nan nan nan nan]\n",
            "  category=UserWarning,\n"
          ]
        },
        {
          "output_type": "stream",
          "name": "stdout",
          "text": [
            "----------\n",
            "iter: 2\n",
            "n_candidates: 18\n",
            "n_resources: 4572\n",
            "Fitting 3 folds for each of 18 candidates, totalling 54 fits\n"
          ]
        },
        {
          "output_type": "stream",
          "name": "stderr",
          "text": [
            "/usr/local/lib/python3.7/dist-packages/sklearn/model_selection/_search.py:972: UserWarning: One or more of the test scores are non-finite: [nan nan nan nan nan nan nan nan nan nan nan nan nan nan nan nan nan nan\n",
            " nan nan nan nan nan nan nan nan nan nan nan nan nan nan nan nan nan nan\n",
            " nan nan nan nan nan nan nan nan nan nan nan nan nan nan nan nan nan nan\n",
            " nan nan nan nan nan nan nan nan nan nan nan nan nan nan nan nan nan nan\n",
            " nan nan nan nan nan nan nan nan nan nan nan nan nan nan nan nan nan nan\n",
            " nan nan nan nan nan nan nan nan nan nan nan nan nan nan nan nan nan nan\n",
            " nan nan nan nan nan nan nan nan nan nan nan nan nan nan nan nan nan nan\n",
            " nan nan nan nan nan nan nan nan nan nan nan nan nan nan nan nan nan nan\n",
            " nan nan nan nan nan nan nan nan nan nan nan nan nan nan nan nan nan nan\n",
            " nan nan nan nan nan nan nan nan nan nan nan nan nan nan nan nan nan nan\n",
            " nan nan nan nan nan nan nan nan nan nan nan nan nan nan nan nan nan nan\n",
            " nan nan nan nan nan nan nan nan nan nan nan nan nan nan nan nan nan nan\n",
            " nan nan nan nan nan nan nan nan nan nan nan nan nan nan nan nan nan nan]\n",
            "  category=UserWarning,\n",
            "/usr/local/lib/python3.7/dist-packages/sklearn/model_selection/_search.py:972: UserWarning: One or more of the train scores are non-finite: [nan nan nan nan nan nan nan nan nan nan nan nan nan nan nan nan nan nan\n",
            " nan nan nan nan nan nan nan nan nan nan nan nan nan nan nan nan nan nan\n",
            " nan nan nan nan nan nan nan nan nan nan nan nan nan nan nan nan nan nan\n",
            " nan nan nan nan nan nan nan nan nan nan nan nan nan nan nan nan nan nan\n",
            " nan nan nan nan nan nan nan nan nan nan nan nan nan nan nan nan nan nan\n",
            " nan nan nan nan nan nan nan nan nan nan nan nan nan nan nan nan nan nan\n",
            " nan nan nan nan nan nan nan nan nan nan nan nan nan nan nan nan nan nan\n",
            " nan nan nan nan nan nan nan nan nan nan nan nan nan nan nan nan nan nan\n",
            " nan nan nan nan nan nan nan nan nan nan nan nan nan nan nan nan nan nan\n",
            " nan nan nan nan nan nan nan nan nan nan nan nan nan nan nan nan nan nan\n",
            " nan nan nan nan nan nan nan nan nan nan nan nan nan nan nan nan nan nan\n",
            " nan nan nan nan nan nan nan nan nan nan nan nan nan nan nan nan nan nan\n",
            " nan nan nan nan nan nan nan nan nan nan nan nan nan nan nan nan nan nan]\n",
            "  category=UserWarning,\n"
          ]
        },
        {
          "output_type": "stream",
          "name": "stdout",
          "text": [
            "----------\n",
            "iter: 3\n",
            "n_candidates: 6\n",
            "n_resources: 13716\n",
            "Fitting 3 folds for each of 6 candidates, totalling 18 fits\n"
          ]
        },
        {
          "output_type": "stream",
          "name": "stderr",
          "text": [
            "/usr/local/lib/python3.7/dist-packages/sklearn/model_selection/_search.py:972: UserWarning: One or more of the test scores are non-finite: [nan nan nan nan nan nan nan nan nan nan nan nan nan nan nan nan nan nan\n",
            " nan nan nan nan nan nan nan nan nan nan nan nan nan nan nan nan nan nan\n",
            " nan nan nan nan nan nan nan nan nan nan nan nan nan nan nan nan nan nan\n",
            " nan nan nan nan nan nan nan nan nan nan nan nan nan nan nan nan nan nan\n",
            " nan nan nan nan nan nan nan nan nan nan nan nan nan nan nan nan nan nan\n",
            " nan nan nan nan nan nan nan nan nan nan nan nan nan nan nan nan nan nan\n",
            " nan nan nan nan nan nan nan nan nan nan nan nan nan nan nan nan nan nan\n",
            " nan nan nan nan nan nan nan nan nan nan nan nan nan nan nan nan nan nan\n",
            " nan nan nan nan nan nan nan nan nan nan nan nan nan nan nan nan nan nan\n",
            " nan nan nan nan nan nan nan nan nan nan nan nan nan nan nan nan nan nan\n",
            " nan nan nan nan nan nan nan nan nan nan nan nan nan nan nan nan nan nan\n",
            " nan nan nan nan nan nan nan nan nan nan nan nan nan nan nan nan nan nan\n",
            " nan nan nan nan nan nan nan nan nan nan nan nan nan nan nan nan nan nan\n",
            " nan nan nan nan nan nan]\n",
            "  category=UserWarning,\n",
            "/usr/local/lib/python3.7/dist-packages/sklearn/model_selection/_search.py:972: UserWarning: One or more of the train scores are non-finite: [nan nan nan nan nan nan nan nan nan nan nan nan nan nan nan nan nan nan\n",
            " nan nan nan nan nan nan nan nan nan nan nan nan nan nan nan nan nan nan\n",
            " nan nan nan nan nan nan nan nan nan nan nan nan nan nan nan nan nan nan\n",
            " nan nan nan nan nan nan nan nan nan nan nan nan nan nan nan nan nan nan\n",
            " nan nan nan nan nan nan nan nan nan nan nan nan nan nan nan nan nan nan\n",
            " nan nan nan nan nan nan nan nan nan nan nan nan nan nan nan nan nan nan\n",
            " nan nan nan nan nan nan nan nan nan nan nan nan nan nan nan nan nan nan\n",
            " nan nan nan nan nan nan nan nan nan nan nan nan nan nan nan nan nan nan\n",
            " nan nan nan nan nan nan nan nan nan nan nan nan nan nan nan nan nan nan\n",
            " nan nan nan nan nan nan nan nan nan nan nan nan nan nan nan nan nan nan\n",
            " nan nan nan nan nan nan nan nan nan nan nan nan nan nan nan nan nan nan\n",
            " nan nan nan nan nan nan nan nan nan nan nan nan nan nan nan nan nan nan\n",
            " nan nan nan nan nan nan nan nan nan nan nan nan nan nan nan nan nan nan\n",
            " nan nan nan nan nan nan]\n",
            "  category=UserWarning,\n"
          ]
        },
        {
          "output_type": "stream",
          "name": "stdout",
          "text": [
            "----------\n",
            "iter: 4\n",
            "n_candidates: 2\n",
            "n_resources: 41148\n",
            "Fitting 3 folds for each of 2 candidates, totalling 6 fits\n"
          ]
        },
        {
          "output_type": "stream",
          "name": "stderr",
          "text": [
            "/usr/local/lib/python3.7/dist-packages/sklearn/model_selection/_search.py:972: UserWarning: One or more of the test scores are non-finite: [nan nan nan nan nan nan nan nan nan nan nan nan nan nan nan nan nan nan\n",
            " nan nan nan nan nan nan nan nan nan nan nan nan nan nan nan nan nan nan\n",
            " nan nan nan nan nan nan nan nan nan nan nan nan nan nan nan nan nan nan\n",
            " nan nan nan nan nan nan nan nan nan nan nan nan nan nan nan nan nan nan\n",
            " nan nan nan nan nan nan nan nan nan nan nan nan nan nan nan nan nan nan\n",
            " nan nan nan nan nan nan nan nan nan nan nan nan nan nan nan nan nan nan\n",
            " nan nan nan nan nan nan nan nan nan nan nan nan nan nan nan nan nan nan\n",
            " nan nan nan nan nan nan nan nan nan nan nan nan nan nan nan nan nan nan\n",
            " nan nan nan nan nan nan nan nan nan nan nan nan nan nan nan nan nan nan\n",
            " nan nan nan nan nan nan nan nan nan nan nan nan nan nan nan nan nan nan\n",
            " nan nan nan nan nan nan nan nan nan nan nan nan nan nan nan nan nan nan\n",
            " nan nan nan nan nan nan nan nan nan nan nan nan nan nan nan nan nan nan\n",
            " nan nan nan nan nan nan nan nan nan nan nan nan nan nan nan nan nan nan\n",
            " nan nan nan nan nan nan nan nan]\n",
            "  category=UserWarning,\n",
            "/usr/local/lib/python3.7/dist-packages/sklearn/model_selection/_search.py:972: UserWarning: One or more of the train scores are non-finite: [nan nan nan nan nan nan nan nan nan nan nan nan nan nan nan nan nan nan\n",
            " nan nan nan nan nan nan nan nan nan nan nan nan nan nan nan nan nan nan\n",
            " nan nan nan nan nan nan nan nan nan nan nan nan nan nan nan nan nan nan\n",
            " nan nan nan nan nan nan nan nan nan nan nan nan nan nan nan nan nan nan\n",
            " nan nan nan nan nan nan nan nan nan nan nan nan nan nan nan nan nan nan\n",
            " nan nan nan nan nan nan nan nan nan nan nan nan nan nan nan nan nan nan\n",
            " nan nan nan nan nan nan nan nan nan nan nan nan nan nan nan nan nan nan\n",
            " nan nan nan nan nan nan nan nan nan nan nan nan nan nan nan nan nan nan\n",
            " nan nan nan nan nan nan nan nan nan nan nan nan nan nan nan nan nan nan\n",
            " nan nan nan nan nan nan nan nan nan nan nan nan nan nan nan nan nan nan\n",
            " nan nan nan nan nan nan nan nan nan nan nan nan nan nan nan nan nan nan\n",
            " nan nan nan nan nan nan nan nan nan nan nan nan nan nan nan nan nan nan\n",
            " nan nan nan nan nan nan nan nan nan nan nan nan nan nan nan nan nan nan\n",
            " nan nan nan nan nan nan nan nan]\n",
            "  category=UserWarning,\n"
          ]
        },
        {
          "output_type": "execute_result",
          "data": {
            "text/plain": [
              "HalvingGridSearchCV(cv=3, estimator=RandomForestClassifier(), n_jobs=-1,\n",
              "                    param_grid={'bootstrap': [True], 'max_depth': [10, 20, 30],\n",
              "                                'max_features': [2, 3],\n",
              "                                'min_samples_leaf': [3, 4, 5],\n",
              "                                'min_samples_split': [8, 10, 12],\n",
              "                                'n_estimators': [15, 20, 50]},\n",
              "                    scoring='roc_auc', verbose=2)"
            ]
          },
          "metadata": {},
          "execution_count": 276
        }
      ],
      "source": [
        "\n",
        "# Create the parameter grid based on the results of random search \n",
        "param_grid = {\n",
        "    'bootstrap': [True],\n",
        "    'max_depth': [10, 20, 30],\n",
        "    'max_features': [2, 3],\n",
        "    'min_samples_leaf': [3, 4, 5],\n",
        "    'min_samples_split': [8, 10, 12],\n",
        "    'n_estimators': [15, 20, 50]\n",
        "}\n",
        "# Create a based model\n",
        "rf = RandomForestClassifier()\n",
        "# Instantiate the grid search model\n",
        "# grid_search = GridSearchCV(estimator = rf, param_grid = param_grid, \n",
        "                          # cv = 3, n_jobs = -1, verbose = 2)\n",
        "rf_halving_cv = HalvingGridSearchCV(rf, param_grid, scoring=\"roc_auc\", verbose = 2, n_jobs=-1, cv=3)\n",
        "rf_halving_cv.fit(X_train, y_train)"
      ]
    },
    {
      "cell_type": "code",
      "execution_count": null,
      "metadata": {
        "colab": {
          "base_uri": "https://localhost:8080/"
        },
        "id": "kgtWmG50Up2o",
        "outputId": "51f92133-8545-42be-a348-0f40cc6d5637"
      },
      "outputs": [
        {
          "output_type": "stream",
          "name": "stdout",
          "text": [
            "Best parmaters for Random Forests are: {'bootstrap': True, 'max_depth': 10, 'max_features': 3, 'min_samples_leaf': 4, 'min_samples_split': 10, 'n_estimators': 15}\n",
            "Accuracy For Random Forest base model: 99.40916432882769\n",
            "Accuracy For Random Forest after Hyperparameter Tuning: 98.00787780894896\n",
            "Accuracy For Random Forest Improvement of -1.41%.\n"
          ]
        }
      ],
      "source": [
        "from sklearn import metrics\n",
        "print(\"Best parmaters for Random Forests are:\", rf_halving_cv.best_params_)\n",
        "rf_best_grid = rf_halving_cv.best_estimator_\n",
        "rf_grid_accuracy = evaluate(rf_best_grid, X_test_Original_Label, y_test_Original_Label)\n",
        "\n",
        "# base Random Forest model\n",
        "rf_base_model = RandomForestClassifier(n_estimators = 10, random_state = 0)\n",
        "rf_base_model.fit(X_train, y_train)\n",
        "rf_base_accuracy = evaluate(rf_base_model, X_test_Original_Label, y_test_Original_Label)\n",
        "\n",
        "print('Accuracy For Random Forest base model:', rf_base_accuracy)\n",
        "print('Accuracy For Random Forest after Hyperparameter Tuning:', rf_grid_accuracy)\n",
        "print('Accuracy For Random Forest Improvement of {:0.2f}%.'.format(100 * (rf_grid_accuracy - rf_base_accuracy) / rf_base_accuracy))"
      ]
    },
    {
      "cell_type": "code",
      "execution_count": null,
      "metadata": {
        "colab": {
          "base_uri": "https://localhost:8080/"
        },
        "id": "kvCVg9_Nil2n",
        "outputId": "39601b02-ba99-40d5-cddc-1f7132b9f10a"
      },
      "outputs": [
        {
          "output_type": "stream",
          "name": "stdout",
          "text": [
            "F1 Score For Random Forest base model: 0.9883533112301284\n",
            "F1 Score For Random Forest after Hyperparameter Tuning: 0.9671002295332825\n",
            "F1 Score For Random Forest Improvement of -2.15%.\n"
          ]
        }
      ],
      "source": [
        "# F1 score comparison - Random Forest\n",
        "from sklearn import metrics\n",
        "y_pred_rf = rf_base_model.predict(X_test_Original_Label)\n",
        "rf_base_f1 = metrics.f1_score(y_test_Original_Label, y_pred_rf, average = 'micro')\n",
        "y_pred_rf_grid = rf_halving_cv.predict(X_test_Original_Label)\n",
        "rf_grid_f1 = metrics.f1_score(y_test_Original_Label, y_pred_rf_grid, average = 'micro')\n",
        "\n",
        "print('F1 Score For Random Forest base model:', rf_base_f1)\n",
        "print('F1 Score For Random Forest after Hyperparameter Tuning:', rf_grid_f1)\n",
        "print('F1 Score For Random Forest Improvement of {:0.2f}%.'.format(100 * (rf_grid_f1 - rf_base_f1) / rf_base_f1))"
      ]
    },
    {
      "cell_type": "code",
      "execution_count": null,
      "metadata": {
        "colab": {
          "base_uri": "https://localhost:8080/"
        },
        "id": "K76P8Fzmh-rp",
        "outputId": "f26e0bb1-c059-41ea-e908-1000212728be"
      },
      "outputs": [
        {
          "name": "stderr",
          "output_type": "stream",
          "text": [
            "/usr/local/lib/python3.7/dist-packages/sklearn/base.py:451: UserWarning: X does not have valid feature names, but RandomForestClassifier was fitted with feature names\n",
            "  \"X does not have valid feature names, but\"\n"
          ]
        }
      ],
      "source": [
        "#y_pred_rf_grid2 = rf_halving_cv.predict(X_test_h1)\n"
      ]
    },
    {
      "cell_type": "markdown",
      "metadata": {
        "id": "Y5nxFcLgZTD5"
      },
      "source": [
        "## Feature Importance - dont run"
      ]
    },
    {
      "cell_type": "code",
      "execution_count": null,
      "metadata": {
        "colab": {
          "base_uri": "https://localhost:8080/",
          "height": 462
        },
        "id": "q53lNkJAUGzX",
        "outputId": "4401746b-818a-49aa-e448-d7336e28bf00"
      },
      "outputs": [
        {
          "data": {
            "text/plain": [
              "Text(0.5, 1.0, 'Feature Importance Ranking')"
            ]
          },
          "execution_count": 335,
          "metadata": {},
          "output_type": "execute_result"
        },
        {
          "data": {
            "image/png": "[encoded data removed]",
            "text/plain": [
              "<Figure size 640x480 with 1 Axes>"
            ]
          },
          "metadata": {},
          "output_type": "display_data"
        }
      ],
      "source": [
        "# feature importance\n",
        "\n",
        "from sklearn.inspection import permutation_importance\n",
        "from matplotlib import pyplot as plt\n",
        "\n",
        "from matplotlib.pyplot import figure\n",
        "\n",
        "figure(figsize=(8, 6), dpi=80)\n",
        "\n",
        "sort = rf_base_model.feature_importances_.argsort()\n",
        "plt.barh(X_train_w_col.columns[sort], rf_base_model.feature_importances_[sort])\n",
        "plt.xlabel(\"Feature Importance\")\n",
        "plt.title(\"Feature Importance Ranking\")"
      ]
    },
    {
      "cell_type": "code",
      "execution_count": null,
      "metadata": {
        "colab": {
          "base_uri": "https://localhost:8080/",
          "height": 303
        },
        "id": "SXijrcD1mYmt",
        "outputId": "95f5b277-0c60-4810-ec63-5dbc2c409c44"
      },
      "outputs": [
        {
          "data": {
            "image/png": "[encoded data removed]",
            "text/plain": [
              "<Figure size 432x288 with 2 Axes>"
            ]
          },
          "metadata": {},
          "output_type": "display_data"
        }
      ],
      "source": [
        "rf_matrix_grid = metrics.confusion_matrix(y_test_Original_Label, y_pred_rf_grid)\n",
        "labels = ['True Neg','False Pos','False Neg','True Pos']\n",
        "categories = ['1', '2','3']\n",
        "make_confusion_matrix(rf_matrix_grid, \n",
        "                      group_names=labels,\n",
        "                      categories=categories)"
      ]
    },
    {
      "cell_type": "markdown",
      "metadata": {
        "id": "LPy4JW17KToE"
      },
      "source": [
        "## Summarize Metrics"
      ]
    },
    {
      "cell_type": "code",
      "execution_count": null,
      "metadata": {
        "id": "zoFYH_joxU6q"
      },
      "outputs": [],
      "source": [
        "import scikitplot as skplt\n",
        "\n",
        "import sklearn\n",
        "\n"
      ]
    },
    {
      "cell_type": "code",
      "execution_count": null,
      "metadata": {
        "colab": {
          "base_uri": "https://localhost:8080/"
        },
        "id": "u7IEupMfu5UG",
        "outputId": "456801da-02a3-453b-9cbf-e75caddd8069"
      },
      "outputs": [
        {
          "name": "stderr",
          "output_type": "stream",
          "text": [
            "/usr/local/lib/python3.7/dist-packages/sklearn/linear_model/_logistic.py:818: ConvergenceWarning: lbfgs failed to converge (status=1):\n",
            "STOP: TOTAL NO. of ITERATIONS REACHED LIMIT.\n",
            "\n",
            "Increase the number of iterations (max_iter) or scale the data as shown in:\n",
            "    https://scikit-learn.org/stable/modules/preprocessing.html\n",
            "Please also refer to the documentation for alternative solver options:\n",
            "    https://scikit-learn.org/stable/modules/linear_model.html#logistic-regression\n",
            "  extra_warning_msg=_LOGISTIC_SOLVER_CONVERGENCE_MSG,\n"
          ]
        }
      ],
      "source": [
        "lr_probas = lr.fit(X_train_scaled, y_train).predict_proba(X_test_scaled)\n",
        "gnb_probas = gnb.fit(X_train_scaled, y_train).predict_proba(X_test_scaled)\n",
        "knn_probas = knn.fit(X_train_scaled,y_train).predict_proba(X_test_scaled)\n",
        "##et_scores = ExtraTreesClassifier().fit(X_cancer_train, Y_cancer_train).predict_proba(X_cancer_test)\n",
        "\n",
        "probas_list = [lr_probas, gnb_probas, knn_probas]\n",
        "clf_names = ['Logistic Regression', 'GNB', 'KNN']"
      ]
    },
    {
      "cell_type": "code",
      "execution_count": null,
      "metadata": {
        "id": "O_5yBRQ0yY7T"
      },
      "outputs": [],
      "source": []
    },
    {
      "cell_type": "markdown",
      "metadata": {
        "id": "hbM-O35wyZcB"
      },
      "source": [
        "F1"
      ]
    },
    {
      "cell_type": "code",
      "execution_count": null,
      "metadata": {
        "id": "THSeJr32x_Lb"
      },
      "outputs": [],
      "source": [
        "#Logistric Regression\n",
        "lr_f1= round(metrics.f1_score(y_test_Original_Label, y_pred_lr_1, average='micro'),2)\n",
        "\n",
        "#GNB\n",
        "gnb_f1 = round(metrics.f1_score(y_test_Original_Label, y_pred_gnb, average='micro'),2)\n",
        "\n",
        "#knn\n",
        "knn_f1 = round(metrics.f1_score(y_test_Original_Label, y_pred_knn, average='micro'),2)\n",
        "\n",
        "#svm base for now due to the running time\n",
        "svm_grid_f1 = round(metrics.f1_score(y_test_Original_Label, y_pred_svm_grid, average='micro') ,2)\n",
        "\n",
        "#random forest\n",
        "rf_grid_f1 = round(metrics.f1_score(y_test_Original_Label, y_pred_rf_grid, average = 'micro'),2)\n"
      ]
    },
    {
      "cell_type": "code",
      "execution_count": null,
      "metadata": {
        "colab": {
          "base_uri": "https://localhost:8080/"
        },
        "id": "L9H6kEuA2sY6",
        "outputId": "8765ec80-c153-4be4-8455-0f9828431e67"
      },
      "outputs": [
        {
          "output_type": "execute_result",
          "data": {
            "text/plain": [
              "0.8"
            ]
          },
          "metadata": {},
          "execution_count": 280
        }
      ],
      "source": [
        "lr_f1"
      ]
    },
    {
      "cell_type": "code",
      "execution_count": null,
      "metadata": {
        "id": "PqlpSJqH0M7j"
      },
      "outputs": [],
      "source": [
        "f1_list = [lr_f1, gnb_f1, knn_f1,svm_grid_f1,rf_grid_f1]\n",
        "clf_names = ['Logistic Regression', 'GNB', 'KNN','SVM','Random Forest']"
      ]
    },
    {
      "cell_type": "code",
      "execution_count": null,
      "metadata": {
        "colab": {
          "base_uri": "https://localhost:8080/"
        },
        "id": "Pa2PtKb106iL",
        "outputId": "4a8514a5-8a39-497f-b5e2-5e76fc301cfe"
      },
      "outputs": [
        {
          "output_type": "stream",
          "name": "stdout",
          "text": [
            "[0.8, 0.99, 0.69, 1.0, 0.97]\n"
          ]
        }
      ],
      "source": [
        "print(f1_list)"
      ]
    },
    {
      "cell_type": "code",
      "execution_count": null,
      "metadata": {
        "id": "K_q6BGti2AyB"
      },
      "outputs": [],
      "source": [
        "def addlabels(x,y):\n",
        "    for i in range(len(x)):\n",
        "        plt.text(i,y[i],y[i])"
      ]
    },
    {
      "cell_type": "code",
      "execution_count": null,
      "metadata": {
        "colab": {
          "base_uri": "https://localhost:8080/",
          "height": 295
        },
        "id": "ATkWxvap1Ie2",
        "outputId": "e3fa962b-9652-4522-95a6-522d7f2d0ef8"
      },
      "outputs": [
        {
          "output_type": "display_data",
          "data": {
            "text/plain": [
              "<Figure size 432x288 with 1 Axes>"
            ],
            "image/png": "[encoded data removed]"
          },
          "metadata": {
            "needs_background": "light"
          }
        }
      ],
      "source": [
        "if __name__ == '__main__':\n",
        "    # creating data on which bar chart will be plot\n",
        "    x = clf_names\n",
        "    y = f1_list\n",
        "      \n",
        "    # making the bar chart on the data\n",
        "    plt.bar(x, y)\n",
        "      \n",
        "    # calling the function to add value labels\n",
        "    addlabels(x, y)\n",
        "      \n",
        "    # giving title to the plot\n",
        "    plt.title(\"F1 Score Comparison Among Baseline Models\")\n",
        "      \n",
        "    # giving X and Y labels\n",
        "    plt.xlabel(\"Model Name\")\n",
        "    plt.ylabel(\"F1 Scores\")\n",
        "      \n",
        "    # visualizing the plot\n",
        "    plt.show()"
      ]
    }
  ],
  "metadata": {
    "colab": {
      "collapsed_sections": [
        "qRAxgwfrCFkI",
        "fxyLRc0hHZjC",
        "E8WRJxi1HfQy",
        "m5bjxBfpIH2a",
        "CooVEX97JGTH",
        "HM--JG4vLtHF",
        "A7u8Rk8gR7Tg",
        "JnLp9qD6Vtss",
        "B6J-FKxsW389",
        "Yd3OPltoYfwJ",
        "bh-5xmD6YreB",
        "4GTZ2Ei4Y8c2",
        "dqxmRAx_Z_Zj",
        "aQq_JK4dbXwG",
        "O8UBMYWPbxvJ",
        "jtM1c3A1dQ8N",
        "3BfNLLkod_mX",
        "rp5p_7TqeQOO",
        "WBTnEGEZgDig",
        "m0kfPxbhgNaH",
        "9Zh_C2EmgbIH",
        "SfznSWbzg49U",
        "VIF0ZsyNhrfX",
        "TGyAQiZnv5BL",
        "Nhp5-P8bnIwO",
        "-6_nSZejszPh",
        "YcEpFmtot7v7",
        "37789e6IwiIi",
        "GNlGYwKQxrxy",
        "hH0CTZTYyagd",
        "RF-G3OOGzYpL",
        "4XWUrlvq0_Ku",
        "PMvSFcO62MzS",
        "UKn3a5Yv4l9P",
        "6BYtF9mPfcVJ",
        "8PnSMnt8KOYM",
        "D8MpnJI1wbbU",
        "DjhFw_XOwdzL",
        "fCLI_ITpxnHr",
        "ABmQcbcdx13P",
        "JC-gy6ur4xv8",
        "VIorrlJOLBJO",
        "WcaH4XPZJIGh",
        "xXsDZapHZN2T",
        "JVbvQSSAg0bz",
        "8FIFx147j2fE",
        "dOjdWIgfKAmy",
        "aVCw5FciL9qp",
        "r_QjFMY2oSg7",
        "TkpeL3ow46LQ",
        "hSDe7rABJ58J",
        "Y5nxFcLgZTD5",
        "LPy4JW17KToE"
      ],
      "provenance": [],
      "include_colab_link": true
    },
    "kernelspec": {
      "display_name": "Python 3",
      "name": "python3"
    },
    "language_info": {
      "name": "python"
    }
  },
  "nbformat": 4,
  "nbformat_minor": 0
}